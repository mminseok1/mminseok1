{
  "cells": [
    {
      "cell_type": "markdown",
      "metadata": {
        "id": "yB5kAo_uYvDG"
      },
      "source": [
        "#이진분류"
      ]
    },
    {
      "cell_type": "code",
      "execution_count": 1,
      "metadata": {
        "id": "Uf5o_aTqYyme"
      },
      "outputs": [],
      "source": [
        "import numpy as np\n",
        "import pandas as pd\n",
        "import matplotlib.pyplot as plt"
      ]
    },
    {
      "cell_type": "code",
      "execution_count": null,
      "metadata": {
        "id": "eutENqgcBlrP"
      },
      "outputs": [],
      "source": []
    },
    {
      "cell_type": "code",
      "execution_count": 3,
      "metadata": {
        "id": "zIhxDtDZY4Q5"
      },
      "outputs": [],
      "source": [
        "import tensorflow as tf"
      ]
    },
    {
      "cell_type": "code",
      "execution_count": 4,
      "metadata": {
        "colab": {
          "base_uri": "https://localhost:8080/"
        },
        "id": "pXQHQ430Y7CB",
        "outputId": "ed79a4a1-b68f-4d09-fe50-39b9a80d172a"
      },
      "outputs": [
        {
          "name": "stdout",
          "output_type": "stream",
          "text": [
            "Downloading...\n",
            "From: https://raw.githubusercontent.com/devdio/flyai_datasets/main/diabetes.csv\n",
            "To: /content/diabetes.csv\n",
            "\r  0% 0.00/8.87k [00:00<?, ?B/s]\r23.9kB [00:00, 51.5MB/s]       \n"
          ]
        }
      ],
      "source": [
        "!gdown https://raw.githubusercontent.com/devdio/flyai_datasets/main/diabetes.csv"
      ]
    },
    {
      "cell_type": "code",
      "execution_count": 5,
      "metadata": {
        "id": "9dmgC1VqZPOb"
      },
      "outputs": [],
      "source": [
        "diabetes = pd.read_csv('diabetes.csv')"
      ]
    },
    {
      "cell_type": "code",
      "execution_count": 58,
      "metadata": {
        "colab": {
          "base_uri": "https://localhost:8080/",
          "height": 424
        },
        "id": "fc6CNMEkZXSp",
        "outputId": "e7599d86-856f-4e2e-a320-f4dbc21c02e1"
      },
      "outputs": [
        {
          "data": {
            "text/html": [
              "\n",
              "  <div id=\"df-a2d251f0-4b09-4eac-90ab-f5eca21cfd4b\">\n",
              "    <div class=\"colab-df-container\">\n",
              "      <div>\n",
              "<style scoped>\n",
              "    .dataframe tbody tr th:only-of-type {\n",
              "        vertical-align: middle;\n",
              "    }\n",
              "\n",
              "    .dataframe tbody tr th {\n",
              "        vertical-align: top;\n",
              "    }\n",
              "\n",
              "    .dataframe thead th {\n",
              "        text-align: right;\n",
              "    }\n",
              "</style>\n",
              "<table border=\"1\" class=\"dataframe\">\n",
              "  <thead>\n",
              "    <tr style=\"text-align: right;\">\n",
              "      <th></th>\n",
              "      <th>Pregnancies</th>\n",
              "      <th>Glucose</th>\n",
              "      <th>BloodPressure</th>\n",
              "      <th>SkinThickness</th>\n",
              "      <th>Insulin</th>\n",
              "      <th>BMI</th>\n",
              "      <th>DiabetesPedigreeFunction</th>\n",
              "      <th>Age</th>\n",
              "      <th>Outcome</th>\n",
              "    </tr>\n",
              "  </thead>\n",
              "  <tbody>\n",
              "    <tr>\n",
              "      <th>0</th>\n",
              "      <td>6</td>\n",
              "      <td>148.0</td>\n",
              "      <td>72.0</td>\n",
              "      <td>35.00000</td>\n",
              "      <td>155.548223</td>\n",
              "      <td>33.6</td>\n",
              "      <td>0.627</td>\n",
              "      <td>50</td>\n",
              "      <td>1</td>\n",
              "    </tr>\n",
              "    <tr>\n",
              "      <th>1</th>\n",
              "      <td>1</td>\n",
              "      <td>85.0</td>\n",
              "      <td>66.0</td>\n",
              "      <td>29.00000</td>\n",
              "      <td>155.548223</td>\n",
              "      <td>26.6</td>\n",
              "      <td>0.351</td>\n",
              "      <td>31</td>\n",
              "      <td>0</td>\n",
              "    </tr>\n",
              "    <tr>\n",
              "      <th>2</th>\n",
              "      <td>8</td>\n",
              "      <td>183.0</td>\n",
              "      <td>64.0</td>\n",
              "      <td>29.15342</td>\n",
              "      <td>155.548223</td>\n",
              "      <td>23.3</td>\n",
              "      <td>0.672</td>\n",
              "      <td>32</td>\n",
              "      <td>1</td>\n",
              "    </tr>\n",
              "    <tr>\n",
              "      <th>3</th>\n",
              "      <td>1</td>\n",
              "      <td>89.0</td>\n",
              "      <td>66.0</td>\n",
              "      <td>23.00000</td>\n",
              "      <td>94.000000</td>\n",
              "      <td>28.1</td>\n",
              "      <td>0.167</td>\n",
              "      <td>21</td>\n",
              "      <td>0</td>\n",
              "    </tr>\n",
              "    <tr>\n",
              "      <th>4</th>\n",
              "      <td>0</td>\n",
              "      <td>137.0</td>\n",
              "      <td>40.0</td>\n",
              "      <td>35.00000</td>\n",
              "      <td>168.000000</td>\n",
              "      <td>43.1</td>\n",
              "      <td>2.288</td>\n",
              "      <td>33</td>\n",
              "      <td>1</td>\n",
              "    </tr>\n",
              "    <tr>\n",
              "      <th>...</th>\n",
              "      <td>...</td>\n",
              "      <td>...</td>\n",
              "      <td>...</td>\n",
              "      <td>...</td>\n",
              "      <td>...</td>\n",
              "      <td>...</td>\n",
              "      <td>...</td>\n",
              "      <td>...</td>\n",
              "      <td>...</td>\n",
              "    </tr>\n",
              "    <tr>\n",
              "      <th>763</th>\n",
              "      <td>10</td>\n",
              "      <td>101.0</td>\n",
              "      <td>76.0</td>\n",
              "      <td>48.00000</td>\n",
              "      <td>180.000000</td>\n",
              "      <td>32.9</td>\n",
              "      <td>0.171</td>\n",
              "      <td>63</td>\n",
              "      <td>0</td>\n",
              "    </tr>\n",
              "    <tr>\n",
              "      <th>764</th>\n",
              "      <td>2</td>\n",
              "      <td>122.0</td>\n",
              "      <td>70.0</td>\n",
              "      <td>27.00000</td>\n",
              "      <td>155.548223</td>\n",
              "      <td>36.8</td>\n",
              "      <td>0.340</td>\n",
              "      <td>27</td>\n",
              "      <td>0</td>\n",
              "    </tr>\n",
              "    <tr>\n",
              "      <th>765</th>\n",
              "      <td>5</td>\n",
              "      <td>121.0</td>\n",
              "      <td>72.0</td>\n",
              "      <td>23.00000</td>\n",
              "      <td>112.000000</td>\n",
              "      <td>26.2</td>\n",
              "      <td>0.245</td>\n",
              "      <td>30</td>\n",
              "      <td>0</td>\n",
              "    </tr>\n",
              "    <tr>\n",
              "      <th>766</th>\n",
              "      <td>1</td>\n",
              "      <td>126.0</td>\n",
              "      <td>60.0</td>\n",
              "      <td>29.15342</td>\n",
              "      <td>155.548223</td>\n",
              "      <td>30.1</td>\n",
              "      <td>0.349</td>\n",
              "      <td>47</td>\n",
              "      <td>1</td>\n",
              "    </tr>\n",
              "    <tr>\n",
              "      <th>767</th>\n",
              "      <td>1</td>\n",
              "      <td>93.0</td>\n",
              "      <td>70.0</td>\n",
              "      <td>31.00000</td>\n",
              "      <td>155.548223</td>\n",
              "      <td>30.4</td>\n",
              "      <td>0.315</td>\n",
              "      <td>23</td>\n",
              "      <td>0</td>\n",
              "    </tr>\n",
              "  </tbody>\n",
              "</table>\n",
              "<p>768 rows × 9 columns</p>\n",
              "</div>\n",
              "      <button class=\"colab-df-convert\" onclick=\"convertToInteractive('df-a2d251f0-4b09-4eac-90ab-f5eca21cfd4b')\"\n",
              "              title=\"Convert this dataframe to an interactive table.\"\n",
              "              style=\"display:none;\">\n",
              "        \n",
              "  <svg xmlns=\"http://www.w3.org/2000/svg\" height=\"24px\"viewBox=\"0 0 24 24\"\n",
              "       width=\"24px\">\n",
              "    <path d=\"M0 0h24v24H0V0z\" fill=\"none\"/>\n",
              "    <path d=\"M18.56 5.44l.94 2.06.94-2.06 2.06-.94-2.06-.94-.94-2.06-.94 2.06-2.06.94zm-11 1L8.5 8.5l.94-2.06 2.06-.94-2.06-.94L8.5 2.5l-.94 2.06-2.06.94zm10 10l.94 2.06.94-2.06 2.06-.94-2.06-.94-.94-2.06-.94 2.06-2.06.94z\"/><path d=\"M17.41 7.96l-1.37-1.37c-.4-.4-.92-.59-1.43-.59-.52 0-1.04.2-1.43.59L10.3 9.45l-7.72 7.72c-.78.78-.78 2.05 0 2.83L4 21.41c.39.39.9.59 1.41.59.51 0 1.02-.2 1.41-.59l7.78-7.78 2.81-2.81c.8-.78.8-2.07 0-2.86zM5.41 20L4 18.59l7.72-7.72 1.47 1.35L5.41 20z\"/>\n",
              "  </svg>\n",
              "      </button>\n",
              "      \n",
              "  <style>\n",
              "    .colab-df-container {\n",
              "      display:flex;\n",
              "      flex-wrap:wrap;\n",
              "      gap: 12px;\n",
              "    }\n",
              "\n",
              "    .colab-df-convert {\n",
              "      background-color: #E8F0FE;\n",
              "      border: none;\n",
              "      border-radius: 50%;\n",
              "      cursor: pointer;\n",
              "      display: none;\n",
              "      fill: #1967D2;\n",
              "      height: 32px;\n",
              "      padding: 0 0 0 0;\n",
              "      width: 32px;\n",
              "    }\n",
              "\n",
              "    .colab-df-convert:hover {\n",
              "      background-color: #E2EBFA;\n",
              "      box-shadow: 0px 1px 2px rgba(60, 64, 67, 0.3), 0px 1px 3px 1px rgba(60, 64, 67, 0.15);\n",
              "      fill: #174EA6;\n",
              "    }\n",
              "\n",
              "    [theme=dark] .colab-df-convert {\n",
              "      background-color: #3B4455;\n",
              "      fill: #D2E3FC;\n",
              "    }\n",
              "\n",
              "    [theme=dark] .colab-df-convert:hover {\n",
              "      background-color: #434B5C;\n",
              "      box-shadow: 0px 1px 3px 1px rgba(0, 0, 0, 0.15);\n",
              "      filter: drop-shadow(0px 1px 2px rgba(0, 0, 0, 0.3));\n",
              "      fill: #FFFFFF;\n",
              "    }\n",
              "  </style>\n",
              "\n",
              "      <script>\n",
              "        const buttonEl =\n",
              "          document.querySelector('#df-a2d251f0-4b09-4eac-90ab-f5eca21cfd4b button.colab-df-convert');\n",
              "        buttonEl.style.display =\n",
              "          google.colab.kernel.accessAllowed ? 'block' : 'none';\n",
              "\n",
              "        async function convertToInteractive(key) {\n",
              "          const element = document.querySelector('#df-a2d251f0-4b09-4eac-90ab-f5eca21cfd4b');\n",
              "          const dataTable =\n",
              "            await google.colab.kernel.invokeFunction('convertToInteractive',\n",
              "                                                     [key], {});\n",
              "          if (!dataTable) return;\n",
              "\n",
              "          const docLinkHtml = 'Like what you see? Visit the ' +\n",
              "            '<a target=\"_blank\" href=https://colab.research.google.com/notebooks/data_table.ipynb>data table notebook</a>'\n",
              "            + ' to learn more about interactive tables.';\n",
              "          element.innerHTML = '';\n",
              "          dataTable['output_type'] = 'display_data';\n",
              "          await google.colab.output.renderOutput(dataTable, element);\n",
              "          const docLink = document.createElement('div');\n",
              "          docLink.innerHTML = docLinkHtml;\n",
              "          element.appendChild(docLink);\n",
              "        }\n",
              "      </script>\n",
              "    </div>\n",
              "  </div>\n",
              "  "
            ],
            "text/plain": [
              "     Pregnancies  Glucose  BloodPressure  SkinThickness     Insulin   BMI  \\\n",
              "0              6    148.0           72.0       35.00000  155.548223  33.6   \n",
              "1              1     85.0           66.0       29.00000  155.548223  26.6   \n",
              "2              8    183.0           64.0       29.15342  155.548223  23.3   \n",
              "3              1     89.0           66.0       23.00000   94.000000  28.1   \n",
              "4              0    137.0           40.0       35.00000  168.000000  43.1   \n",
              "..           ...      ...            ...            ...         ...   ...   \n",
              "763           10    101.0           76.0       48.00000  180.000000  32.9   \n",
              "764            2    122.0           70.0       27.00000  155.548223  36.8   \n",
              "765            5    121.0           72.0       23.00000  112.000000  26.2   \n",
              "766            1    126.0           60.0       29.15342  155.548223  30.1   \n",
              "767            1     93.0           70.0       31.00000  155.548223  30.4   \n",
              "\n",
              "     DiabetesPedigreeFunction  Age  Outcome  \n",
              "0                       0.627   50        1  \n",
              "1                       0.351   31        0  \n",
              "2                       0.672   32        1  \n",
              "3                       0.167   21        0  \n",
              "4                       2.288   33        1  \n",
              "..                        ...  ...      ...  \n",
              "763                     0.171   63        0  \n",
              "764                     0.340   27        0  \n",
              "765                     0.245   30        0  \n",
              "766                     0.349   47        1  \n",
              "767                     0.315   23        0  \n",
              "\n",
              "[768 rows x 9 columns]"
            ]
          },
          "execution_count": 58,
          "metadata": {},
          "output_type": "execute_result"
        }
      ],
      "source": [
        "diabetes"
      ]
    },
    {
      "cell_type": "code",
      "execution_count": 7,
      "metadata": {
        "colab": {
          "base_uri": "https://localhost:8080/"
        },
        "id": "zlxnjwP9ZZct",
        "outputId": "43b09698-8375-4aec-d97f-acef4d83c564"
      },
      "outputs": [
        {
          "data": {
            "text/plain": [
              "Pregnancies                 0\n",
              "Glucose                     0\n",
              "BloodPressure               0\n",
              "SkinThickness               0\n",
              "Insulin                     0\n",
              "BMI                         0\n",
              "DiabetesPedigreeFunction    0\n",
              "Age                         0\n",
              "Outcome                     0\n",
              "dtype: int64"
            ]
          },
          "execution_count": 7,
          "metadata": {},
          "output_type": "execute_result"
        }
      ],
      "source": [
        "diabetes.isna().sum()"
      ]
    },
    {
      "cell_type": "code",
      "execution_count": 8,
      "metadata": {
        "colab": {
          "base_uri": "https://localhost:8080/",
          "height": 332
        },
        "id": "G2TAQtT4ZfED",
        "outputId": "e166a75b-401c-4602-dbee-381fef269195"
      },
      "outputs": [
        {
          "data": {
            "text/html": [
              "\n",
              "  <div id=\"df-2df6b3a3-5831-420d-9de1-40f6ef9ff1d2\">\n",
              "    <div class=\"colab-df-container\">\n",
              "      <div>\n",
              "<style scoped>\n",
              "    .dataframe tbody tr th:only-of-type {\n",
              "        vertical-align: middle;\n",
              "    }\n",
              "\n",
              "    .dataframe tbody tr th {\n",
              "        vertical-align: top;\n",
              "    }\n",
              "\n",
              "    .dataframe thead th {\n",
              "        text-align: right;\n",
              "    }\n",
              "</style>\n",
              "<table border=\"1\" class=\"dataframe\">\n",
              "  <thead>\n",
              "    <tr style=\"text-align: right;\">\n",
              "      <th></th>\n",
              "      <th>count</th>\n",
              "      <th>mean</th>\n",
              "      <th>std</th>\n",
              "      <th>min</th>\n",
              "      <th>25%</th>\n",
              "      <th>50%</th>\n",
              "      <th>75%</th>\n",
              "      <th>max</th>\n",
              "    </tr>\n",
              "  </thead>\n",
              "  <tbody>\n",
              "    <tr>\n",
              "      <th>Pregnancies</th>\n",
              "      <td>768.0</td>\n",
              "      <td>3.845052</td>\n",
              "      <td>3.369578</td>\n",
              "      <td>0.000</td>\n",
              "      <td>1.00000</td>\n",
              "      <td>3.0000</td>\n",
              "      <td>6.00000</td>\n",
              "      <td>17.00</td>\n",
              "    </tr>\n",
              "    <tr>\n",
              "      <th>Glucose</th>\n",
              "      <td>768.0</td>\n",
              "      <td>120.894531</td>\n",
              "      <td>31.972618</td>\n",
              "      <td>0.000</td>\n",
              "      <td>99.00000</td>\n",
              "      <td>117.0000</td>\n",
              "      <td>140.25000</td>\n",
              "      <td>199.00</td>\n",
              "    </tr>\n",
              "    <tr>\n",
              "      <th>BloodPressure</th>\n",
              "      <td>768.0</td>\n",
              "      <td>69.105469</td>\n",
              "      <td>19.355807</td>\n",
              "      <td>0.000</td>\n",
              "      <td>62.00000</td>\n",
              "      <td>72.0000</td>\n",
              "      <td>80.00000</td>\n",
              "      <td>122.00</td>\n",
              "    </tr>\n",
              "    <tr>\n",
              "      <th>SkinThickness</th>\n",
              "      <td>768.0</td>\n",
              "      <td>20.536458</td>\n",
              "      <td>15.952218</td>\n",
              "      <td>0.000</td>\n",
              "      <td>0.00000</td>\n",
              "      <td>23.0000</td>\n",
              "      <td>32.00000</td>\n",
              "      <td>99.00</td>\n",
              "    </tr>\n",
              "    <tr>\n",
              "      <th>Insulin</th>\n",
              "      <td>768.0</td>\n",
              "      <td>79.799479</td>\n",
              "      <td>115.244002</td>\n",
              "      <td>0.000</td>\n",
              "      <td>0.00000</td>\n",
              "      <td>30.5000</td>\n",
              "      <td>127.25000</td>\n",
              "      <td>846.00</td>\n",
              "    </tr>\n",
              "    <tr>\n",
              "      <th>BMI</th>\n",
              "      <td>768.0</td>\n",
              "      <td>31.992578</td>\n",
              "      <td>7.884160</td>\n",
              "      <td>0.000</td>\n",
              "      <td>27.30000</td>\n",
              "      <td>32.0000</td>\n",
              "      <td>36.60000</td>\n",
              "      <td>67.10</td>\n",
              "    </tr>\n",
              "    <tr>\n",
              "      <th>DiabetesPedigreeFunction</th>\n",
              "      <td>768.0</td>\n",
              "      <td>0.471876</td>\n",
              "      <td>0.331329</td>\n",
              "      <td>0.078</td>\n",
              "      <td>0.24375</td>\n",
              "      <td>0.3725</td>\n",
              "      <td>0.62625</td>\n",
              "      <td>2.42</td>\n",
              "    </tr>\n",
              "    <tr>\n",
              "      <th>Age</th>\n",
              "      <td>768.0</td>\n",
              "      <td>33.240885</td>\n",
              "      <td>11.760232</td>\n",
              "      <td>21.000</td>\n",
              "      <td>24.00000</td>\n",
              "      <td>29.0000</td>\n",
              "      <td>41.00000</td>\n",
              "      <td>81.00</td>\n",
              "    </tr>\n",
              "    <tr>\n",
              "      <th>Outcome</th>\n",
              "      <td>768.0</td>\n",
              "      <td>0.348958</td>\n",
              "      <td>0.476951</td>\n",
              "      <td>0.000</td>\n",
              "      <td>0.00000</td>\n",
              "      <td>0.0000</td>\n",
              "      <td>1.00000</td>\n",
              "      <td>1.00</td>\n",
              "    </tr>\n",
              "  </tbody>\n",
              "</table>\n",
              "</div>\n",
              "      <button class=\"colab-df-convert\" onclick=\"convertToInteractive('df-2df6b3a3-5831-420d-9de1-40f6ef9ff1d2')\"\n",
              "              title=\"Convert this dataframe to an interactive table.\"\n",
              "              style=\"display:none;\">\n",
              "        \n",
              "  <svg xmlns=\"http://www.w3.org/2000/svg\" height=\"24px\"viewBox=\"0 0 24 24\"\n",
              "       width=\"24px\">\n",
              "    <path d=\"M0 0h24v24H0V0z\" fill=\"none\"/>\n",
              "    <path d=\"M18.56 5.44l.94 2.06.94-2.06 2.06-.94-2.06-.94-.94-2.06-.94 2.06-2.06.94zm-11 1L8.5 8.5l.94-2.06 2.06-.94-2.06-.94L8.5 2.5l-.94 2.06-2.06.94zm10 10l.94 2.06.94-2.06 2.06-.94-2.06-.94-.94-2.06-.94 2.06-2.06.94z\"/><path d=\"M17.41 7.96l-1.37-1.37c-.4-.4-.92-.59-1.43-.59-.52 0-1.04.2-1.43.59L10.3 9.45l-7.72 7.72c-.78.78-.78 2.05 0 2.83L4 21.41c.39.39.9.59 1.41.59.51 0 1.02-.2 1.41-.59l7.78-7.78 2.81-2.81c.8-.78.8-2.07 0-2.86zM5.41 20L4 18.59l7.72-7.72 1.47 1.35L5.41 20z\"/>\n",
              "  </svg>\n",
              "      </button>\n",
              "      \n",
              "  <style>\n",
              "    .colab-df-container {\n",
              "      display:flex;\n",
              "      flex-wrap:wrap;\n",
              "      gap: 12px;\n",
              "    }\n",
              "\n",
              "    .colab-df-convert {\n",
              "      background-color: #E8F0FE;\n",
              "      border: none;\n",
              "      border-radius: 50%;\n",
              "      cursor: pointer;\n",
              "      display: none;\n",
              "      fill: #1967D2;\n",
              "      height: 32px;\n",
              "      padding: 0 0 0 0;\n",
              "      width: 32px;\n",
              "    }\n",
              "\n",
              "    .colab-df-convert:hover {\n",
              "      background-color: #E2EBFA;\n",
              "      box-shadow: 0px 1px 2px rgba(60, 64, 67, 0.3), 0px 1px 3px 1px rgba(60, 64, 67, 0.15);\n",
              "      fill: #174EA6;\n",
              "    }\n",
              "\n",
              "    [theme=dark] .colab-df-convert {\n",
              "      background-color: #3B4455;\n",
              "      fill: #D2E3FC;\n",
              "    }\n",
              "\n",
              "    [theme=dark] .colab-df-convert:hover {\n",
              "      background-color: #434B5C;\n",
              "      box-shadow: 0px 1px 3px 1px rgba(0, 0, 0, 0.15);\n",
              "      filter: drop-shadow(0px 1px 2px rgba(0, 0, 0, 0.3));\n",
              "      fill: #FFFFFF;\n",
              "    }\n",
              "  </style>\n",
              "\n",
              "      <script>\n",
              "        const buttonEl =\n",
              "          document.querySelector('#df-2df6b3a3-5831-420d-9de1-40f6ef9ff1d2 button.colab-df-convert');\n",
              "        buttonEl.style.display =\n",
              "          google.colab.kernel.accessAllowed ? 'block' : 'none';\n",
              "\n",
              "        async function convertToInteractive(key) {\n",
              "          const element = document.querySelector('#df-2df6b3a3-5831-420d-9de1-40f6ef9ff1d2');\n",
              "          const dataTable =\n",
              "            await google.colab.kernel.invokeFunction('convertToInteractive',\n",
              "                                                     [key], {});\n",
              "          if (!dataTable) return;\n",
              "\n",
              "          const docLinkHtml = 'Like what you see? Visit the ' +\n",
              "            '<a target=\"_blank\" href=https://colab.research.google.com/notebooks/data_table.ipynb>data table notebook</a>'\n",
              "            + ' to learn more about interactive tables.';\n",
              "          element.innerHTML = '';\n",
              "          dataTable['output_type'] = 'display_data';\n",
              "          await google.colab.output.renderOutput(dataTable, element);\n",
              "          const docLink = document.createElement('div');\n",
              "          docLink.innerHTML = docLinkHtml;\n",
              "          element.appendChild(docLink);\n",
              "        }\n",
              "      </script>\n",
              "    </div>\n",
              "  </div>\n",
              "  "
            ],
            "text/plain": [
              "                          count        mean         std     min       25%  \\\n",
              "Pregnancies               768.0    3.845052    3.369578   0.000   1.00000   \n",
              "Glucose                   768.0  120.894531   31.972618   0.000  99.00000   \n",
              "BloodPressure             768.0   69.105469   19.355807   0.000  62.00000   \n",
              "SkinThickness             768.0   20.536458   15.952218   0.000   0.00000   \n",
              "Insulin                   768.0   79.799479  115.244002   0.000   0.00000   \n",
              "BMI                       768.0   31.992578    7.884160   0.000  27.30000   \n",
              "DiabetesPedigreeFunction  768.0    0.471876    0.331329   0.078   0.24375   \n",
              "Age                       768.0   33.240885   11.760232  21.000  24.00000   \n",
              "Outcome                   768.0    0.348958    0.476951   0.000   0.00000   \n",
              "\n",
              "                               50%        75%     max  \n",
              "Pregnancies                 3.0000    6.00000   17.00  \n",
              "Glucose                   117.0000  140.25000  199.00  \n",
              "BloodPressure              72.0000   80.00000  122.00  \n",
              "SkinThickness              23.0000   32.00000   99.00  \n",
              "Insulin                    30.5000  127.25000  846.00  \n",
              "BMI                        32.0000   36.60000   67.10  \n",
              "DiabetesPedigreeFunction    0.3725    0.62625    2.42  \n",
              "Age                        29.0000   41.00000   81.00  \n",
              "Outcome                     0.0000    1.00000    1.00  "
            ]
          },
          "execution_count": 8,
          "metadata": {},
          "output_type": "execute_result"
        }
      ],
      "source": [
        "diabetes.describe().T"
      ]
    },
    {
      "cell_type": "code",
      "execution_count": 9,
      "metadata": {
        "id": "OJ7ZoBLFZsbn"
      },
      "outputs": [],
      "source": [
        "cols = ['Glucose', 'BloodPressure','SkinThickness', 'Insulin', 'BMI']\n",
        "\n",
        "diabetes[cols] = diabetes[cols].replace(0,np.nan)"
      ]
    },
    {
      "cell_type": "code",
      "execution_count": 10,
      "metadata": {
        "colab": {
          "base_uri": "https://localhost:8080/"
        },
        "id": "5eh5WGeyaTlU",
        "outputId": "f7a87a1d-1271-4242-9ae7-f1504da377d0"
      },
      "outputs": [
        {
          "data": {
            "text/plain": [
              "Pregnancies                   0\n",
              "Glucose                       5\n",
              "BloodPressure                35\n",
              "SkinThickness               227\n",
              "Insulin                     374\n",
              "BMI                          11\n",
              "DiabetesPedigreeFunction      0\n",
              "Age                           0\n",
              "Outcome                       0\n",
              "dtype: int64"
            ]
          },
          "execution_count": 10,
          "metadata": {},
          "output_type": "execute_result"
        }
      ],
      "source": [
        "diabetes.isna().sum()"
      ]
    },
    {
      "cell_type": "code",
      "execution_count": 11,
      "metadata": {
        "id": "I4qX4Z5GaV5x"
      },
      "outputs": [],
      "source": [
        "for col in cols:\n",
        "  diabetes[col] = diabetes[col].fillna(diabetes[col].mean())"
      ]
    },
    {
      "cell_type": "code",
      "execution_count": 12,
      "metadata": {
        "colab": {
          "base_uri": "https://localhost:8080/"
        },
        "id": "Du47JzaLarqI",
        "outputId": "b7b4f703-f487-436e-9733-2845dc03d27f"
      },
      "outputs": [
        {
          "data": {
            "text/plain": [
              "Pregnancies                 0\n",
              "Glucose                     0\n",
              "BloodPressure               0\n",
              "SkinThickness               0\n",
              "Insulin                     0\n",
              "BMI                         0\n",
              "DiabetesPedigreeFunction    0\n",
              "Age                         0\n",
              "Outcome                     0\n",
              "dtype: int64"
            ]
          },
          "execution_count": 12,
          "metadata": {},
          "output_type": "execute_result"
        }
      ],
      "source": [
        "diabetes.isna().sum()"
      ]
    },
    {
      "cell_type": "code",
      "execution_count": 14,
      "metadata": {
        "id": "Mb95_gqjbiuS"
      },
      "outputs": [],
      "source": [
        "X = diabetes.iloc[:,:-1]\n",
        "Y = diabetes.iloc[:,-1]"
      ]
    },
    {
      "cell_type": "code",
      "execution_count": 15,
      "metadata": {
        "id": "lWniZ-H6awkf"
      },
      "outputs": [],
      "source": [
        "from sklearn.model_selection import train_test_split\n",
        "X_train, X_test, Y_train, Y_test = train_test_split(X, Y, test_size = 0.2, random_state = 0, stratify = Y)"
      ]
    },
    {
      "cell_type": "code",
      "execution_count": 18,
      "metadata": {
        "colab": {
          "base_uri": "https://localhost:8080/"
        },
        "id": "PeMMZ2J0bX-6",
        "outputId": "5f683e8b-44d6-4673-929d-c528951623f9"
      },
      "outputs": [
        {
          "data": {
            "text/plain": [
              "((614, 8), (614,), (154, 8), (154,))"
            ]
          },
          "execution_count": 18,
          "metadata": {},
          "output_type": "execute_result"
        }
      ],
      "source": [
        "X_train.shape , Y_train.shape , X_test.shape, Y_test.shape"
      ]
    },
    {
      "cell_type": "code",
      "execution_count": 19,
      "metadata": {
        "colab": {
          "base_uri": "https://localhost:8080/"
        },
        "id": "DcuxHVaJcC9K",
        "outputId": "03979ab2-7592-4dae-8d8e-48a3e634b28e"
      },
      "outputs": [
        {
          "data": {
            "text/plain": [
              "0    100\n",
              "1     54\n",
              "Name: Outcome, dtype: int64"
            ]
          },
          "execution_count": 19,
          "metadata": {},
          "output_type": "execute_result"
        }
      ],
      "source": [
        "Y_test.value_counts()"
      ]
    },
    {
      "cell_type": "code",
      "execution_count": 20,
      "metadata": {
        "id": "SBzbDlxecWUI"
      },
      "outputs": [],
      "source": [
        "from sklearn.preprocessing import RobustScaler  # 4분위수를 이용해서 표준화함, 이상치에 강건함\n",
        "RS = RobustScaler()\n",
        "X_train = RS.fit_transform(X_train)\n",
        "X_test = RS.transform(X_test)"
      ]
    },
    {
      "cell_type": "code",
      "execution_count": 26,
      "metadata": {
        "colab": {
          "base_uri": "https://localhost:8080/"
        },
        "id": "go1LVkVndoCv",
        "outputId": "19b22e06-e729-44a2-d40d-6400dfd278e2"
      },
      "outputs": [
        {
          "data": {
            "text/plain": [
              "(614, 8)"
            ]
          },
          "execution_count": 26,
          "metadata": {},
          "output_type": "execute_result"
        }
      ],
      "source": [
        "X_train.shape"
      ]
    },
    {
      "cell_type": "code",
      "execution_count": 25,
      "metadata": {
        "id": "bo3Z6M4Fdriv"
      },
      "outputs": [],
      "source": [
        "from tensorflow import keras\n",
        "from keras import layers"
      ]
    },
    {
      "cell_type": "code",
      "execution_count": 52,
      "metadata": {
        "id": "BFLdnjQZeEnj"
      },
      "outputs": [],
      "source": [
        "model = keras.Sequential([\n",
        "    layers.Dense(units = 32, activation = 'relu', input_shape = (8,)),\n",
        "    layers.Dense(units = 8, activation = 'relu'),\n",
        "    layers.Dense(units = 8, activation = 'relu'),\n",
        "    layers.Dense(units = 1, activation = 'sigmoid') #이진분류는 출력이 1개, 2개도 가능함 -> Sigmoid 처리를 해줘야함\n",
        "])"
      ]
    },
    {
      "cell_type": "code",
      "execution_count": 53,
      "metadata": {
        "colab": {
          "base_uri": "https://localhost:8080/"
        },
        "id": "c8-OmaLGgaaz",
        "outputId": "1f099e19-a4ec-41d7-e1e1-4716fbc80b25"
      },
      "outputs": [
        {
          "name": "stdout",
          "output_type": "stream",
          "text": [
            "Model: \"sequential_2\"\n",
            "_________________________________________________________________\n",
            " Layer (type)                Output Shape              Param #   \n",
            "=================================================================\n",
            " dense_7 (Dense)             (None, 32)                288       \n",
            "                                                                 \n",
            " dense_8 (Dense)             (None, 8)                 264       \n",
            "                                                                 \n",
            " dense_9 (Dense)             (None, 8)                 72        \n",
            "                                                                 \n",
            " dense_10 (Dense)            (None, 1)                 9         \n",
            "                                                                 \n",
            "=================================================================\n",
            "Total params: 633\n",
            "Trainable params: 633\n",
            "Non-trainable params: 0\n",
            "_________________________________________________________________\n"
          ]
        }
      ],
      "source": [
        "model.summary()"
      ]
    },
    {
      "cell_type": "code",
      "execution_count": 54,
      "metadata": {
        "id": "LPKbEHXkgds5"
      },
      "outputs": [],
      "source": [
        "model.compile(\n",
        "    optimizer = 'adam',\n",
        "    loss = 'binary_crossentropy',\n",
        "    metrics = ['accuracy'],\n",
        ")"
      ]
    },
    {
      "cell_type": "code",
      "execution_count": 55,
      "metadata": {
        "colab": {
          "base_uri": "https://localhost:8080/"
        },
        "id": "uBzQx1WZhZrP",
        "outputId": "6320b64e-f9cf-4921-de9f-4e2cd6b07167"
      },
      "outputs": [
        {
          "name": "stdout",
          "output_type": "stream",
          "text": [
            "Epoch 1/50\n",
            "16/16 [==============================] - 2s 16ms/step - loss: 0.7187 - accuracy: 0.5214 - val_loss: 0.6568 - val_accuracy: 0.6504\n",
            "Epoch 2/50\n",
            "16/16 [==============================] - 0s 5ms/step - loss: 0.6237 - accuracy: 0.6823 - val_loss: 0.6042 - val_accuracy: 0.7073\n",
            "Epoch 3/50\n",
            "16/16 [==============================] - 0s 5ms/step - loss: 0.5860 - accuracy: 0.7026 - val_loss: 0.5759 - val_accuracy: 0.6911\n",
            "Epoch 4/50\n",
            "16/16 [==============================] - 0s 5ms/step - loss: 0.5587 - accuracy: 0.7088 - val_loss: 0.5543 - val_accuracy: 0.7398\n",
            "Epoch 5/50\n",
            "16/16 [==============================] - 0s 4ms/step - loss: 0.5351 - accuracy: 0.7312 - val_loss: 0.5383 - val_accuracy: 0.7398\n",
            "Epoch 6/50\n",
            "16/16 [==============================] - 0s 5ms/step - loss: 0.5165 - accuracy: 0.7413 - val_loss: 0.5266 - val_accuracy: 0.7642\n",
            "Epoch 7/50\n",
            "16/16 [==============================] - 0s 5ms/step - loss: 0.5015 - accuracy: 0.7699 - val_loss: 0.5165 - val_accuracy: 0.7886\n",
            "Epoch 8/50\n",
            "16/16 [==============================] - 0s 4ms/step - loss: 0.4902 - accuracy: 0.7800 - val_loss: 0.5141 - val_accuracy: 0.7886\n",
            "Epoch 9/50\n",
            "16/16 [==============================] - 0s 6ms/step - loss: 0.4812 - accuracy: 0.7780 - val_loss: 0.5141 - val_accuracy: 0.7886\n",
            "Epoch 10/50\n",
            "16/16 [==============================] - 0s 5ms/step - loss: 0.4732 - accuracy: 0.7780 - val_loss: 0.5136 - val_accuracy: 0.7886\n",
            "Epoch 11/50\n",
            "16/16 [==============================] - 0s 4ms/step - loss: 0.4660 - accuracy: 0.7780 - val_loss: 0.5138 - val_accuracy: 0.7886\n",
            "Epoch 12/50\n",
            "16/16 [==============================] - 0s 5ms/step - loss: 0.4605 - accuracy: 0.7821 - val_loss: 0.5167 - val_accuracy: 0.7805\n",
            "Epoch 13/50\n",
            "16/16 [==============================] - 0s 5ms/step - loss: 0.4555 - accuracy: 0.7882 - val_loss: 0.5162 - val_accuracy: 0.7642\n",
            "Epoch 14/50\n",
            "16/16 [==============================] - 0s 5ms/step - loss: 0.4511 - accuracy: 0.7882 - val_loss: 0.5206 - val_accuracy: 0.7561\n",
            "Epoch 15/50\n",
            "16/16 [==============================] - 0s 4ms/step - loss: 0.4478 - accuracy: 0.7923 - val_loss: 0.5205 - val_accuracy: 0.7642\n",
            "Epoch 16/50\n",
            "16/16 [==============================] - 0s 5ms/step - loss: 0.4448 - accuracy: 0.7882 - val_loss: 0.5226 - val_accuracy: 0.7480\n",
            "Epoch 17/50\n",
            "16/16 [==============================] - 0s 5ms/step - loss: 0.4424 - accuracy: 0.7882 - val_loss: 0.5243 - val_accuracy: 0.7480\n",
            "Epoch 18/50\n",
            "16/16 [==============================] - 0s 4ms/step - loss: 0.4396 - accuracy: 0.7800 - val_loss: 0.5267 - val_accuracy: 0.7561\n",
            "Epoch 19/50\n",
            "16/16 [==============================] - 0s 4ms/step - loss: 0.4379 - accuracy: 0.7862 - val_loss: 0.5276 - val_accuracy: 0.7561\n",
            "Epoch 20/50\n",
            "16/16 [==============================] - 0s 5ms/step - loss: 0.4352 - accuracy: 0.7882 - val_loss: 0.5266 - val_accuracy: 0.7561\n",
            "Epoch 21/50\n",
            "16/16 [==============================] - 0s 5ms/step - loss: 0.4328 - accuracy: 0.7882 - val_loss: 0.5285 - val_accuracy: 0.7561\n",
            "Epoch 22/50\n",
            "16/16 [==============================] - 0s 6ms/step - loss: 0.4313 - accuracy: 0.7882 - val_loss: 0.5270 - val_accuracy: 0.7561\n",
            "Epoch 23/50\n",
            "16/16 [==============================] - 0s 7ms/step - loss: 0.4286 - accuracy: 0.7902 - val_loss: 0.5285 - val_accuracy: 0.7642\n",
            "Epoch 24/50\n",
            "16/16 [==============================] - 0s 7ms/step - loss: 0.4262 - accuracy: 0.7902 - val_loss: 0.5317 - val_accuracy: 0.7642\n",
            "Epoch 25/50\n",
            "16/16 [==============================] - 0s 7ms/step - loss: 0.4248 - accuracy: 0.7943 - val_loss: 0.5332 - val_accuracy: 0.7642\n",
            "Epoch 26/50\n",
            "16/16 [==============================] - 0s 7ms/step - loss: 0.4216 - accuracy: 0.7943 - val_loss: 0.5333 - val_accuracy: 0.7724\n",
            "Epoch 27/50\n",
            "16/16 [==============================] - 0s 7ms/step - loss: 0.4203 - accuracy: 0.7923 - val_loss: 0.5318 - val_accuracy: 0.7724\n",
            "Epoch 28/50\n",
            "16/16 [==============================] - 0s 6ms/step - loss: 0.4184 - accuracy: 0.7923 - val_loss: 0.5365 - val_accuracy: 0.7642\n",
            "Epoch 29/50\n",
            "16/16 [==============================] - 0s 6ms/step - loss: 0.4171 - accuracy: 0.7984 - val_loss: 0.5364 - val_accuracy: 0.7724\n",
            "Epoch 30/50\n",
            "16/16 [==============================] - 0s 6ms/step - loss: 0.4154 - accuracy: 0.8024 - val_loss: 0.5383 - val_accuracy: 0.7561\n",
            "Epoch 31/50\n",
            "16/16 [==============================] - 0s 6ms/step - loss: 0.4140 - accuracy: 0.7963 - val_loss: 0.5374 - val_accuracy: 0.7561\n",
            "Epoch 32/50\n",
            "16/16 [==============================] - 0s 6ms/step - loss: 0.4128 - accuracy: 0.7984 - val_loss: 0.5393 - val_accuracy: 0.7561\n",
            "Epoch 33/50\n",
            "16/16 [==============================] - 0s 6ms/step - loss: 0.4103 - accuracy: 0.7943 - val_loss: 0.5392 - val_accuracy: 0.7561\n",
            "Epoch 34/50\n",
            "16/16 [==============================] - 0s 6ms/step - loss: 0.4096 - accuracy: 0.7923 - val_loss: 0.5400 - val_accuracy: 0.7561\n",
            "Epoch 35/50\n",
            "16/16 [==============================] - 0s 7ms/step - loss: 0.4087 - accuracy: 0.7963 - val_loss: 0.5399 - val_accuracy: 0.7642\n",
            "Epoch 36/50\n",
            "16/16 [==============================] - 0s 7ms/step - loss: 0.4062 - accuracy: 0.8045 - val_loss: 0.5413 - val_accuracy: 0.7561\n",
            "Epoch 37/50\n",
            "16/16 [==============================] - 0s 7ms/step - loss: 0.4050 - accuracy: 0.7923 - val_loss: 0.5467 - val_accuracy: 0.7561\n",
            "Epoch 38/50\n",
            "16/16 [==============================] - 0s 6ms/step - loss: 0.4029 - accuracy: 0.8024 - val_loss: 0.5488 - val_accuracy: 0.7561\n",
            "Epoch 39/50\n",
            "16/16 [==============================] - 0s 6ms/step - loss: 0.4028 - accuracy: 0.8024 - val_loss: 0.5501 - val_accuracy: 0.7561\n",
            "Epoch 40/50\n",
            "16/16 [==============================] - 0s 6ms/step - loss: 0.4006 - accuracy: 0.8024 - val_loss: 0.5526 - val_accuracy: 0.7561\n",
            "Epoch 41/50\n",
            "16/16 [==============================] - 0s 6ms/step - loss: 0.3991 - accuracy: 0.7943 - val_loss: 0.5550 - val_accuracy: 0.7480\n",
            "Epoch 42/50\n",
            "16/16 [==============================] - 0s 6ms/step - loss: 0.3975 - accuracy: 0.7963 - val_loss: 0.5518 - val_accuracy: 0.7561\n",
            "Epoch 43/50\n",
            "16/16 [==============================] - 0s 7ms/step - loss: 0.3965 - accuracy: 0.8045 - val_loss: 0.5603 - val_accuracy: 0.7561\n",
            "Epoch 44/50\n",
            "16/16 [==============================] - 0s 7ms/step - loss: 0.3936 - accuracy: 0.8126 - val_loss: 0.5566 - val_accuracy: 0.7561\n",
            "Epoch 45/50\n",
            "16/16 [==============================] - 0s 7ms/step - loss: 0.3930 - accuracy: 0.8126 - val_loss: 0.5582 - val_accuracy: 0.7480\n",
            "Epoch 46/50\n",
            "16/16 [==============================] - 0s 7ms/step - loss: 0.3908 - accuracy: 0.8106 - val_loss: 0.5632 - val_accuracy: 0.7480\n",
            "Epoch 47/50\n",
            "16/16 [==============================] - 0s 7ms/step - loss: 0.3915 - accuracy: 0.8126 - val_loss: 0.5566 - val_accuracy: 0.7480\n",
            "Epoch 48/50\n",
            "16/16 [==============================] - 0s 6ms/step - loss: 0.3889 - accuracy: 0.8086 - val_loss: 0.5601 - val_accuracy: 0.7480\n",
            "Epoch 49/50\n",
            "16/16 [==============================] - 0s 4ms/step - loss: 0.3868 - accuracy: 0.8106 - val_loss: 0.5617 - val_accuracy: 0.7561\n",
            "Epoch 50/50\n",
            "16/16 [==============================] - 0s 5ms/step - loss: 0.3865 - accuracy: 0.8086 - val_loss: 0.5600 - val_accuracy: 0.7398\n"
          ]
        }
      ],
      "source": [
        "Epochs = 50\n",
        "Batch_size = 32 # 사이즈가 작으면 W,b 갱신이 많음\n",
        "\n",
        "History = model.fit(\n",
        "    X_train,Y_train,\n",
        "    epochs = Epochs,\n",
        "    batch_size = Batch_size,\n",
        "    validation_split = 0.2,\n",
        "    verbose = 1\n",
        ")\n",
        "\n",
        "#val_loss가 떨어지는 방향으로 선택하는게 좋음"
      ]
    },
    {
      "cell_type": "code",
      "execution_count": 56,
      "metadata": {
        "id": "vEhVCVPWh_OC"
      },
      "outputs": [],
      "source": [
        "def plot_history(History):\n",
        "    hist = pd.DataFrame(History.history)\n",
        "    hist['epoch']= History.epoch\n",
        "\n",
        "    plt.figure(figsize=(16, 8))\n",
        "    plt.subplot(1, 2, 1)\n",
        "    plt.xlabel('Epoch')\n",
        "    plt.ylabel('Loss')\n",
        "    plt.plot(hist['epoch'], hist['loss'], label='Train Loss')\n",
        "    plt.plot(hist['epoch'], hist['val_loss'], label='Val Loss')\n",
        "\n",
        "    plt.subplot(1, 2, 2)\n",
        "    plt.xlabel('Epoch')\n",
        "    plt.ylabel('Accuracy')\n",
        "    plt.plot(hist['epoch'], hist['accuracy'], label='Train Accuracy')\n",
        "    plt.plot(hist['epoch'], hist['val_accuracy'], label='Val Accuracy')\n",
        "\n",
        "    plt.legend()\n",
        "    plt.show()"
      ]
    },
    {
      "cell_type": "code",
      "execution_count": 57,
      "metadata": {
        "colab": {
          "base_uri": "https://localhost:8080/",
          "height": 696
        },
        "id": "0F1WY93smDNd",
        "outputId": "25772d05-1e8b-4dd8-d975-9342d9869bcd"
      },
      "outputs": [
        {
          "data": {
            "image/png": "[encoded data removed]",
            "text/plain": [
              "<Figure size 1600x800 with 2 Axes>"
            ]
          },
          "metadata": {},
          "output_type": "display_data"
        }
      ],
      "source": [
        "plot_history(History)\n",
        "#overfitting을 의심할 수 있음"
      ]
    },
    {
      "cell_type": "code",
      "execution_count": 59,
      "metadata": {
        "colab": {
          "base_uri": "https://localhost:8080/"
        },
        "id": "3gaf9xCzmFwV",
        "outputId": "c13e9a88-b73a-41c7-a960-d4b79612fa1e"
      },
      "outputs": [
        {
          "name": "stdout",
          "output_type": "stream",
          "text": [
            "5/5 [==============================] - 0s 2ms/step\n"
          ]
        }
      ],
      "source": [
        "#평가\n",
        "Y_pred = model.predict(X_test)"
      ]
    },
    {
      "cell_type": "code",
      "execution_count": 62,
      "metadata": {
        "colab": {
          "base_uri": "https://localhost:8080/"
        },
        "id": "MB8AKFiRpJqy",
        "outputId": "71016032-e92f-4904-9129-50e56654ba39"
      },
      "outputs": [
        {
          "data": {
            "text/plain": [
              "array([[0.003078  ],\n",
              "       [0.00851844],\n",
              "       [0.00456315],\n",
              "       [0.7203172 ],\n",
              "       [0.8861325 ],\n",
              "       [0.00482819],\n",
              "       [0.91323036],\n",
              "       [0.00659868],\n",
              "       [0.02267077],\n",
              "       [0.29187822]], dtype=float32)"
            ]
          },
          "execution_count": 62,
          "metadata": {},
          "output_type": "execute_result"
        }
      ],
      "source": [
        "Y_pred[:10]"
      ]
    },
    {
      "cell_type": "code",
      "execution_count": 65,
      "metadata": {
        "id": "lD6vs1MCpZXt"
      },
      "outputs": [],
      "source": [
        "# Sigmoid 값을 Labeling 해야함\n",
        "Y_pred = (Y_pred > 0.5).astype('int').reshape(-1)"
      ]
    },
    {
      "cell_type": "code",
      "execution_count": 61,
      "metadata": {
        "id": "VAl8Il7MotwY"
      },
      "outputs": [],
      "source": [
        "Y_test = Y_test.values"
      ]
    },
    {
      "cell_type": "code",
      "execution_count": 71,
      "metadata": {
        "colab": {
          "base_uri": "https://localhost:8080/",
          "height": 455
        },
        "id": "352jhHAepBlf",
        "outputId": "7a53e0ba-f5f2-45f7-bfe2-f8f8681d0765"
      },
      "outputs": [
        {
          "data": {
            "image/png": "[encoded data removed]",
            "text/plain": [
              "<Figure size 640x480 with 2 Axes>"
            ]
          },
          "metadata": {},
          "output_type": "display_data"
        }
      ],
      "source": [
        "from sklearn.metrics import accuracy_score, confusion_matrix, ConfusionMatrixDisplay\n",
        "acc = accuracy_score(Y_test,Y_pred)\n",
        "cm = confusion_matrix(Y_test, Y_pred)\n",
        "\n",
        "disp = ConfusionMatrixDisplay(confusion_matrix=cm)\n",
        "disp.plot()\n",
        "plt.show()"
      ]
    },
    {
      "cell_type": "code",
      "execution_count": null,
      "metadata": {
        "id": "L52Tlcg1pyRc"
      },
      "outputs": [],
      "source": []
    },
    {
      "cell_type": "code",
      "execution_count": null,
      "metadata": {
        "id": "vNdtr3PSsl7y"
      },
      "outputs": [],
      "source": []
    },
    {
      "cell_type": "markdown",
      "metadata": {
        "id": "g3tqIlAfsnUS"
      },
      "source": [
        "#다중분류"
      ]
    },
    {
      "cell_type": "code",
      "execution_count": 72,
      "metadata": {
        "colab": {
          "base_uri": "https://localhost:8080/"
        },
        "id": "RvwDBEaFsojX",
        "outputId": "cef83972-1e97-4cf0-b84c-5f6165af05a6"
      },
      "outputs": [
        {
          "name": "stdout",
          "output_type": "stream",
          "text": [
            "Downloading...\n",
            "From: https://raw.githubusercontent.com/devdio/flyai_datasets/main/iris.csv\n",
            "To: /content/iris.csv\n",
            "\r  0% 0.00/1.16k [00:00<?, ?B/s]\r5.11kB [00:00, 11.3MB/s]       \n"
          ]
        }
      ],
      "source": [
        "!gdown https://raw.githubusercontent.com/devdio/flyai_datasets/main/iris.csv"
      ]
    },
    {
      "cell_type": "code",
      "execution_count": 108,
      "metadata": {
        "id": "yuA1511rsosT"
      },
      "outputs": [],
      "source": [
        "iris = pd.read_csv('iris.csv')"
      ]
    },
    {
      "cell_type": "code",
      "execution_count": 74,
      "metadata": {
        "colab": {
          "base_uri": "https://localhost:8080/",
          "height": 206
        },
        "id": "lcYH1dfRsxZB",
        "outputId": "6b4d829e-8c0e-490c-b019-c2ba568b014e"
      },
      "outputs": [
        {
          "data": {
            "text/html": [
              "\n",
              "  <div id=\"df-ff2f5dfd-d94c-4ace-83e2-4d42aae85387\">\n",
              "    <div class=\"colab-df-container\">\n",
              "      <div>\n",
              "<style scoped>\n",
              "    .dataframe tbody tr th:only-of-type {\n",
              "        vertical-align: middle;\n",
              "    }\n",
              "\n",
              "    .dataframe tbody tr th {\n",
              "        vertical-align: top;\n",
              "    }\n",
              "\n",
              "    .dataframe thead th {\n",
              "        text-align: right;\n",
              "    }\n",
              "</style>\n",
              "<table border=\"1\" class=\"dataframe\">\n",
              "  <thead>\n",
              "    <tr style=\"text-align: right;\">\n",
              "      <th></th>\n",
              "      <th>Id</th>\n",
              "      <th>SepalLengthCm</th>\n",
              "      <th>SepalWidthCm</th>\n",
              "      <th>PetalLengthCm</th>\n",
              "      <th>PetalWidthCm</th>\n",
              "      <th>Species</th>\n",
              "    </tr>\n",
              "  </thead>\n",
              "  <tbody>\n",
              "    <tr>\n",
              "      <th>0</th>\n",
              "      <td>1</td>\n",
              "      <td>5.1</td>\n",
              "      <td>3.5</td>\n",
              "      <td>1.4</td>\n",
              "      <td>0.2</td>\n",
              "      <td>Iris-setosa</td>\n",
              "    </tr>\n",
              "    <tr>\n",
              "      <th>1</th>\n",
              "      <td>2</td>\n",
              "      <td>4.9</td>\n",
              "      <td>3.0</td>\n",
              "      <td>1.4</td>\n",
              "      <td>0.2</td>\n",
              "      <td>Iris-setosa</td>\n",
              "    </tr>\n",
              "    <tr>\n",
              "      <th>2</th>\n",
              "      <td>3</td>\n",
              "      <td>4.7</td>\n",
              "      <td>3.2</td>\n",
              "      <td>1.3</td>\n",
              "      <td>0.2</td>\n",
              "      <td>Iris-setosa</td>\n",
              "    </tr>\n",
              "    <tr>\n",
              "      <th>3</th>\n",
              "      <td>4</td>\n",
              "      <td>4.6</td>\n",
              "      <td>3.1</td>\n",
              "      <td>1.5</td>\n",
              "      <td>0.2</td>\n",
              "      <td>Iris-setosa</td>\n",
              "    </tr>\n",
              "    <tr>\n",
              "      <th>4</th>\n",
              "      <td>5</td>\n",
              "      <td>5.0</td>\n",
              "      <td>3.6</td>\n",
              "      <td>1.4</td>\n",
              "      <td>0.2</td>\n",
              "      <td>Iris-setosa</td>\n",
              "    </tr>\n",
              "  </tbody>\n",
              "</table>\n",
              "</div>\n",
              "      <button class=\"colab-df-convert\" onclick=\"convertToInteractive('df-ff2f5dfd-d94c-4ace-83e2-4d42aae85387')\"\n",
              "              title=\"Convert this dataframe to an interactive table.\"\n",
              "              style=\"display:none;\">\n",
              "        \n",
              "  <svg xmlns=\"http://www.w3.org/2000/svg\" height=\"24px\"viewBox=\"0 0 24 24\"\n",
              "       width=\"24px\">\n",
              "    <path d=\"M0 0h24v24H0V0z\" fill=\"none\"/>\n",
              "    <path d=\"M18.56 5.44l.94 2.06.94-2.06 2.06-.94-2.06-.94-.94-2.06-.94 2.06-2.06.94zm-11 1L8.5 8.5l.94-2.06 2.06-.94-2.06-.94L8.5 2.5l-.94 2.06-2.06.94zm10 10l.94 2.06.94-2.06 2.06-.94-2.06-.94-.94-2.06-.94 2.06-2.06.94z\"/><path d=\"M17.41 7.96l-1.37-1.37c-.4-.4-.92-.59-1.43-.59-.52 0-1.04.2-1.43.59L10.3 9.45l-7.72 7.72c-.78.78-.78 2.05 0 2.83L4 21.41c.39.39.9.59 1.41.59.51 0 1.02-.2 1.41-.59l7.78-7.78 2.81-2.81c.8-.78.8-2.07 0-2.86zM5.41 20L4 18.59l7.72-7.72 1.47 1.35L5.41 20z\"/>\n",
              "  </svg>\n",
              "      </button>\n",
              "      \n",
              "  <style>\n",
              "    .colab-df-container {\n",
              "      display:flex;\n",
              "      flex-wrap:wrap;\n",
              "      gap: 12px;\n",
              "    }\n",
              "\n",
              "    .colab-df-convert {\n",
              "      background-color: #E8F0FE;\n",
              "      border: none;\n",
              "      border-radius: 50%;\n",
              "      cursor: pointer;\n",
              "      display: none;\n",
              "      fill: #1967D2;\n",
              "      height: 32px;\n",
              "      padding: 0 0 0 0;\n",
              "      width: 32px;\n",
              "    }\n",
              "\n",
              "    .colab-df-convert:hover {\n",
              "      background-color: #E2EBFA;\n",
              "      box-shadow: 0px 1px 2px rgba(60, 64, 67, 0.3), 0px 1px 3px 1px rgba(60, 64, 67, 0.15);\n",
              "      fill: #174EA6;\n",
              "    }\n",
              "\n",
              "    [theme=dark] .colab-df-convert {\n",
              "      background-color: #3B4455;\n",
              "      fill: #D2E3FC;\n",
              "    }\n",
              "\n",
              "    [theme=dark] .colab-df-convert:hover {\n",
              "      background-color: #434B5C;\n",
              "      box-shadow: 0px 1px 3px 1px rgba(0, 0, 0, 0.15);\n",
              "      filter: drop-shadow(0px 1px 2px rgba(0, 0, 0, 0.3));\n",
              "      fill: #FFFFFF;\n",
              "    }\n",
              "  </style>\n",
              "\n",
              "      <script>\n",
              "        const buttonEl =\n",
              "          document.querySelector('#df-ff2f5dfd-d94c-4ace-83e2-4d42aae85387 button.colab-df-convert');\n",
              "        buttonEl.style.display =\n",
              "          google.colab.kernel.accessAllowed ? 'block' : 'none';\n",
              "\n",
              "        async function convertToInteractive(key) {\n",
              "          const element = document.querySelector('#df-ff2f5dfd-d94c-4ace-83e2-4d42aae85387');\n",
              "          const dataTable =\n",
              "            await google.colab.kernel.invokeFunction('convertToInteractive',\n",
              "                                                     [key], {});\n",
              "          if (!dataTable) return;\n",
              "\n",
              "          const docLinkHtml = 'Like what you see? Visit the ' +\n",
              "            '<a target=\"_blank\" href=https://colab.research.google.com/notebooks/data_table.ipynb>data table notebook</a>'\n",
              "            + ' to learn more about interactive tables.';\n",
              "          element.innerHTML = '';\n",
              "          dataTable['output_type'] = 'display_data';\n",
              "          await google.colab.output.renderOutput(dataTable, element);\n",
              "          const docLink = document.createElement('div');\n",
              "          docLink.innerHTML = docLinkHtml;\n",
              "          element.appendChild(docLink);\n",
              "        }\n",
              "      </script>\n",
              "    </div>\n",
              "  </div>\n",
              "  "
            ],
            "text/plain": [
              "   Id  SepalLengthCm  SepalWidthCm  PetalLengthCm  PetalWidthCm      Species\n",
              "0   1            5.1           3.5            1.4           0.2  Iris-setosa\n",
              "1   2            4.9           3.0            1.4           0.2  Iris-setosa\n",
              "2   3            4.7           3.2            1.3           0.2  Iris-setosa\n",
              "3   4            4.6           3.1            1.5           0.2  Iris-setosa\n",
              "4   5            5.0           3.6            1.4           0.2  Iris-setosa"
            ]
          },
          "execution_count": 74,
          "metadata": {},
          "output_type": "execute_result"
        }
      ],
      "source": [
        "iris.head()"
      ]
    },
    {
      "cell_type": "code",
      "execution_count": 75,
      "metadata": {
        "colab": {
          "base_uri": "https://localhost:8080/"
        },
        "id": "JNs3td8Vs4j8",
        "outputId": "866518ff-5b4d-4270-c2bd-bbb51dfcbbaf"
      },
      "outputs": [
        {
          "data": {
            "text/plain": [
              "Id               0\n",
              "SepalLengthCm    0\n",
              "SepalWidthCm     0\n",
              "PetalLengthCm    0\n",
              "PetalWidthCm     0\n",
              "Species          0\n",
              "dtype: int64"
            ]
          },
          "execution_count": 75,
          "metadata": {},
          "output_type": "execute_result"
        }
      ],
      "source": [
        "iris.isna().sum()"
      ]
    },
    {
      "cell_type": "code",
      "execution_count": 76,
      "metadata": {
        "colab": {
          "base_uri": "https://localhost:8080/",
          "height": 206
        },
        "id": "CWLTMmgqs61r",
        "outputId": "d49cec4c-30a8-41e9-946a-f3df0f9c2cfa"
      },
      "outputs": [
        {
          "data": {
            "text/html": [
              "\n",
              "  <div id=\"df-0f7c7319-af3e-4f74-92da-0188b3c6d2e7\">\n",
              "    <div class=\"colab-df-container\">\n",
              "      <div>\n",
              "<style scoped>\n",
              "    .dataframe tbody tr th:only-of-type {\n",
              "        vertical-align: middle;\n",
              "    }\n",
              "\n",
              "    .dataframe tbody tr th {\n",
              "        vertical-align: top;\n",
              "    }\n",
              "\n",
              "    .dataframe thead th {\n",
              "        text-align: right;\n",
              "    }\n",
              "</style>\n",
              "<table border=\"1\" class=\"dataframe\">\n",
              "  <thead>\n",
              "    <tr style=\"text-align: right;\">\n",
              "      <th></th>\n",
              "      <th>count</th>\n",
              "      <th>mean</th>\n",
              "      <th>std</th>\n",
              "      <th>min</th>\n",
              "      <th>25%</th>\n",
              "      <th>50%</th>\n",
              "      <th>75%</th>\n",
              "      <th>max</th>\n",
              "    </tr>\n",
              "  </thead>\n",
              "  <tbody>\n",
              "    <tr>\n",
              "      <th>Id</th>\n",
              "      <td>150.0</td>\n",
              "      <td>75.500000</td>\n",
              "      <td>43.445368</td>\n",
              "      <td>1.0</td>\n",
              "      <td>38.25</td>\n",
              "      <td>75.50</td>\n",
              "      <td>112.75</td>\n",
              "      <td>150.0</td>\n",
              "    </tr>\n",
              "    <tr>\n",
              "      <th>SepalLengthCm</th>\n",
              "      <td>150.0</td>\n",
              "      <td>5.843333</td>\n",
              "      <td>0.828066</td>\n",
              "      <td>4.3</td>\n",
              "      <td>5.10</td>\n",
              "      <td>5.80</td>\n",
              "      <td>6.40</td>\n",
              "      <td>7.9</td>\n",
              "    </tr>\n",
              "    <tr>\n",
              "      <th>SepalWidthCm</th>\n",
              "      <td>150.0</td>\n",
              "      <td>3.054000</td>\n",
              "      <td>0.433594</td>\n",
              "      <td>2.0</td>\n",
              "      <td>2.80</td>\n",
              "      <td>3.00</td>\n",
              "      <td>3.30</td>\n",
              "      <td>4.4</td>\n",
              "    </tr>\n",
              "    <tr>\n",
              "      <th>PetalLengthCm</th>\n",
              "      <td>150.0</td>\n",
              "      <td>3.758667</td>\n",
              "      <td>1.764420</td>\n",
              "      <td>1.0</td>\n",
              "      <td>1.60</td>\n",
              "      <td>4.35</td>\n",
              "      <td>5.10</td>\n",
              "      <td>6.9</td>\n",
              "    </tr>\n",
              "    <tr>\n",
              "      <th>PetalWidthCm</th>\n",
              "      <td>150.0</td>\n",
              "      <td>1.198667</td>\n",
              "      <td>0.763161</td>\n",
              "      <td>0.1</td>\n",
              "      <td>0.30</td>\n",
              "      <td>1.30</td>\n",
              "      <td>1.80</td>\n",
              "      <td>2.5</td>\n",
              "    </tr>\n",
              "  </tbody>\n",
              "</table>\n",
              "</div>\n",
              "      <button class=\"colab-df-convert\" onclick=\"convertToInteractive('df-0f7c7319-af3e-4f74-92da-0188b3c6d2e7')\"\n",
              "              title=\"Convert this dataframe to an interactive table.\"\n",
              "              style=\"display:none;\">\n",
              "        \n",
              "  <svg xmlns=\"http://www.w3.org/2000/svg\" height=\"24px\"viewBox=\"0 0 24 24\"\n",
              "       width=\"24px\">\n",
              "    <path d=\"M0 0h24v24H0V0z\" fill=\"none\"/>\n",
              "    <path d=\"M18.56 5.44l.94 2.06.94-2.06 2.06-.94-2.06-.94-.94-2.06-.94 2.06-2.06.94zm-11 1L8.5 8.5l.94-2.06 2.06-.94-2.06-.94L8.5 2.5l-.94 2.06-2.06.94zm10 10l.94 2.06.94-2.06 2.06-.94-2.06-.94-.94-2.06-.94 2.06-2.06.94z\"/><path d=\"M17.41 7.96l-1.37-1.37c-.4-.4-.92-.59-1.43-.59-.52 0-1.04.2-1.43.59L10.3 9.45l-7.72 7.72c-.78.78-.78 2.05 0 2.83L4 21.41c.39.39.9.59 1.41.59.51 0 1.02-.2 1.41-.59l7.78-7.78 2.81-2.81c.8-.78.8-2.07 0-2.86zM5.41 20L4 18.59l7.72-7.72 1.47 1.35L5.41 20z\"/>\n",
              "  </svg>\n",
              "      </button>\n",
              "      \n",
              "  <style>\n",
              "    .colab-df-container {\n",
              "      display:flex;\n",
              "      flex-wrap:wrap;\n",
              "      gap: 12px;\n",
              "    }\n",
              "\n",
              "    .colab-df-convert {\n",
              "      background-color: #E8F0FE;\n",
              "      border: none;\n",
              "      border-radius: 50%;\n",
              "      cursor: pointer;\n",
              "      display: none;\n",
              "      fill: #1967D2;\n",
              "      height: 32px;\n",
              "      padding: 0 0 0 0;\n",
              "      width: 32px;\n",
              "    }\n",
              "\n",
              "    .colab-df-convert:hover {\n",
              "      background-color: #E2EBFA;\n",
              "      box-shadow: 0px 1px 2px rgba(60, 64, 67, 0.3), 0px 1px 3px 1px rgba(60, 64, 67, 0.15);\n",
              "      fill: #174EA6;\n",
              "    }\n",
              "\n",
              "    [theme=dark] .colab-df-convert {\n",
              "      background-color: #3B4455;\n",
              "      fill: #D2E3FC;\n",
              "    }\n",
              "\n",
              "    [theme=dark] .colab-df-convert:hover {\n",
              "      background-color: #434B5C;\n",
              "      box-shadow: 0px 1px 3px 1px rgba(0, 0, 0, 0.15);\n",
              "      filter: drop-shadow(0px 1px 2px rgba(0, 0, 0, 0.3));\n",
              "      fill: #FFFFFF;\n",
              "    }\n",
              "  </style>\n",
              "\n",
              "      <script>\n",
              "        const buttonEl =\n",
              "          document.querySelector('#df-0f7c7319-af3e-4f74-92da-0188b3c6d2e7 button.colab-df-convert');\n",
              "        buttonEl.style.display =\n",
              "          google.colab.kernel.accessAllowed ? 'block' : 'none';\n",
              "\n",
              "        async function convertToInteractive(key) {\n",
              "          const element = document.querySelector('#df-0f7c7319-af3e-4f74-92da-0188b3c6d2e7');\n",
              "          const dataTable =\n",
              "            await google.colab.kernel.invokeFunction('convertToInteractive',\n",
              "                                                     [key], {});\n",
              "          if (!dataTable) return;\n",
              "\n",
              "          const docLinkHtml = 'Like what you see? Visit the ' +\n",
              "            '<a target=\"_blank\" href=https://colab.research.google.com/notebooks/data_table.ipynb>data table notebook</a>'\n",
              "            + ' to learn more about interactive tables.';\n",
              "          element.innerHTML = '';\n",
              "          dataTable['output_type'] = 'display_data';\n",
              "          await google.colab.output.renderOutput(dataTable, element);\n",
              "          const docLink = document.createElement('div');\n",
              "          docLink.innerHTML = docLinkHtml;\n",
              "          element.appendChild(docLink);\n",
              "        }\n",
              "      </script>\n",
              "    </div>\n",
              "  </div>\n",
              "  "
            ],
            "text/plain": [
              "               count       mean        std  min    25%    50%     75%    max\n",
              "Id             150.0  75.500000  43.445368  1.0  38.25  75.50  112.75  150.0\n",
              "SepalLengthCm  150.0   5.843333   0.828066  4.3   5.10   5.80    6.40    7.9\n",
              "SepalWidthCm   150.0   3.054000   0.433594  2.0   2.80   3.00    3.30    4.4\n",
              "PetalLengthCm  150.0   3.758667   1.764420  1.0   1.60   4.35    5.10    6.9\n",
              "PetalWidthCm   150.0   1.198667   0.763161  0.1   0.30   1.30    1.80    2.5"
            ]
          },
          "execution_count": 76,
          "metadata": {},
          "output_type": "execute_result"
        }
      ],
      "source": [
        "iris.describe().T"
      ]
    },
    {
      "cell_type": "code",
      "execution_count": 115,
      "metadata": {
        "colab": {
          "base_uri": "https://localhost:8080/"
        },
        "id": "V7_s1rQky3w9",
        "outputId": "e2cc19f0-49ec-4f29-fbf2-3b4dfb34c27c"
      },
      "outputs": [
        {
          "name": "stderr",
          "output_type": "stream",
          "text": [
            "/usr/local/lib/python3.10/dist-packages/sklearn/preprocessing/_encoders.py:868: FutureWarning: `sparse` was renamed to `sparse_output` in version 1.2 and will be removed in 1.4. `sparse_output` is ignored unless you leave `sparse` to its default value.\n",
            "  warnings.warn(\n"
          ]
        }
      ],
      "source": [
        "from sklearn.preprocessing import OneHotEncoder\n",
        "OHE = OneHotEncoder(sparse = False)\n",
        "OHE.fit(iris[['Species']])\n",
        "iris[iris['Species'].unique()] = OHE.transform(iris[['Species']])"
      ]
    },
    {
      "cell_type": "code",
      "execution_count": 116,
      "metadata": {
        "colab": {
          "base_uri": "https://localhost:8080/",
          "height": 424
        },
        "id": "C02zzQw70eVA",
        "outputId": "b342d42e-54ab-4c90-9359-75eec4418c02"
      },
      "outputs": [
        {
          "data": {
            "text/html": [
              "\n",
              "  <div id=\"df-bc6bb8b8-0d66-4197-826c-ce1396b4b0a7\">\n",
              "    <div class=\"colab-df-container\">\n",
              "      <div>\n",
              "<style scoped>\n",
              "    .dataframe tbody tr th:only-of-type {\n",
              "        vertical-align: middle;\n",
              "    }\n",
              "\n",
              "    .dataframe tbody tr th {\n",
              "        vertical-align: top;\n",
              "    }\n",
              "\n",
              "    .dataframe thead th {\n",
              "        text-align: right;\n",
              "    }\n",
              "</style>\n",
              "<table border=\"1\" class=\"dataframe\">\n",
              "  <thead>\n",
              "    <tr style=\"text-align: right;\">\n",
              "      <th></th>\n",
              "      <th>Id</th>\n",
              "      <th>SepalLengthCm</th>\n",
              "      <th>SepalWidthCm</th>\n",
              "      <th>PetalLengthCm</th>\n",
              "      <th>PetalWidthCm</th>\n",
              "      <th>Species</th>\n",
              "      <th>Iris-setosa</th>\n",
              "      <th>Iris-versicolor</th>\n",
              "      <th>Iris-virginica</th>\n",
              "    </tr>\n",
              "  </thead>\n",
              "  <tbody>\n",
              "    <tr>\n",
              "      <th>0</th>\n",
              "      <td>1</td>\n",
              "      <td>5.1</td>\n",
              "      <td>3.5</td>\n",
              "      <td>1.4</td>\n",
              "      <td>0.2</td>\n",
              "      <td>Iris-setosa</td>\n",
              "      <td>1.0</td>\n",
              "      <td>0.0</td>\n",
              "      <td>0.0</td>\n",
              "    </tr>\n",
              "    <tr>\n",
              "      <th>1</th>\n",
              "      <td>2</td>\n",
              "      <td>4.9</td>\n",
              "      <td>3.0</td>\n",
              "      <td>1.4</td>\n",
              "      <td>0.2</td>\n",
              "      <td>Iris-setosa</td>\n",
              "      <td>1.0</td>\n",
              "      <td>0.0</td>\n",
              "      <td>0.0</td>\n",
              "    </tr>\n",
              "    <tr>\n",
              "      <th>2</th>\n",
              "      <td>3</td>\n",
              "      <td>4.7</td>\n",
              "      <td>3.2</td>\n",
              "      <td>1.3</td>\n",
              "      <td>0.2</td>\n",
              "      <td>Iris-setosa</td>\n",
              "      <td>1.0</td>\n",
              "      <td>0.0</td>\n",
              "      <td>0.0</td>\n",
              "    </tr>\n",
              "    <tr>\n",
              "      <th>3</th>\n",
              "      <td>4</td>\n",
              "      <td>4.6</td>\n",
              "      <td>3.1</td>\n",
              "      <td>1.5</td>\n",
              "      <td>0.2</td>\n",
              "      <td>Iris-setosa</td>\n",
              "      <td>1.0</td>\n",
              "      <td>0.0</td>\n",
              "      <td>0.0</td>\n",
              "    </tr>\n",
              "    <tr>\n",
              "      <th>4</th>\n",
              "      <td>5</td>\n",
              "      <td>5.0</td>\n",
              "      <td>3.6</td>\n",
              "      <td>1.4</td>\n",
              "      <td>0.2</td>\n",
              "      <td>Iris-setosa</td>\n",
              "      <td>1.0</td>\n",
              "      <td>0.0</td>\n",
              "      <td>0.0</td>\n",
              "    </tr>\n",
              "    <tr>\n",
              "      <th>...</th>\n",
              "      <td>...</td>\n",
              "      <td>...</td>\n",
              "      <td>...</td>\n",
              "      <td>...</td>\n",
              "      <td>...</td>\n",
              "      <td>...</td>\n",
              "      <td>...</td>\n",
              "      <td>...</td>\n",
              "      <td>...</td>\n",
              "    </tr>\n",
              "    <tr>\n",
              "      <th>145</th>\n",
              "      <td>146</td>\n",
              "      <td>6.7</td>\n",
              "      <td>3.0</td>\n",
              "      <td>5.2</td>\n",
              "      <td>2.3</td>\n",
              "      <td>Iris-virginica</td>\n",
              "      <td>0.0</td>\n",
              "      <td>0.0</td>\n",
              "      <td>1.0</td>\n",
              "    </tr>\n",
              "    <tr>\n",
              "      <th>146</th>\n",
              "      <td>147</td>\n",
              "      <td>6.3</td>\n",
              "      <td>2.5</td>\n",
              "      <td>5.0</td>\n",
              "      <td>1.9</td>\n",
              "      <td>Iris-virginica</td>\n",
              "      <td>0.0</td>\n",
              "      <td>0.0</td>\n",
              "      <td>1.0</td>\n",
              "    </tr>\n",
              "    <tr>\n",
              "      <th>147</th>\n",
              "      <td>148</td>\n",
              "      <td>6.5</td>\n",
              "      <td>3.0</td>\n",
              "      <td>5.2</td>\n",
              "      <td>2.0</td>\n",
              "      <td>Iris-virginica</td>\n",
              "      <td>0.0</td>\n",
              "      <td>0.0</td>\n",
              "      <td>1.0</td>\n",
              "    </tr>\n",
              "    <tr>\n",
              "      <th>148</th>\n",
              "      <td>149</td>\n",
              "      <td>6.2</td>\n",
              "      <td>3.4</td>\n",
              "      <td>5.4</td>\n",
              "      <td>2.3</td>\n",
              "      <td>Iris-virginica</td>\n",
              "      <td>0.0</td>\n",
              "      <td>0.0</td>\n",
              "      <td>1.0</td>\n",
              "    </tr>\n",
              "    <tr>\n",
              "      <th>149</th>\n",
              "      <td>150</td>\n",
              "      <td>5.9</td>\n",
              "      <td>3.0</td>\n",
              "      <td>5.1</td>\n",
              "      <td>1.8</td>\n",
              "      <td>Iris-virginica</td>\n",
              "      <td>0.0</td>\n",
              "      <td>0.0</td>\n",
              "      <td>1.0</td>\n",
              "    </tr>\n",
              "  </tbody>\n",
              "</table>\n",
              "<p>150 rows × 9 columns</p>\n",
              "</div>\n",
              "      <button class=\"colab-df-convert\" onclick=\"convertToInteractive('df-bc6bb8b8-0d66-4197-826c-ce1396b4b0a7')\"\n",
              "              title=\"Convert this dataframe to an interactive table.\"\n",
              "              style=\"display:none;\">\n",
              "        \n",
              "  <svg xmlns=\"http://www.w3.org/2000/svg\" height=\"24px\"viewBox=\"0 0 24 24\"\n",
              "       width=\"24px\">\n",
              "    <path d=\"M0 0h24v24H0V0z\" fill=\"none\"/>\n",
              "    <path d=\"M18.56 5.44l.94 2.06.94-2.06 2.06-.94-2.06-.94-.94-2.06-.94 2.06-2.06.94zm-11 1L8.5 8.5l.94-2.06 2.06-.94-2.06-.94L8.5 2.5l-.94 2.06-2.06.94zm10 10l.94 2.06.94-2.06 2.06-.94-2.06-.94-.94-2.06-.94 2.06-2.06.94z\"/><path d=\"M17.41 7.96l-1.37-1.37c-.4-.4-.92-.59-1.43-.59-.52 0-1.04.2-1.43.59L10.3 9.45l-7.72 7.72c-.78.78-.78 2.05 0 2.83L4 21.41c.39.39.9.59 1.41.59.51 0 1.02-.2 1.41-.59l7.78-7.78 2.81-2.81c.8-.78.8-2.07 0-2.86zM5.41 20L4 18.59l7.72-7.72 1.47 1.35L5.41 20z\"/>\n",
              "  </svg>\n",
              "      </button>\n",
              "      \n",
              "  <style>\n",
              "    .colab-df-container {\n",
              "      display:flex;\n",
              "      flex-wrap:wrap;\n",
              "      gap: 12px;\n",
              "    }\n",
              "\n",
              "    .colab-df-convert {\n",
              "      background-color: #E8F0FE;\n",
              "      border: none;\n",
              "      border-radius: 50%;\n",
              "      cursor: pointer;\n",
              "      display: none;\n",
              "      fill: #1967D2;\n",
              "      height: 32px;\n",
              "      padding: 0 0 0 0;\n",
              "      width: 32px;\n",
              "    }\n",
              "\n",
              "    .colab-df-convert:hover {\n",
              "      background-color: #E2EBFA;\n",
              "      box-shadow: 0px 1px 2px rgba(60, 64, 67, 0.3), 0px 1px 3px 1px rgba(60, 64, 67, 0.15);\n",
              "      fill: #174EA6;\n",
              "    }\n",
              "\n",
              "    [theme=dark] .colab-df-convert {\n",
              "      background-color: #3B4455;\n",
              "      fill: #D2E3FC;\n",
              "    }\n",
              "\n",
              "    [theme=dark] .colab-df-convert:hover {\n",
              "      background-color: #434B5C;\n",
              "      box-shadow: 0px 1px 3px 1px rgba(0, 0, 0, 0.15);\n",
              "      filter: drop-shadow(0px 1px 2px rgba(0, 0, 0, 0.3));\n",
              "      fill: #FFFFFF;\n",
              "    }\n",
              "  </style>\n",
              "\n",
              "      <script>\n",
              "        const buttonEl =\n",
              "          document.querySelector('#df-bc6bb8b8-0d66-4197-826c-ce1396b4b0a7 button.colab-df-convert');\n",
              "        buttonEl.style.display =\n",
              "          google.colab.kernel.accessAllowed ? 'block' : 'none';\n",
              "\n",
              "        async function convertToInteractive(key) {\n",
              "          const element = document.querySelector('#df-bc6bb8b8-0d66-4197-826c-ce1396b4b0a7');\n",
              "          const dataTable =\n",
              "            await google.colab.kernel.invokeFunction('convertToInteractive',\n",
              "                                                     [key], {});\n",
              "          if (!dataTable) return;\n",
              "\n",
              "          const docLinkHtml = 'Like what you see? Visit the ' +\n",
              "            '<a target=\"_blank\" href=https://colab.research.google.com/notebooks/data_table.ipynb>data table notebook</a>'\n",
              "            + ' to learn more about interactive tables.';\n",
              "          element.innerHTML = '';\n",
              "          dataTable['output_type'] = 'display_data';\n",
              "          await google.colab.output.renderOutput(dataTable, element);\n",
              "          const docLink = document.createElement('div');\n",
              "          docLink.innerHTML = docLinkHtml;\n",
              "          element.appendChild(docLink);\n",
              "        }\n",
              "      </script>\n",
              "    </div>\n",
              "  </div>\n",
              "  "
            ],
            "text/plain": [
              "      Id  SepalLengthCm  SepalWidthCm  PetalLengthCm  PetalWidthCm  \\\n",
              "0      1            5.1           3.5            1.4           0.2   \n",
              "1      2            4.9           3.0            1.4           0.2   \n",
              "2      3            4.7           3.2            1.3           0.2   \n",
              "3      4            4.6           3.1            1.5           0.2   \n",
              "4      5            5.0           3.6            1.4           0.2   \n",
              "..   ...            ...           ...            ...           ...   \n",
              "145  146            6.7           3.0            5.2           2.3   \n",
              "146  147            6.3           2.5            5.0           1.9   \n",
              "147  148            6.5           3.0            5.2           2.0   \n",
              "148  149            6.2           3.4            5.4           2.3   \n",
              "149  150            5.9           3.0            5.1           1.8   \n",
              "\n",
              "            Species  Iris-setosa  Iris-versicolor  Iris-virginica  \n",
              "0       Iris-setosa          1.0              0.0             0.0  \n",
              "1       Iris-setosa          1.0              0.0             0.0  \n",
              "2       Iris-setosa          1.0              0.0             0.0  \n",
              "3       Iris-setosa          1.0              0.0             0.0  \n",
              "4       Iris-setosa          1.0              0.0             0.0  \n",
              "..              ...          ...              ...             ...  \n",
              "145  Iris-virginica          0.0              0.0             1.0  \n",
              "146  Iris-virginica          0.0              0.0             1.0  \n",
              "147  Iris-virginica          0.0              0.0             1.0  \n",
              "148  Iris-virginica          0.0              0.0             1.0  \n",
              "149  Iris-virginica          0.0              0.0             1.0  \n",
              "\n",
              "[150 rows x 9 columns]"
            ]
          },
          "execution_count": 116,
          "metadata": {},
          "output_type": "execute_result"
        }
      ],
      "source": [
        "iris"
      ]
    },
    {
      "cell_type": "code",
      "execution_count": 117,
      "metadata": {
        "id": "nTvrHtu-0iIw"
      },
      "outputs": [],
      "source": [
        "X = iris.iloc[:,[1,2,3,4]]\n",
        "Y = iris.iloc[:,[-3,-2,-1]]"
      ]
    },
    {
      "cell_type": "code",
      "execution_count": 119,
      "metadata": {
        "id": "NoFYwRjBto_6"
      },
      "outputs": [],
      "source": [
        "X_train, X_test, Y_train, Y_test = train_test_split(X, Y, test_size = 0.2, random_state = 0, stratify = Y)"
      ]
    },
    {
      "cell_type": "code",
      "execution_count": 120,
      "metadata": {
        "id": "11VmbeEWt-a2"
      },
      "outputs": [],
      "source": [
        "RS = RobustScaler()\n",
        "X_train = RS.fit_transform(X_train)\n",
        "X_test = RS.transform(X_test)"
      ]
    },
    {
      "cell_type": "code",
      "execution_count": 123,
      "metadata": {
        "id": "o6CpG7DHvOLU"
      },
      "outputs": [],
      "source": [
        "model = keras.Sequential()\n",
        "model.add(layers.Dense(units = 64, activation = 'relu', input_shape = (4,)))\n",
        "model.add(layers.Dense(units = 16, activation = 'relu',))\n",
        "model.add(layers.Dense(units = 3, activation = 'softmax'))"
      ]
    },
    {
      "cell_type": "code",
      "execution_count": 124,
      "metadata": {
        "id": "P4Z05kFcyCyc"
      },
      "outputs": [],
      "source": [
        "model.compile(\n",
        "    optimizer = 'adam',\n",
        "    loss = 'categorical_crossentropy',\n",
        "    metrics = 'accuracy'\n",
        ")"
      ]
    },
    {
      "cell_type": "code",
      "execution_count": 125,
      "metadata": {
        "colab": {
          "base_uri": "https://localhost:8080/"
        },
        "id": "TMalf5Y-yP-y",
        "outputId": "e814d75c-6430-4ecc-e044-3e9bd092e26b"
      },
      "outputs": [
        {
          "name": "stdout",
          "output_type": "stream",
          "text": [
            "Epoch 1/100\n",
            "3/3 [==============================] - 1s 117ms/step - loss: 1.1070 - accuracy: 0.2812 - val_loss: 1.1255 - val_accuracy: 0.1667\n",
            "Epoch 2/100\n",
            "3/3 [==============================] - 0s 25ms/step - loss: 1.0602 - accuracy: 0.4688 - val_loss: 1.0769 - val_accuracy: 0.4167\n",
            "Epoch 3/100\n",
            "3/3 [==============================] - 0s 33ms/step - loss: 1.0162 - accuracy: 0.5938 - val_loss: 1.0344 - val_accuracy: 0.5000\n",
            "Epoch 4/100\n",
            "3/3 [==============================] - 0s 31ms/step - loss: 0.9761 - accuracy: 0.6875 - val_loss: 0.9963 - val_accuracy: 0.6250\n",
            "Epoch 5/100\n",
            "3/3 [==============================] - 0s 23ms/step - loss: 0.9378 - accuracy: 0.6979 - val_loss: 0.9598 - val_accuracy: 0.6667\n",
            "Epoch 6/100\n",
            "3/3 [==============================] - 0s 23ms/step - loss: 0.9017 - accuracy: 0.7188 - val_loss: 0.9250 - val_accuracy: 0.6667\n",
            "Epoch 7/100\n",
            "3/3 [==============================] - 0s 43ms/step - loss: 0.8665 - accuracy: 0.7396 - val_loss: 0.8907 - val_accuracy: 0.7083\n",
            "Epoch 8/100\n",
            "3/3 [==============================] - 0s 36ms/step - loss: 0.8320 - accuracy: 0.7500 - val_loss: 0.8587 - val_accuracy: 0.7500\n",
            "Epoch 9/100\n",
            "3/3 [==============================] - 0s 32ms/step - loss: 0.8002 - accuracy: 0.7500 - val_loss: 0.8286 - val_accuracy: 0.7500\n",
            "Epoch 10/100\n",
            "3/3 [==============================] - 0s 32ms/step - loss: 0.7689 - accuracy: 0.7500 - val_loss: 0.7998 - val_accuracy: 0.7500\n",
            "Epoch 11/100\n",
            "3/3 [==============================] - 0s 30ms/step - loss: 0.7391 - accuracy: 0.7500 - val_loss: 0.7729 - val_accuracy: 0.7083\n",
            "Epoch 12/100\n",
            "3/3 [==============================] - 0s 29ms/step - loss: 0.7100 - accuracy: 0.7500 - val_loss: 0.7478 - val_accuracy: 0.7083\n",
            "Epoch 13/100\n",
            "3/3 [==============================] - 0s 31ms/step - loss: 0.6837 - accuracy: 0.7708 - val_loss: 0.7239 - val_accuracy: 0.7083\n",
            "Epoch 14/100\n",
            "3/3 [==============================] - 0s 24ms/step - loss: 0.6590 - accuracy: 0.7812 - val_loss: 0.7021 - val_accuracy: 0.7083\n",
            "Epoch 15/100\n",
            "3/3 [==============================] - 0s 25ms/step - loss: 0.6369 - accuracy: 0.7812 - val_loss: 0.6820 - val_accuracy: 0.7083\n",
            "Epoch 16/100\n",
            "3/3 [==============================] - 0s 31ms/step - loss: 0.6145 - accuracy: 0.7917 - val_loss: 0.6633 - val_accuracy: 0.7083\n",
            "Epoch 17/100\n",
            "3/3 [==============================] - 0s 22ms/step - loss: 0.5945 - accuracy: 0.7917 - val_loss: 0.6460 - val_accuracy: 0.7083\n",
            "Epoch 18/100\n",
            "3/3 [==============================] - 0s 26ms/step - loss: 0.5762 - accuracy: 0.8021 - val_loss: 0.6298 - val_accuracy: 0.7083\n",
            "Epoch 19/100\n",
            "3/3 [==============================] - 0s 35ms/step - loss: 0.5579 - accuracy: 0.8021 - val_loss: 0.6145 - val_accuracy: 0.7083\n",
            "Epoch 20/100\n",
            "3/3 [==============================] - 0s 41ms/step - loss: 0.5428 - accuracy: 0.8021 - val_loss: 0.6001 - val_accuracy: 0.7083\n",
            "Epoch 21/100\n",
            "3/3 [==============================] - 0s 33ms/step - loss: 0.5272 - accuracy: 0.8021 - val_loss: 0.5861 - val_accuracy: 0.7083\n",
            "Epoch 22/100\n",
            "3/3 [==============================] - 0s 22ms/step - loss: 0.5132 - accuracy: 0.8021 - val_loss: 0.5734 - val_accuracy: 0.7083\n",
            "Epoch 23/100\n",
            "3/3 [==============================] - 0s 23ms/step - loss: 0.5003 - accuracy: 0.8125 - val_loss: 0.5607 - val_accuracy: 0.7083\n",
            "Epoch 24/100\n",
            "3/3 [==============================] - 0s 23ms/step - loss: 0.4875 - accuracy: 0.8229 - val_loss: 0.5487 - val_accuracy: 0.7083\n",
            "Epoch 25/100\n",
            "3/3 [==============================] - 0s 32ms/step - loss: 0.4754 - accuracy: 0.8229 - val_loss: 0.5371 - val_accuracy: 0.7083\n",
            "Epoch 26/100\n",
            "3/3 [==============================] - 0s 24ms/step - loss: 0.4640 - accuracy: 0.8229 - val_loss: 0.5258 - val_accuracy: 0.7083\n",
            "Epoch 27/100\n",
            "3/3 [==============================] - 0s 22ms/step - loss: 0.4528 - accuracy: 0.8333 - val_loss: 0.5146 - val_accuracy: 0.7500\n",
            "Epoch 28/100\n",
            "3/3 [==============================] - 0s 23ms/step - loss: 0.4426 - accuracy: 0.8333 - val_loss: 0.5037 - val_accuracy: 0.7500\n",
            "Epoch 29/100\n",
            "3/3 [==============================] - 0s 24ms/step - loss: 0.4320 - accuracy: 0.8333 - val_loss: 0.4931 - val_accuracy: 0.7917\n",
            "Epoch 30/100\n",
            "3/3 [==============================] - 0s 23ms/step - loss: 0.4216 - accuracy: 0.8333 - val_loss: 0.4830 - val_accuracy: 0.7917\n",
            "Epoch 31/100\n",
            "3/3 [==============================] - 0s 23ms/step - loss: 0.4123 - accuracy: 0.8438 - val_loss: 0.4728 - val_accuracy: 0.7917\n",
            "Epoch 32/100\n",
            "3/3 [==============================] - 0s 40ms/step - loss: 0.4022 - accuracy: 0.8438 - val_loss: 0.4631 - val_accuracy: 0.7917\n",
            "Epoch 33/100\n",
            "3/3 [==============================] - 0s 32ms/step - loss: 0.3927 - accuracy: 0.8438 - val_loss: 0.4535 - val_accuracy: 0.7917\n",
            "Epoch 34/100\n",
            "3/3 [==============================] - 0s 29ms/step - loss: 0.3839 - accuracy: 0.8542 - val_loss: 0.4439 - val_accuracy: 0.7917\n",
            "Epoch 35/100\n",
            "3/3 [==============================] - 0s 33ms/step - loss: 0.3746 - accuracy: 0.8646 - val_loss: 0.4347 - val_accuracy: 0.7917\n",
            "Epoch 36/100\n",
            "3/3 [==============================] - 0s 24ms/step - loss: 0.3653 - accuracy: 0.8646 - val_loss: 0.4256 - val_accuracy: 0.7917\n",
            "Epoch 37/100\n",
            "3/3 [==============================] - 0s 30ms/step - loss: 0.3569 - accuracy: 0.8750 - val_loss: 0.4167 - val_accuracy: 0.7917\n",
            "Epoch 38/100\n",
            "3/3 [==============================] - 0s 32ms/step - loss: 0.3477 - accuracy: 0.8750 - val_loss: 0.4080 - val_accuracy: 0.7917\n",
            "Epoch 39/100\n",
            "3/3 [==============================] - 0s 31ms/step - loss: 0.3392 - accuracy: 0.8646 - val_loss: 0.3996 - val_accuracy: 0.8333\n",
            "Epoch 40/100\n",
            "3/3 [==============================] - 0s 37ms/step - loss: 0.3308 - accuracy: 0.8646 - val_loss: 0.3913 - val_accuracy: 0.8333\n",
            "Epoch 41/100\n",
            "3/3 [==============================] - 0s 32ms/step - loss: 0.3234 - accuracy: 0.8854 - val_loss: 0.3820 - val_accuracy: 0.8333\n",
            "Epoch 42/100\n",
            "3/3 [==============================] - 0s 26ms/step - loss: 0.3144 - accuracy: 0.8854 - val_loss: 0.3741 - val_accuracy: 0.8750\n",
            "Epoch 43/100\n",
            "3/3 [==============================] - 0s 17ms/step - loss: 0.3064 - accuracy: 0.8958 - val_loss: 0.3658 - val_accuracy: 0.8750\n",
            "Epoch 44/100\n",
            "3/3 [==============================] - 0s 16ms/step - loss: 0.2988 - accuracy: 0.8958 - val_loss: 0.3582 - val_accuracy: 0.8750\n",
            "Epoch 45/100\n",
            "3/3 [==============================] - 0s 17ms/step - loss: 0.2911 - accuracy: 0.9062 - val_loss: 0.3499 - val_accuracy: 0.8750\n",
            "Epoch 46/100\n",
            "3/3 [==============================] - 0s 18ms/step - loss: 0.2834 - accuracy: 0.9271 - val_loss: 0.3425 - val_accuracy: 0.8750\n",
            "Epoch 47/100\n",
            "3/3 [==============================] - 0s 17ms/step - loss: 0.2761 - accuracy: 0.9375 - val_loss: 0.3353 - val_accuracy: 0.8750\n",
            "Epoch 48/100\n",
            "3/3 [==============================] - 0s 25ms/step - loss: 0.2688 - accuracy: 0.9375 - val_loss: 0.3287 - val_accuracy: 0.8750\n",
            "Epoch 49/100\n",
            "3/3 [==============================] - 0s 28ms/step - loss: 0.2617 - accuracy: 0.9375 - val_loss: 0.3212 - val_accuracy: 0.8750\n",
            "Epoch 50/100\n",
            "3/3 [==============================] - 0s 17ms/step - loss: 0.2542 - accuracy: 0.9479 - val_loss: 0.3150 - val_accuracy: 0.8750\n",
            "Epoch 51/100\n",
            "3/3 [==============================] - 0s 16ms/step - loss: 0.2479 - accuracy: 0.9375 - val_loss: 0.3081 - val_accuracy: 0.8750\n",
            "Epoch 52/100\n",
            "3/3 [==============================] - 0s 19ms/step - loss: 0.2410 - accuracy: 0.9375 - val_loss: 0.3019 - val_accuracy: 0.9167\n",
            "Epoch 53/100\n",
            "3/3 [==============================] - 0s 16ms/step - loss: 0.2353 - accuracy: 0.9583 - val_loss: 0.2956 - val_accuracy: 0.9167\n",
            "Epoch 54/100\n",
            "3/3 [==============================] - 0s 21ms/step - loss: 0.2284 - accuracy: 0.9583 - val_loss: 0.2904 - val_accuracy: 0.9167\n",
            "Epoch 55/100\n",
            "3/3 [==============================] - 0s 17ms/step - loss: 0.2228 - accuracy: 0.9583 - val_loss: 0.2843 - val_accuracy: 0.9167\n",
            "Epoch 56/100\n",
            "3/3 [==============================] - 0s 17ms/step - loss: 0.2162 - accuracy: 0.9583 - val_loss: 0.2793 - val_accuracy: 0.9167\n",
            "Epoch 57/100\n",
            "3/3 [==============================] - 0s 22ms/step - loss: 0.2103 - accuracy: 0.9583 - val_loss: 0.2742 - val_accuracy: 0.9167\n",
            "Epoch 58/100\n",
            "3/3 [==============================] - 0s 28ms/step - loss: 0.2048 - accuracy: 0.9583 - val_loss: 0.2692 - val_accuracy: 0.9167\n",
            "Epoch 59/100\n",
            "3/3 [==============================] - 0s 18ms/step - loss: 0.1987 - accuracy: 0.9583 - val_loss: 0.2641 - val_accuracy: 0.9167\n",
            "Epoch 60/100\n",
            "3/3 [==============================] - 0s 19ms/step - loss: 0.1933 - accuracy: 0.9583 - val_loss: 0.2594 - val_accuracy: 0.8750\n",
            "Epoch 61/100\n",
            "3/3 [==============================] - 0s 17ms/step - loss: 0.1885 - accuracy: 0.9583 - val_loss: 0.2549 - val_accuracy: 0.9167\n",
            "Epoch 62/100\n",
            "3/3 [==============================] - 0s 17ms/step - loss: 0.1833 - accuracy: 0.9583 - val_loss: 0.2506 - val_accuracy: 0.9167\n",
            "Epoch 63/100\n",
            "3/3 [==============================] - 0s 18ms/step - loss: 0.1787 - accuracy: 0.9688 - val_loss: 0.2458 - val_accuracy: 0.9167\n",
            "Epoch 64/100\n",
            "3/3 [==============================] - 0s 18ms/step - loss: 0.1736 - accuracy: 0.9688 - val_loss: 0.2415 - val_accuracy: 0.9167\n",
            "Epoch 65/100\n",
            "3/3 [==============================] - 0s 17ms/step - loss: 0.1688 - accuracy: 0.9688 - val_loss: 0.2375 - val_accuracy: 0.9167\n",
            "Epoch 66/100\n",
            "3/3 [==============================] - 0s 27ms/step - loss: 0.1643 - accuracy: 0.9688 - val_loss: 0.2336 - val_accuracy: 0.9167\n",
            "Epoch 67/100\n",
            "3/3 [==============================] - 0s 17ms/step - loss: 0.1599 - accuracy: 0.9792 - val_loss: 0.2298 - val_accuracy: 0.9167\n",
            "Epoch 68/100\n",
            "3/3 [==============================] - 0s 17ms/step - loss: 0.1554 - accuracy: 0.9792 - val_loss: 0.2263 - val_accuracy: 0.9167\n",
            "Epoch 69/100\n",
            "3/3 [==============================] - 0s 19ms/step - loss: 0.1515 - accuracy: 0.9792 - val_loss: 0.2226 - val_accuracy: 0.9167\n",
            "Epoch 70/100\n",
            "3/3 [==============================] - 0s 25ms/step - loss: 0.1473 - accuracy: 0.9688 - val_loss: 0.2194 - val_accuracy: 0.9167\n",
            "Epoch 71/100\n",
            "3/3 [==============================] - 0s 16ms/step - loss: 0.1437 - accuracy: 0.9688 - val_loss: 0.2156 - val_accuracy: 0.9167\n",
            "Epoch 72/100\n",
            "3/3 [==============================] - 0s 17ms/step - loss: 0.1403 - accuracy: 0.9688 - val_loss: 0.2115 - val_accuracy: 0.9167\n",
            "Epoch 73/100\n",
            "3/3 [==============================] - 0s 18ms/step - loss: 0.1362 - accuracy: 0.9688 - val_loss: 0.2082 - val_accuracy: 0.9167\n",
            "Epoch 74/100\n",
            "3/3 [==============================] - 0s 17ms/step - loss: 0.1327 - accuracy: 0.9688 - val_loss: 0.2051 - val_accuracy: 0.9167\n",
            "Epoch 75/100\n",
            "3/3 [==============================] - 0s 19ms/step - loss: 0.1297 - accuracy: 0.9688 - val_loss: 0.2021 - val_accuracy: 0.9167\n",
            "Epoch 76/100\n",
            "3/3 [==============================] - 0s 17ms/step - loss: 0.1265 - accuracy: 0.9688 - val_loss: 0.1992 - val_accuracy: 0.9167\n",
            "Epoch 77/100\n",
            "3/3 [==============================] - 0s 17ms/step - loss: 0.1234 - accuracy: 0.9688 - val_loss: 0.1961 - val_accuracy: 0.9167\n",
            "Epoch 78/100\n",
            "3/3 [==============================] - 0s 18ms/step - loss: 0.1202 - accuracy: 0.9688 - val_loss: 0.1937 - val_accuracy: 0.9167\n",
            "Epoch 79/100\n",
            "3/3 [==============================] - 0s 17ms/step - loss: 0.1174 - accuracy: 0.9688 - val_loss: 0.1914 - val_accuracy: 0.9167\n",
            "Epoch 80/100\n",
            "3/3 [==============================] - 0s 26ms/step - loss: 0.1148 - accuracy: 0.9688 - val_loss: 0.1889 - val_accuracy: 0.9167\n",
            "Epoch 81/100\n",
            "3/3 [==============================] - 0s 27ms/step - loss: 0.1119 - accuracy: 0.9688 - val_loss: 0.1868 - val_accuracy: 0.9167\n",
            "Epoch 82/100\n",
            "3/3 [==============================] - 0s 16ms/step - loss: 0.1096 - accuracy: 0.9688 - val_loss: 0.1845 - val_accuracy: 0.9167\n",
            "Epoch 83/100\n",
            "3/3 [==============================] - 0s 26ms/step - loss: 0.1069 - accuracy: 0.9688 - val_loss: 0.1825 - val_accuracy: 0.9167\n",
            "Epoch 84/100\n",
            "3/3 [==============================] - 0s 17ms/step - loss: 0.1046 - accuracy: 0.9688 - val_loss: 0.1807 - val_accuracy: 0.9167\n",
            "Epoch 85/100\n",
            "3/3 [==============================] - 0s 17ms/step - loss: 0.1025 - accuracy: 0.9688 - val_loss: 0.1784 - val_accuracy: 0.9167\n",
            "Epoch 86/100\n",
            "3/3 [==============================] - 0s 17ms/step - loss: 0.1003 - accuracy: 0.9688 - val_loss: 0.1759 - val_accuracy: 0.9167\n",
            "Epoch 87/100\n",
            "3/3 [==============================] - 0s 18ms/step - loss: 0.0982 - accuracy: 0.9688 - val_loss: 0.1741 - val_accuracy: 0.9167\n",
            "Epoch 88/100\n",
            "3/3 [==============================] - 0s 20ms/step - loss: 0.0962 - accuracy: 0.9688 - val_loss: 0.1725 - val_accuracy: 0.9167\n",
            "Epoch 89/100\n",
            "3/3 [==============================] - 0s 22ms/step - loss: 0.0946 - accuracy: 0.9688 - val_loss: 0.1710 - val_accuracy: 0.9167\n",
            "Epoch 90/100\n",
            "3/3 [==============================] - 0s 18ms/step - loss: 0.0923 - accuracy: 0.9688 - val_loss: 0.1693 - val_accuracy: 0.9167\n",
            "Epoch 91/100\n",
            "3/3 [==============================] - 0s 17ms/step - loss: 0.0907 - accuracy: 0.9688 - val_loss: 0.1676 - val_accuracy: 0.9167\n",
            "Epoch 92/100\n",
            "3/3 [==============================] - 0s 19ms/step - loss: 0.0889 - accuracy: 0.9688 - val_loss: 0.1660 - val_accuracy: 0.9167\n",
            "Epoch 93/100\n",
            "3/3 [==============================] - 0s 17ms/step - loss: 0.0873 - accuracy: 0.9688 - val_loss: 0.1644 - val_accuracy: 0.9167\n",
            "Epoch 94/100\n",
            "3/3 [==============================] - 0s 16ms/step - loss: 0.0857 - accuracy: 0.9688 - val_loss: 0.1627 - val_accuracy: 0.9167\n",
            "Epoch 95/100\n",
            "3/3 [==============================] - 0s 18ms/step - loss: 0.0843 - accuracy: 0.9688 - val_loss: 0.1615 - val_accuracy: 0.9167\n",
            "Epoch 96/100\n",
            "3/3 [==============================] - 0s 19ms/step - loss: 0.0829 - accuracy: 0.9688 - val_loss: 0.1602 - val_accuracy: 0.9167\n",
            "Epoch 97/100\n",
            "3/3 [==============================] - 0s 19ms/step - loss: 0.0814 - accuracy: 0.9688 - val_loss: 0.1589 - val_accuracy: 0.9167\n",
            "Epoch 98/100\n",
            "3/3 [==============================] - 0s 17ms/step - loss: 0.0803 - accuracy: 0.9688 - val_loss: 0.1579 - val_accuracy: 0.9167\n",
            "Epoch 99/100\n",
            "3/3 [==============================] - 0s 17ms/step - loss: 0.0787 - accuracy: 0.9688 - val_loss: 0.1571 - val_accuracy: 0.9167\n",
            "Epoch 100/100\n",
            "3/3 [==============================] - 0s 17ms/step - loss: 0.0775 - accuracy: 0.9688 - val_loss: 0.1560 - val_accuracy: 0.9167\n"
          ]
        }
      ],
      "source": [
        "History = model.fit(\n",
        "    X_train,Y_train,\n",
        "    epochs = 100,\n",
        "    batch_size = 32,\n",
        "    validation_split = 0.2,\n",
        "    verbose = 1\n",
        ")\n"
      ]
    },
    {
      "cell_type": "code",
      "execution_count": 126,
      "metadata": {
        "id": "ieaCzXOo09pF"
      },
      "outputs": [],
      "source": [
        "def plot_history(History):\n",
        "    hist = pd.DataFrame(History.history)\n",
        "    hist['epoch']= History.epoch\n",
        "\n",
        "    plt.figure(figsize=(16, 8))\n",
        "    plt.subplot(1, 2, 1)\n",
        "    plt.xlabel('Epoch')\n",
        "    plt.ylabel('Loss')\n",
        "    plt.plot(hist['epoch'], hist['loss'], label='Train Loss')\n",
        "    plt.plot(hist['epoch'], hist['val_loss'], label='Val Loss')\n",
        "\n",
        "    plt.subplot(1, 2, 2)\n",
        "    plt.xlabel('Epoch')\n",
        "    plt.ylabel('Accuracy')\n",
        "    plt.plot(hist['epoch'], hist['accuracy'], label='Train Accuracy')\n",
        "    plt.plot(hist['epoch'], hist['val_accuracy'], label='Val Accuracy')\n",
        "\n",
        "    plt.legend()\n",
        "    plt.show()"
      ]
    },
    {
      "cell_type": "code",
      "execution_count": 127,
      "metadata": {
        "colab": {
          "base_uri": "https://localhost:8080/",
          "height": 696
        },
        "id": "M69AdF051DPU",
        "outputId": "de8815d4-7385-4ad4-adf1-867e9a41472c"
      },
      "outputs": [
        {
          "data": {
            "image/png": "[encoded data removed]",
            "text/plain": [
              "<Figure size 1600x800 with 2 Axes>"
            ]
          },
          "metadata": {},
          "output_type": "display_data"
        }
      ],
      "source": [
        "plot_history(History)"
      ]
    },
    {
      "cell_type": "code",
      "execution_count": 128,
      "metadata": {
        "colab": {
          "base_uri": "https://localhost:8080/"
        },
        "id": "v6jmjKN-1EZe",
        "outputId": "6a4f490e-a400-47ec-dd6e-a69948e2bd24"
      },
      "outputs": [
        {
          "name": "stdout",
          "output_type": "stream",
          "text": [
            "1/1 [==============================] - 0s 185ms/step\n"
          ]
        }
      ],
      "source": [
        "Y_pred = model.predict(X_test)"
      ]
    },
    {
      "cell_type": "code",
      "execution_count": 129,
      "metadata": {
        "colab": {
          "base_uri": "https://localhost:8080/"
        },
        "id": "HxXTriwH2t79",
        "outputId": "91b992ae-3e48-4d7f-d0ca-d72f198bc4b4"
      },
      "outputs": [
        {
          "data": {
            "text/plain": [
              "array([[5.3892443e-05, 1.6512419e-03, 9.9829483e-01],\n",
              "       [2.2136360e-02, 9.2494118e-01, 5.2922487e-02],\n",
              "       [8.9992045e-06, 4.7773341e-04, 9.9951321e-01],\n",
              "       [9.9343026e-01, 6.4164535e-03, 1.5341213e-04],\n",
              "       [1.5219420e-04, 1.1701229e-02, 9.8814660e-01]], dtype=float32)"
            ]
          },
          "execution_count": 129,
          "metadata": {},
          "output_type": "execute_result"
        }
      ],
      "source": [
        "Y_pred[:5]"
      ]
    },
    {
      "cell_type": "code",
      "execution_count": 130,
      "metadata": {
        "colab": {
          "base_uri": "https://localhost:8080/",
          "height": 206
        },
        "id": "Zmxgouwi2xBd",
        "outputId": "93fa4ad1-7f37-4b91-b51c-d4d6928957ff"
      },
      "outputs": [
        {
          "data": {
            "text/html": [
              "\n",
              "  <div id=\"df-e1d145f7-ed8f-4722-a2f7-3c4c42941254\">\n",
              "    <div class=\"colab-df-container\">\n",
              "      <div>\n",
              "<style scoped>\n",
              "    .dataframe tbody tr th:only-of-type {\n",
              "        vertical-align: middle;\n",
              "    }\n",
              "\n",
              "    .dataframe tbody tr th {\n",
              "        vertical-align: top;\n",
              "    }\n",
              "\n",
              "    .dataframe thead th {\n",
              "        text-align: right;\n",
              "    }\n",
              "</style>\n",
              "<table border=\"1\" class=\"dataframe\">\n",
              "  <thead>\n",
              "    <tr style=\"text-align: right;\">\n",
              "      <th></th>\n",
              "      <th>Iris-setosa</th>\n",
              "      <th>Iris-versicolor</th>\n",
              "      <th>Iris-virginica</th>\n",
              "    </tr>\n",
              "  </thead>\n",
              "  <tbody>\n",
              "    <tr>\n",
              "      <th>136</th>\n",
              "      <td>0.0</td>\n",
              "      <td>0.0</td>\n",
              "      <td>1.0</td>\n",
              "    </tr>\n",
              "    <tr>\n",
              "      <th>55</th>\n",
              "      <td>0.0</td>\n",
              "      <td>1.0</td>\n",
              "      <td>0.0</td>\n",
              "    </tr>\n",
              "    <tr>\n",
              "      <th>144</th>\n",
              "      <td>0.0</td>\n",
              "      <td>0.0</td>\n",
              "      <td>1.0</td>\n",
              "    </tr>\n",
              "    <tr>\n",
              "      <th>34</th>\n",
              "      <td>1.0</td>\n",
              "      <td>0.0</td>\n",
              "      <td>0.0</td>\n",
              "    </tr>\n",
              "    <tr>\n",
              "      <th>139</th>\n",
              "      <td>0.0</td>\n",
              "      <td>0.0</td>\n",
              "      <td>1.0</td>\n",
              "    </tr>\n",
              "  </tbody>\n",
              "</table>\n",
              "</div>\n",
              "      <button class=\"colab-df-convert\" onclick=\"convertToInteractive('df-e1d145f7-ed8f-4722-a2f7-3c4c42941254')\"\n",
              "              title=\"Convert this dataframe to an interactive table.\"\n",
              "              style=\"display:none;\">\n",
              "        \n",
              "  <svg xmlns=\"http://www.w3.org/2000/svg\" height=\"24px\"viewBox=\"0 0 24 24\"\n",
              "       width=\"24px\">\n",
              "    <path d=\"M0 0h24v24H0V0z\" fill=\"none\"/>\n",
              "    <path d=\"M18.56 5.44l.94 2.06.94-2.06 2.06-.94-2.06-.94-.94-2.06-.94 2.06-2.06.94zm-11 1L8.5 8.5l.94-2.06 2.06-.94-2.06-.94L8.5 2.5l-.94 2.06-2.06.94zm10 10l.94 2.06.94-2.06 2.06-.94-2.06-.94-.94-2.06-.94 2.06-2.06.94z\"/><path d=\"M17.41 7.96l-1.37-1.37c-.4-.4-.92-.59-1.43-.59-.52 0-1.04.2-1.43.59L10.3 9.45l-7.72 7.72c-.78.78-.78 2.05 0 2.83L4 21.41c.39.39.9.59 1.41.59.51 0 1.02-.2 1.41-.59l7.78-7.78 2.81-2.81c.8-.78.8-2.07 0-2.86zM5.41 20L4 18.59l7.72-7.72 1.47 1.35L5.41 20z\"/>\n",
              "  </svg>\n",
              "      </button>\n",
              "      \n",
              "  <style>\n",
              "    .colab-df-container {\n",
              "      display:flex;\n",
              "      flex-wrap:wrap;\n",
              "      gap: 12px;\n",
              "    }\n",
              "\n",
              "    .colab-df-convert {\n",
              "      background-color: #E8F0FE;\n",
              "      border: none;\n",
              "      border-radius: 50%;\n",
              "      cursor: pointer;\n",
              "      display: none;\n",
              "      fill: #1967D2;\n",
              "      height: 32px;\n",
              "      padding: 0 0 0 0;\n",
              "      width: 32px;\n",
              "    }\n",
              "\n",
              "    .colab-df-convert:hover {\n",
              "      background-color: #E2EBFA;\n",
              "      box-shadow: 0px 1px 2px rgba(60, 64, 67, 0.3), 0px 1px 3px 1px rgba(60, 64, 67, 0.15);\n",
              "      fill: #174EA6;\n",
              "    }\n",
              "\n",
              "    [theme=dark] .colab-df-convert {\n",
              "      background-color: #3B4455;\n",
              "      fill: #D2E3FC;\n",
              "    }\n",
              "\n",
              "    [theme=dark] .colab-df-convert:hover {\n",
              "      background-color: #434B5C;\n",
              "      box-shadow: 0px 1px 3px 1px rgba(0, 0, 0, 0.15);\n",
              "      filter: drop-shadow(0px 1px 2px rgba(0, 0, 0, 0.3));\n",
              "      fill: #FFFFFF;\n",
              "    }\n",
              "  </style>\n",
              "\n",
              "      <script>\n",
              "        const buttonEl =\n",
              "          document.querySelector('#df-e1d145f7-ed8f-4722-a2f7-3c4c42941254 button.colab-df-convert');\n",
              "        buttonEl.style.display =\n",
              "          google.colab.kernel.accessAllowed ? 'block' : 'none';\n",
              "\n",
              "        async function convertToInteractive(key) {\n",
              "          const element = document.querySelector('#df-e1d145f7-ed8f-4722-a2f7-3c4c42941254');\n",
              "          const dataTable =\n",
              "            await google.colab.kernel.invokeFunction('convertToInteractive',\n",
              "                                                     [key], {});\n",
              "          if (!dataTable) return;\n",
              "\n",
              "          const docLinkHtml = 'Like what you see? Visit the ' +\n",
              "            '<a target=\"_blank\" href=https://colab.research.google.com/notebooks/data_table.ipynb>data table notebook</a>'\n",
              "            + ' to learn more about interactive tables.';\n",
              "          element.innerHTML = '';\n",
              "          dataTable['output_type'] = 'display_data';\n",
              "          await google.colab.output.renderOutput(dataTable, element);\n",
              "          const docLink = document.createElement('div');\n",
              "          docLink.innerHTML = docLinkHtml;\n",
              "          element.appendChild(docLink);\n",
              "        }\n",
              "      </script>\n",
              "    </div>\n",
              "  </div>\n",
              "  "
            ],
            "text/plain": [
              "     Iris-setosa  Iris-versicolor  Iris-virginica\n",
              "136          0.0              0.0             1.0\n",
              "55           0.0              1.0             0.0\n",
              "144          0.0              0.0             1.0\n",
              "34           1.0              0.0             0.0\n",
              "139          0.0              0.0             1.0"
            ]
          },
          "execution_count": 130,
          "metadata": {},
          "output_type": "execute_result"
        }
      ],
      "source": [
        "Y_test[:5]"
      ]
    },
    {
      "cell_type": "code",
      "execution_count": 137,
      "metadata": {
        "id": "pMhNQktu3I3y"
      },
      "outputs": [],
      "source": [
        "Y_pred = np.argmax(Y_pred, axis = 1) # 가장 큰 값을 인덱스로 돌려줌"
      ]
    },
    {
      "cell_type": "code",
      "execution_count": 134,
      "metadata": {
        "id": "FxKb76sp32L3"
      },
      "outputs": [],
      "source": [
        "Y_test = Y_test.values"
      ]
    },
    {
      "cell_type": "code",
      "execution_count": 135,
      "metadata": {
        "colab": {
          "base_uri": "https://localhost:8080/"
        },
        "id": "JScgNwB836qn",
        "outputId": "bb7b95e1-9f0c-41c2-b027-27b3794c992f"
      },
      "outputs": [
        {
          "data": {
            "text/plain": [
              "array([[0., 0., 1.],\n",
              "       [0., 1., 0.],\n",
              "       [0., 0., 1.],\n",
              "       [1., 0., 0.],\n",
              "       [0., 0., 1.],\n",
              "       [0., 1., 0.],\n",
              "       [1., 0., 0.],\n",
              "       [0., 0., 1.],\n",
              "       [0., 0., 1.],\n",
              "       [0., 1., 0.],\n",
              "       [1., 0., 0.],\n",
              "       [0., 1., 0.],\n",
              "       [0., 1., 0.],\n",
              "       [1., 0., 0.],\n",
              "       [0., 1., 0.],\n",
              "       [1., 0., 0.],\n",
              "       [1., 0., 0.],\n",
              "       [0., 1., 0.],\n",
              "       [0., 1., 0.],\n",
              "       [0., 0., 1.],\n",
              "       [0., 0., 1.],\n",
              "       [1., 0., 0.],\n",
              "       [1., 0., 0.],\n",
              "       [1., 0., 0.],\n",
              "       [0., 0., 1.],\n",
              "       [0., 1., 0.],\n",
              "       [0., 1., 0.],\n",
              "       [1., 0., 0.],\n",
              "       [0., 0., 1.],\n",
              "       [0., 0., 1.]])"
            ]
          },
          "execution_count": 135,
          "metadata": {},
          "output_type": "execute_result"
        }
      ],
      "source": [
        "Y_test"
      ]
    },
    {
      "cell_type": "code",
      "execution_count": 138,
      "metadata": {
        "id": "Wb0kJKWo3qc2"
      },
      "outputs": [],
      "source": [
        "Y_test = np.argmax(Y_test, axis = 1)"
      ]
    },
    {
      "cell_type": "code",
      "execution_count": 139,
      "metadata": {
        "colab": {
          "base_uri": "https://localhost:8080/",
          "height": 455
        },
        "id": "aCmNuN_z3yt5",
        "outputId": "c5072f2c-fc38-48c7-fda2-db0a9b243e13"
      },
      "outputs": [
        {
          "data": {
            "image/png": "[encoded data removed]",
            "text/plain": [
              "<Figure size 640x480 with 2 Axes>"
            ]
          },
          "metadata": {},
          "output_type": "display_data"
        }
      ],
      "source": [
        "from sklearn.metrics import accuracy_score, confusion_matrix, ConfusionMatrixDisplay\n",
        "acc = accuracy_score(Y_test,Y_pred)\n",
        "cm = confusion_matrix(Y_test, Y_pred)\n",
        "\n",
        "disp = ConfusionMatrixDisplay(confusion_matrix=cm)\n",
        "disp.plot()\n",
        "plt.show()"
      ]
    },
    {
      "cell_type": "code",
      "execution_count": null,
      "metadata": {
        "id": "I5fgY7q44HPA"
      },
      "outputs": [],
      "source": []
    },
    {
      "cell_type": "code",
      "execution_count": null,
      "metadata": {
        "id": "S9UocIGT4Re0"
      },
      "outputs": [],
      "source": []
    },
    {
      "cell_type": "markdown",
      "metadata": {
        "id": "A35_EqZw4RlU"
      },
      "source": [
        "#다중분류"
      ]
    },
    {
      "cell_type": "code",
      "execution_count": 140,
      "metadata": {
        "colab": {
          "base_uri": "https://localhost:8080/"
        },
        "id": "ug0QuKbx4UnQ",
        "outputId": "de160e42-5a17-4e31-be57-37b6ddfeec89"
      },
      "outputs": [
        {
          "name": "stdout",
          "output_type": "stream",
          "text": [
            "Downloading...\n",
            "From: https://raw.githubusercontent.com/devdio/flyai_datasets/main/penguins.csv\n",
            "To: /content/penguins.csv\n",
            "\r  0% 0.00/2.77k [00:00<?, ?B/s]\r13.5kB [00:00, 21.1MB/s]       \n"
          ]
        }
      ],
      "source": [
        "!gdown https://raw.githubusercontent.com/devdio/flyai_datasets/main/penguins.csv"
      ]
    },
    {
      "cell_type": "code",
      "execution_count": 175,
      "metadata": {
        "id": "Ng6Jc07W4V4L"
      },
      "outputs": [],
      "source": [
        "penguins = pd.read_csv('penguins.csv', na_values = ['.'])"
      ]
    },
    {
      "cell_type": "code",
      "execution_count": 152,
      "metadata": {
        "colab": {
          "base_uri": "https://localhost:8080/",
          "height": 206
        },
        "id": "0ytnj2EV4ZNq",
        "outputId": "54ca6cfd-5b95-46b4-a7ca-5f9cb2920be9"
      },
      "outputs": [
        {
          "data": {
            "text/html": [
              "\n",
              "  <div id=\"df-ea94cc80-2351-464f-b5c4-3348343fe72c\">\n",
              "    <div class=\"colab-df-container\">\n",
              "      <div>\n",
              "<style scoped>\n",
              "    .dataframe tbody tr th:only-of-type {\n",
              "        vertical-align: middle;\n",
              "    }\n",
              "\n",
              "    .dataframe tbody tr th {\n",
              "        vertical-align: top;\n",
              "    }\n",
              "\n",
              "    .dataframe thead th {\n",
              "        text-align: right;\n",
              "    }\n",
              "</style>\n",
              "<table border=\"1\" class=\"dataframe\">\n",
              "  <thead>\n",
              "    <tr style=\"text-align: right;\">\n",
              "      <th></th>\n",
              "      <th>species</th>\n",
              "      <th>island</th>\n",
              "      <th>culmen_length_mm</th>\n",
              "      <th>culmen_depth_mm</th>\n",
              "      <th>flipper_length_mm</th>\n",
              "      <th>body_mass_g</th>\n",
              "      <th>sex</th>\n",
              "    </tr>\n",
              "  </thead>\n",
              "  <tbody>\n",
              "    <tr>\n",
              "      <th>0</th>\n",
              "      <td>Adelie</td>\n",
              "      <td>Torgersen</td>\n",
              "      <td>39.1</td>\n",
              "      <td>18.7</td>\n",
              "      <td>181.0</td>\n",
              "      <td>3750.0</td>\n",
              "      <td>MALE</td>\n",
              "    </tr>\n",
              "    <tr>\n",
              "      <th>1</th>\n",
              "      <td>Adelie</td>\n",
              "      <td>Torgersen</td>\n",
              "      <td>39.5</td>\n",
              "      <td>17.4</td>\n",
              "      <td>186.0</td>\n",
              "      <td>3800.0</td>\n",
              "      <td>FEMALE</td>\n",
              "    </tr>\n",
              "    <tr>\n",
              "      <th>2</th>\n",
              "      <td>Adelie</td>\n",
              "      <td>Torgersen</td>\n",
              "      <td>40.3</td>\n",
              "      <td>18.0</td>\n",
              "      <td>195.0</td>\n",
              "      <td>3250.0</td>\n",
              "      <td>FEMALE</td>\n",
              "    </tr>\n",
              "    <tr>\n",
              "      <th>3</th>\n",
              "      <td>Adelie</td>\n",
              "      <td>Torgersen</td>\n",
              "      <td>NaN</td>\n",
              "      <td>NaN</td>\n",
              "      <td>NaN</td>\n",
              "      <td>NaN</td>\n",
              "      <td>NaN</td>\n",
              "    </tr>\n",
              "    <tr>\n",
              "      <th>4</th>\n",
              "      <td>Adelie</td>\n",
              "      <td>Torgersen</td>\n",
              "      <td>36.7</td>\n",
              "      <td>19.3</td>\n",
              "      <td>193.0</td>\n",
              "      <td>3450.0</td>\n",
              "      <td>FEMALE</td>\n",
              "    </tr>\n",
              "  </tbody>\n",
              "</table>\n",
              "</div>\n",
              "      <button class=\"colab-df-convert\" onclick=\"convertToInteractive('df-ea94cc80-2351-464f-b5c4-3348343fe72c')\"\n",
              "              title=\"Convert this dataframe to an interactive table.\"\n",
              "              style=\"display:none;\">\n",
              "        \n",
              "  <svg xmlns=\"http://www.w3.org/2000/svg\" height=\"24px\"viewBox=\"0 0 24 24\"\n",
              "       width=\"24px\">\n",
              "    <path d=\"M0 0h24v24H0V0z\" fill=\"none\"/>\n",
              "    <path d=\"M18.56 5.44l.94 2.06.94-2.06 2.06-.94-2.06-.94-.94-2.06-.94 2.06-2.06.94zm-11 1L8.5 8.5l.94-2.06 2.06-.94-2.06-.94L8.5 2.5l-.94 2.06-2.06.94zm10 10l.94 2.06.94-2.06 2.06-.94-2.06-.94-.94-2.06-.94 2.06-2.06.94z\"/><path d=\"M17.41 7.96l-1.37-1.37c-.4-.4-.92-.59-1.43-.59-.52 0-1.04.2-1.43.59L10.3 9.45l-7.72 7.72c-.78.78-.78 2.05 0 2.83L4 21.41c.39.39.9.59 1.41.59.51 0 1.02-.2 1.41-.59l7.78-7.78 2.81-2.81c.8-.78.8-2.07 0-2.86zM5.41 20L4 18.59l7.72-7.72 1.47 1.35L5.41 20z\"/>\n",
              "  </svg>\n",
              "      </button>\n",
              "      \n",
              "  <style>\n",
              "    .colab-df-container {\n",
              "      display:flex;\n",
              "      flex-wrap:wrap;\n",
              "      gap: 12px;\n",
              "    }\n",
              "\n",
              "    .colab-df-convert {\n",
              "      background-color: #E8F0FE;\n",
              "      border: none;\n",
              "      border-radius: 50%;\n",
              "      cursor: pointer;\n",
              "      display: none;\n",
              "      fill: #1967D2;\n",
              "      height: 32px;\n",
              "      padding: 0 0 0 0;\n",
              "      width: 32px;\n",
              "    }\n",
              "\n",
              "    .colab-df-convert:hover {\n",
              "      background-color: #E2EBFA;\n",
              "      box-shadow: 0px 1px 2px rgba(60, 64, 67, 0.3), 0px 1px 3px 1px rgba(60, 64, 67, 0.15);\n",
              "      fill: #174EA6;\n",
              "    }\n",
              "\n",
              "    [theme=dark] .colab-df-convert {\n",
              "      background-color: #3B4455;\n",
              "      fill: #D2E3FC;\n",
              "    }\n",
              "\n",
              "    [theme=dark] .colab-df-convert:hover {\n",
              "      background-color: #434B5C;\n",
              "      box-shadow: 0px 1px 3px 1px rgba(0, 0, 0, 0.15);\n",
              "      filter: drop-shadow(0px 1px 2px rgba(0, 0, 0, 0.3));\n",
              "      fill: #FFFFFF;\n",
              "    }\n",
              "  </style>\n",
              "\n",
              "      <script>\n",
              "        const buttonEl =\n",
              "          document.querySelector('#df-ea94cc80-2351-464f-b5c4-3348343fe72c button.colab-df-convert');\n",
              "        buttonEl.style.display =\n",
              "          google.colab.kernel.accessAllowed ? 'block' : 'none';\n",
              "\n",
              "        async function convertToInteractive(key) {\n",
              "          const element = document.querySelector('#df-ea94cc80-2351-464f-b5c4-3348343fe72c');\n",
              "          const dataTable =\n",
              "            await google.colab.kernel.invokeFunction('convertToInteractive',\n",
              "                                                     [key], {});\n",
              "          if (!dataTable) return;\n",
              "\n",
              "          const docLinkHtml = 'Like what you see? Visit the ' +\n",
              "            '<a target=\"_blank\" href=https://colab.research.google.com/notebooks/data_table.ipynb>data table notebook</a>'\n",
              "            + ' to learn more about interactive tables.';\n",
              "          element.innerHTML = '';\n",
              "          dataTable['output_type'] = 'display_data';\n",
              "          await google.colab.output.renderOutput(dataTable, element);\n",
              "          const docLink = document.createElement('div');\n",
              "          docLink.innerHTML = docLinkHtml;\n",
              "          element.appendChild(docLink);\n",
              "        }\n",
              "      </script>\n",
              "    </div>\n",
              "  </div>\n",
              "  "
            ],
            "text/plain": [
              "  species     island  culmen_length_mm  culmen_depth_mm  flipper_length_mm  \\\n",
              "0  Adelie  Torgersen              39.1             18.7              181.0   \n",
              "1  Adelie  Torgersen              39.5             17.4              186.0   \n",
              "2  Adelie  Torgersen              40.3             18.0              195.0   \n",
              "3  Adelie  Torgersen               NaN              NaN                NaN   \n",
              "4  Adelie  Torgersen              36.7             19.3              193.0   \n",
              "\n",
              "   body_mass_g     sex  \n",
              "0       3750.0    MALE  \n",
              "1       3800.0  FEMALE  \n",
              "2       3250.0  FEMALE  \n",
              "3          NaN     NaN  \n",
              "4       3450.0  FEMALE  "
            ]
          },
          "execution_count": 152,
          "metadata": {},
          "output_type": "execute_result"
        }
      ],
      "source": [
        "penguins.head()"
      ]
    },
    {
      "cell_type": "code",
      "execution_count": 153,
      "metadata": {
        "colab": {
          "base_uri": "https://localhost:8080/"
        },
        "id": "4RPloS8E4bAA",
        "outputId": "d481b16d-9479-470a-c2bd-8496627dd051"
      },
      "outputs": [
        {
          "data": {
            "text/plain": [
              "species               0\n",
              "island                0\n",
              "culmen_length_mm      2\n",
              "culmen_depth_mm       2\n",
              "flipper_length_mm     2\n",
              "body_mass_g           2\n",
              "sex                  11\n",
              "dtype: int64"
            ]
          },
          "execution_count": 153,
          "metadata": {},
          "output_type": "execute_result"
        }
      ],
      "source": [
        "penguins.isna().sum()"
      ]
    },
    {
      "cell_type": "code",
      "execution_count": 154,
      "metadata": {
        "colab": {
          "base_uri": "https://localhost:8080/"
        },
        "id": "nJMusvs54dFK",
        "outputId": "6723711f-0b5e-42c5-fa57-0c44cd8ad245"
      },
      "outputs": [
        {
          "data": {
            "text/plain": [
              "(344, 7)"
            ]
          },
          "execution_count": 154,
          "metadata": {},
          "output_type": "execute_result"
        }
      ],
      "source": [
        "penguins.shape"
      ]
    },
    {
      "cell_type": "code",
      "execution_count": 176,
      "metadata": {
        "id": "E3VTG7Gw4fQd"
      },
      "outputs": [],
      "source": [
        "penguins = penguins.dropna()"
      ]
    },
    {
      "cell_type": "code",
      "execution_count": 156,
      "metadata": {
        "colab": {
          "base_uri": "https://localhost:8080/"
        },
        "id": "L6TOUrzZ4i6x",
        "outputId": "64bf8aea-d8a8-40c5-bbb4-ff687a1cbfa1"
      },
      "outputs": [
        {
          "data": {
            "text/plain": [
              "(333, 7)"
            ]
          },
          "execution_count": 156,
          "metadata": {},
          "output_type": "execute_result"
        }
      ],
      "source": [
        "penguins.shape"
      ]
    },
    {
      "cell_type": "code",
      "execution_count": 157,
      "metadata": {
        "colab": {
          "base_uri": "https://localhost:8080/",
          "height": 175
        },
        "id": "_2S0YDGI4kVQ",
        "outputId": "629ba33a-c447-4de4-c93e-6d82c1cd3e85"
      },
      "outputs": [
        {
          "data": {
            "text/html": [
              "\n",
              "  <div id=\"df-d2fc80b9-dbcf-4dd0-9f83-742c3c85cbb4\">\n",
              "    <div class=\"colab-df-container\">\n",
              "      <div>\n",
              "<style scoped>\n",
              "    .dataframe tbody tr th:only-of-type {\n",
              "        vertical-align: middle;\n",
              "    }\n",
              "\n",
              "    .dataframe tbody tr th {\n",
              "        vertical-align: top;\n",
              "    }\n",
              "\n",
              "    .dataframe thead th {\n",
              "        text-align: right;\n",
              "    }\n",
              "</style>\n",
              "<table border=\"1\" class=\"dataframe\">\n",
              "  <thead>\n",
              "    <tr style=\"text-align: right;\">\n",
              "      <th></th>\n",
              "      <th>count</th>\n",
              "      <th>mean</th>\n",
              "      <th>std</th>\n",
              "      <th>min</th>\n",
              "      <th>25%</th>\n",
              "      <th>50%</th>\n",
              "      <th>75%</th>\n",
              "      <th>max</th>\n",
              "    </tr>\n",
              "  </thead>\n",
              "  <tbody>\n",
              "    <tr>\n",
              "      <th>culmen_length_mm</th>\n",
              "      <td>333.0</td>\n",
              "      <td>43.992793</td>\n",
              "      <td>5.468668</td>\n",
              "      <td>32.1</td>\n",
              "      <td>39.5</td>\n",
              "      <td>44.5</td>\n",
              "      <td>48.6</td>\n",
              "      <td>59.6</td>\n",
              "    </tr>\n",
              "    <tr>\n",
              "      <th>culmen_depth_mm</th>\n",
              "      <td>333.0</td>\n",
              "      <td>17.164865</td>\n",
              "      <td>1.969235</td>\n",
              "      <td>13.1</td>\n",
              "      <td>15.6</td>\n",
              "      <td>17.3</td>\n",
              "      <td>18.7</td>\n",
              "      <td>21.5</td>\n",
              "    </tr>\n",
              "    <tr>\n",
              "      <th>flipper_length_mm</th>\n",
              "      <td>333.0</td>\n",
              "      <td>200.966967</td>\n",
              "      <td>14.015765</td>\n",
              "      <td>172.0</td>\n",
              "      <td>190.0</td>\n",
              "      <td>197.0</td>\n",
              "      <td>213.0</td>\n",
              "      <td>231.0</td>\n",
              "    </tr>\n",
              "    <tr>\n",
              "      <th>body_mass_g</th>\n",
              "      <td>333.0</td>\n",
              "      <td>4207.057057</td>\n",
              "      <td>805.215802</td>\n",
              "      <td>2700.0</td>\n",
              "      <td>3550.0</td>\n",
              "      <td>4050.0</td>\n",
              "      <td>4775.0</td>\n",
              "      <td>6300.0</td>\n",
              "    </tr>\n",
              "  </tbody>\n",
              "</table>\n",
              "</div>\n",
              "      <button class=\"colab-df-convert\" onclick=\"convertToInteractive('df-d2fc80b9-dbcf-4dd0-9f83-742c3c85cbb4')\"\n",
              "              title=\"Convert this dataframe to an interactive table.\"\n",
              "              style=\"display:none;\">\n",
              "        \n",
              "  <svg xmlns=\"http://www.w3.org/2000/svg\" height=\"24px\"viewBox=\"0 0 24 24\"\n",
              "       width=\"24px\">\n",
              "    <path d=\"M0 0h24v24H0V0z\" fill=\"none\"/>\n",
              "    <path d=\"M18.56 5.44l.94 2.06.94-2.06 2.06-.94-2.06-.94-.94-2.06-.94 2.06-2.06.94zm-11 1L8.5 8.5l.94-2.06 2.06-.94-2.06-.94L8.5 2.5l-.94 2.06-2.06.94zm10 10l.94 2.06.94-2.06 2.06-.94-2.06-.94-.94-2.06-.94 2.06-2.06.94z\"/><path d=\"M17.41 7.96l-1.37-1.37c-.4-.4-.92-.59-1.43-.59-.52 0-1.04.2-1.43.59L10.3 9.45l-7.72 7.72c-.78.78-.78 2.05 0 2.83L4 21.41c.39.39.9.59 1.41.59.51 0 1.02-.2 1.41-.59l7.78-7.78 2.81-2.81c.8-.78.8-2.07 0-2.86zM5.41 20L4 18.59l7.72-7.72 1.47 1.35L5.41 20z\"/>\n",
              "  </svg>\n",
              "      </button>\n",
              "      \n",
              "  <style>\n",
              "    .colab-df-container {\n",
              "      display:flex;\n",
              "      flex-wrap:wrap;\n",
              "      gap: 12px;\n",
              "    }\n",
              "\n",
              "    .colab-df-convert {\n",
              "      background-color: #E8F0FE;\n",
              "      border: none;\n",
              "      border-radius: 50%;\n",
              "      cursor: pointer;\n",
              "      display: none;\n",
              "      fill: #1967D2;\n",
              "      height: 32px;\n",
              "      padding: 0 0 0 0;\n",
              "      width: 32px;\n",
              "    }\n",
              "\n",
              "    .colab-df-convert:hover {\n",
              "      background-color: #E2EBFA;\n",
              "      box-shadow: 0px 1px 2px rgba(60, 64, 67, 0.3), 0px 1px 3px 1px rgba(60, 64, 67, 0.15);\n",
              "      fill: #174EA6;\n",
              "    }\n",
              "\n",
              "    [theme=dark] .colab-df-convert {\n",
              "      background-color: #3B4455;\n",
              "      fill: #D2E3FC;\n",
              "    }\n",
              "\n",
              "    [theme=dark] .colab-df-convert:hover {\n",
              "      background-color: #434B5C;\n",
              "      box-shadow: 0px 1px 3px 1px rgba(0, 0, 0, 0.15);\n",
              "      filter: drop-shadow(0px 1px 2px rgba(0, 0, 0, 0.3));\n",
              "      fill: #FFFFFF;\n",
              "    }\n",
              "  </style>\n",
              "\n",
              "      <script>\n",
              "        const buttonEl =\n",
              "          document.querySelector('#df-d2fc80b9-dbcf-4dd0-9f83-742c3c85cbb4 button.colab-df-convert');\n",
              "        buttonEl.style.display =\n",
              "          google.colab.kernel.accessAllowed ? 'block' : 'none';\n",
              "\n",
              "        async function convertToInteractive(key) {\n",
              "          const element = document.querySelector('#df-d2fc80b9-dbcf-4dd0-9f83-742c3c85cbb4');\n",
              "          const dataTable =\n",
              "            await google.colab.kernel.invokeFunction('convertToInteractive',\n",
              "                                                     [key], {});\n",
              "          if (!dataTable) return;\n",
              "\n",
              "          const docLinkHtml = 'Like what you see? Visit the ' +\n",
              "            '<a target=\"_blank\" href=https://colab.research.google.com/notebooks/data_table.ipynb>data table notebook</a>'\n",
              "            + ' to learn more about interactive tables.';\n",
              "          element.innerHTML = '';\n",
              "          dataTable['output_type'] = 'display_data';\n",
              "          await google.colab.output.renderOutput(dataTable, element);\n",
              "          const docLink = document.createElement('div');\n",
              "          docLink.innerHTML = docLinkHtml;\n",
              "          element.appendChild(docLink);\n",
              "        }\n",
              "      </script>\n",
              "    </div>\n",
              "  </div>\n",
              "  "
            ],
            "text/plain": [
              "                   count         mean         std     min     25%     50%  \\\n",
              "culmen_length_mm   333.0    43.992793    5.468668    32.1    39.5    44.5   \n",
              "culmen_depth_mm    333.0    17.164865    1.969235    13.1    15.6    17.3   \n",
              "flipper_length_mm  333.0   200.966967   14.015765   172.0   190.0   197.0   \n",
              "body_mass_g        333.0  4207.057057  805.215802  2700.0  3550.0  4050.0   \n",
              "\n",
              "                      75%     max  \n",
              "culmen_length_mm     48.6    59.6  \n",
              "culmen_depth_mm      18.7    21.5  \n",
              "flipper_length_mm   213.0   231.0  \n",
              "body_mass_g        4775.0  6300.0  "
            ]
          },
          "execution_count": 157,
          "metadata": {},
          "output_type": "execute_result"
        }
      ],
      "source": [
        "penguins.describe().T"
      ]
    },
    {
      "cell_type": "code",
      "execution_count": 158,
      "metadata": {
        "colab": {
          "base_uri": "https://localhost:8080/"
        },
        "id": "Niyt2dXU4nYL",
        "outputId": "6c52c4b6-ccf8-429f-9459-74627c116fa3"
      },
      "outputs": [
        {
          "data": {
            "text/plain": [
              "Index(['species', 'island', 'culmen_length_mm', 'culmen_depth_mm',\n",
              "       'flipper_length_mm', 'body_mass_g', 'sex'],\n",
              "      dtype='object')"
            ]
          },
          "execution_count": 158,
          "metadata": {},
          "output_type": "execute_result"
        }
      ],
      "source": [
        "penguins.columns"
      ]
    },
    {
      "cell_type": "code",
      "execution_count": 159,
      "metadata": {
        "colab": {
          "base_uri": "https://localhost:8080/"
        },
        "id": "EoHWDZ6Z4u2b",
        "outputId": "15b58c15-5741-4397-ee16-16064fedcf9d"
      },
      "outputs": [
        {
          "data": {
            "text/plain": [
              "(array(['Adelie', 'Chinstrap', 'Gentoo'], dtype=object),\n",
              " array(['Torgersen', 'Biscoe', 'Dream'], dtype=object),\n",
              " array(['MALE', 'FEMALE'], dtype=object))"
            ]
          },
          "execution_count": 159,
          "metadata": {},
          "output_type": "execute_result"
        }
      ],
      "source": [
        "penguins['species'].unique(), penguins['island'].unique(), penguins['sex'].unique()"
      ]
    },
    {
      "cell_type": "code",
      "execution_count": 177,
      "metadata": {
        "id": "7qehAXN843i8"
      },
      "outputs": [],
      "source": [
        "from sklearn.preprocessing import LabelEncoder\n",
        "LE = LabelEncoder()\n",
        "penguins['species'] = LE.fit_transform(penguins['species'])\n",
        "penguins['sex'] = LE.fit_transform(penguins['sex'])"
      ]
    },
    {
      "cell_type": "code",
      "execution_count": 178,
      "metadata": {
        "colab": {
          "base_uri": "https://localhost:8080/",
          "height": 424
        },
        "id": "0NSCfW5a5hXl",
        "outputId": "9e9c8af7-0dd9-4949-b2c0-dc916baaff5d"
      },
      "outputs": [
        {
          "data": {
            "text/html": [
              "\n",
              "  <div id=\"df-d03e555b-6fb8-4fc1-b53e-c26d8d73a0b9\">\n",
              "    <div class=\"colab-df-container\">\n",
              "      <div>\n",
              "<style scoped>\n",
              "    .dataframe tbody tr th:only-of-type {\n",
              "        vertical-align: middle;\n",
              "    }\n",
              "\n",
              "    .dataframe tbody tr th {\n",
              "        vertical-align: top;\n",
              "    }\n",
              "\n",
              "    .dataframe thead th {\n",
              "        text-align: right;\n",
              "    }\n",
              "</style>\n",
              "<table border=\"1\" class=\"dataframe\">\n",
              "  <thead>\n",
              "    <tr style=\"text-align: right;\">\n",
              "      <th></th>\n",
              "      <th>species</th>\n",
              "      <th>island</th>\n",
              "      <th>culmen_length_mm</th>\n",
              "      <th>culmen_depth_mm</th>\n",
              "      <th>flipper_length_mm</th>\n",
              "      <th>body_mass_g</th>\n",
              "      <th>sex</th>\n",
              "    </tr>\n",
              "  </thead>\n",
              "  <tbody>\n",
              "    <tr>\n",
              "      <th>0</th>\n",
              "      <td>0</td>\n",
              "      <td>Torgersen</td>\n",
              "      <td>39.1</td>\n",
              "      <td>18.7</td>\n",
              "      <td>181.0</td>\n",
              "      <td>3750.0</td>\n",
              "      <td>1</td>\n",
              "    </tr>\n",
              "    <tr>\n",
              "      <th>1</th>\n",
              "      <td>0</td>\n",
              "      <td>Torgersen</td>\n",
              "      <td>39.5</td>\n",
              "      <td>17.4</td>\n",
              "      <td>186.0</td>\n",
              "      <td>3800.0</td>\n",
              "      <td>0</td>\n",
              "    </tr>\n",
              "    <tr>\n",
              "      <th>2</th>\n",
              "      <td>0</td>\n",
              "      <td>Torgersen</td>\n",
              "      <td>40.3</td>\n",
              "      <td>18.0</td>\n",
              "      <td>195.0</td>\n",
              "      <td>3250.0</td>\n",
              "      <td>0</td>\n",
              "    </tr>\n",
              "    <tr>\n",
              "      <th>4</th>\n",
              "      <td>0</td>\n",
              "      <td>Torgersen</td>\n",
              "      <td>36.7</td>\n",
              "      <td>19.3</td>\n",
              "      <td>193.0</td>\n",
              "      <td>3450.0</td>\n",
              "      <td>0</td>\n",
              "    </tr>\n",
              "    <tr>\n",
              "      <th>5</th>\n",
              "      <td>0</td>\n",
              "      <td>Torgersen</td>\n",
              "      <td>39.3</td>\n",
              "      <td>20.6</td>\n",
              "      <td>190.0</td>\n",
              "      <td>3650.0</td>\n",
              "      <td>1</td>\n",
              "    </tr>\n",
              "    <tr>\n",
              "      <th>...</th>\n",
              "      <td>...</td>\n",
              "      <td>...</td>\n",
              "      <td>...</td>\n",
              "      <td>...</td>\n",
              "      <td>...</td>\n",
              "      <td>...</td>\n",
              "      <td>...</td>\n",
              "    </tr>\n",
              "    <tr>\n",
              "      <th>338</th>\n",
              "      <td>2</td>\n",
              "      <td>Biscoe</td>\n",
              "      <td>47.2</td>\n",
              "      <td>13.7</td>\n",
              "      <td>214.0</td>\n",
              "      <td>4925.0</td>\n",
              "      <td>0</td>\n",
              "    </tr>\n",
              "    <tr>\n",
              "      <th>340</th>\n",
              "      <td>2</td>\n",
              "      <td>Biscoe</td>\n",
              "      <td>46.8</td>\n",
              "      <td>14.3</td>\n",
              "      <td>215.0</td>\n",
              "      <td>4850.0</td>\n",
              "      <td>0</td>\n",
              "    </tr>\n",
              "    <tr>\n",
              "      <th>341</th>\n",
              "      <td>2</td>\n",
              "      <td>Biscoe</td>\n",
              "      <td>50.4</td>\n",
              "      <td>15.7</td>\n",
              "      <td>222.0</td>\n",
              "      <td>5750.0</td>\n",
              "      <td>1</td>\n",
              "    </tr>\n",
              "    <tr>\n",
              "      <th>342</th>\n",
              "      <td>2</td>\n",
              "      <td>Biscoe</td>\n",
              "      <td>45.2</td>\n",
              "      <td>14.8</td>\n",
              "      <td>212.0</td>\n",
              "      <td>5200.0</td>\n",
              "      <td>0</td>\n",
              "    </tr>\n",
              "    <tr>\n",
              "      <th>343</th>\n",
              "      <td>2</td>\n",
              "      <td>Biscoe</td>\n",
              "      <td>49.9</td>\n",
              "      <td>16.1</td>\n",
              "      <td>213.0</td>\n",
              "      <td>5400.0</td>\n",
              "      <td>1</td>\n",
              "    </tr>\n",
              "  </tbody>\n",
              "</table>\n",
              "<p>333 rows × 7 columns</p>\n",
              "</div>\n",
              "      <button class=\"colab-df-convert\" onclick=\"convertToInteractive('df-d03e555b-6fb8-4fc1-b53e-c26d8d73a0b9')\"\n",
              "              title=\"Convert this dataframe to an interactive table.\"\n",
              "              style=\"display:none;\">\n",
              "        \n",
              "  <svg xmlns=\"http://www.w3.org/2000/svg\" height=\"24px\"viewBox=\"0 0 24 24\"\n",
              "       width=\"24px\">\n",
              "    <path d=\"M0 0h24v24H0V0z\" fill=\"none\"/>\n",
              "    <path d=\"M18.56 5.44l.94 2.06.94-2.06 2.06-.94-2.06-.94-.94-2.06-.94 2.06-2.06.94zm-11 1L8.5 8.5l.94-2.06 2.06-.94-2.06-.94L8.5 2.5l-.94 2.06-2.06.94zm10 10l.94 2.06.94-2.06 2.06-.94-2.06-.94-.94-2.06-.94 2.06-2.06.94z\"/><path d=\"M17.41 7.96l-1.37-1.37c-.4-.4-.92-.59-1.43-.59-.52 0-1.04.2-1.43.59L10.3 9.45l-7.72 7.72c-.78.78-.78 2.05 0 2.83L4 21.41c.39.39.9.59 1.41.59.51 0 1.02-.2 1.41-.59l7.78-7.78 2.81-2.81c.8-.78.8-2.07 0-2.86zM5.41 20L4 18.59l7.72-7.72 1.47 1.35L5.41 20z\"/>\n",
              "  </svg>\n",
              "      </button>\n",
              "      \n",
              "  <style>\n",
              "    .colab-df-container {\n",
              "      display:flex;\n",
              "      flex-wrap:wrap;\n",
              "      gap: 12px;\n",
              "    }\n",
              "\n",
              "    .colab-df-convert {\n",
              "      background-color: #E8F0FE;\n",
              "      border: none;\n",
              "      border-radius: 50%;\n",
              "      cursor: pointer;\n",
              "      display: none;\n",
              "      fill: #1967D2;\n",
              "      height: 32px;\n",
              "      padding: 0 0 0 0;\n",
              "      width: 32px;\n",
              "    }\n",
              "\n",
              "    .colab-df-convert:hover {\n",
              "      background-color: #E2EBFA;\n",
              "      box-shadow: 0px 1px 2px rgba(60, 64, 67, 0.3), 0px 1px 3px 1px rgba(60, 64, 67, 0.15);\n",
              "      fill: #174EA6;\n",
              "    }\n",
              "\n",
              "    [theme=dark] .colab-df-convert {\n",
              "      background-color: #3B4455;\n",
              "      fill: #D2E3FC;\n",
              "    }\n",
              "\n",
              "    [theme=dark] .colab-df-convert:hover {\n",
              "      background-color: #434B5C;\n",
              "      box-shadow: 0px 1px 3px 1px rgba(0, 0, 0, 0.15);\n",
              "      filter: drop-shadow(0px 1px 2px rgba(0, 0, 0, 0.3));\n",
              "      fill: #FFFFFF;\n",
              "    }\n",
              "  </style>\n",
              "\n",
              "      <script>\n",
              "        const buttonEl =\n",
              "          document.querySelector('#df-d03e555b-6fb8-4fc1-b53e-c26d8d73a0b9 button.colab-df-convert');\n",
              "        buttonEl.style.display =\n",
              "          google.colab.kernel.accessAllowed ? 'block' : 'none';\n",
              "\n",
              "        async function convertToInteractive(key) {\n",
              "          const element = document.querySelector('#df-d03e555b-6fb8-4fc1-b53e-c26d8d73a0b9');\n",
              "          const dataTable =\n",
              "            await google.colab.kernel.invokeFunction('convertToInteractive',\n",
              "                                                     [key], {});\n",
              "          if (!dataTable) return;\n",
              "\n",
              "          const docLinkHtml = 'Like what you see? Visit the ' +\n",
              "            '<a target=\"_blank\" href=https://colab.research.google.com/notebooks/data_table.ipynb>data table notebook</a>'\n",
              "            + ' to learn more about interactive tables.';\n",
              "          element.innerHTML = '';\n",
              "          dataTable['output_type'] = 'display_data';\n",
              "          await google.colab.output.renderOutput(dataTable, element);\n",
              "          const docLink = document.createElement('div');\n",
              "          docLink.innerHTML = docLinkHtml;\n",
              "          element.appendChild(docLink);\n",
              "        }\n",
              "      </script>\n",
              "    </div>\n",
              "  </div>\n",
              "  "
            ],
            "text/plain": [
              "     species     island  culmen_length_mm  culmen_depth_mm  flipper_length_mm  \\\n",
              "0          0  Torgersen              39.1             18.7              181.0   \n",
              "1          0  Torgersen              39.5             17.4              186.0   \n",
              "2          0  Torgersen              40.3             18.0              195.0   \n",
              "4          0  Torgersen              36.7             19.3              193.0   \n",
              "5          0  Torgersen              39.3             20.6              190.0   \n",
              "..       ...        ...               ...              ...                ...   \n",
              "338        2     Biscoe              47.2             13.7              214.0   \n",
              "340        2     Biscoe              46.8             14.3              215.0   \n",
              "341        2     Biscoe              50.4             15.7              222.0   \n",
              "342        2     Biscoe              45.2             14.8              212.0   \n",
              "343        2     Biscoe              49.9             16.1              213.0   \n",
              "\n",
              "     body_mass_g  sex  \n",
              "0         3750.0    1  \n",
              "1         3800.0    0  \n",
              "2         3250.0    0  \n",
              "4         3450.0    0  \n",
              "5         3650.0    1  \n",
              "..           ...  ...  \n",
              "338       4925.0    0  \n",
              "340       4850.0    0  \n",
              "341       5750.0    1  \n",
              "342       5200.0    0  \n",
              "343       5400.0    1  \n",
              "\n",
              "[333 rows x 7 columns]"
            ]
          },
          "execution_count": 178,
          "metadata": {},
          "output_type": "execute_result"
        }
      ],
      "source": [
        "penguins"
      ]
    },
    {
      "cell_type": "code",
      "execution_count": 186,
      "metadata": {
        "colab": {
          "base_uri": "https://localhost:8080/"
        },
        "id": "3EJzUYdw7nvI",
        "outputId": "74e28c09-443c-4d15-f95c-d5cdc3028486"
      },
      "outputs": [
        {
          "name": "stderr",
          "output_type": "stream",
          "text": [
            "/usr/local/lib/python3.10/dist-packages/sklearn/preprocessing/_encoders.py:868: FutureWarning: `sparse` was renamed to `sparse_output` in version 1.2 and will be removed in 1.4. `sparse_output` is ignored unless you leave `sparse` to its default value.\n",
            "  warnings.warn(\n"
          ]
        }
      ],
      "source": [
        "from sklearn.preprocessing import OneHotEncoder\n",
        "OHE = OneHotEncoder(sparse = False )\n",
        "OHE.fit(penguins[['island']])\n",
        "penguins[penguins['island'].unique()] = OHE.transform(penguins[['island']])"
      ]
    },
    {
      "cell_type": "code",
      "execution_count": 187,
      "metadata": {
        "colab": {
          "base_uri": "https://localhost:8080/",
          "height": 424
        },
        "id": "LoJwjcZn-HxD",
        "outputId": "9d8fd552-1d96-44a6-d298-8a168592ccb3"
      },
      "outputs": [
        {
          "data": {
            "text/html": [
              "\n",
              "  <div id=\"df-6c2dfa9f-6313-4312-9bb7-4904b9438fed\">\n",
              "    <div class=\"colab-df-container\">\n",
              "      <div>\n",
              "<style scoped>\n",
              "    .dataframe tbody tr th:only-of-type {\n",
              "        vertical-align: middle;\n",
              "    }\n",
              "\n",
              "    .dataframe tbody tr th {\n",
              "        vertical-align: top;\n",
              "    }\n",
              "\n",
              "    .dataframe thead th {\n",
              "        text-align: right;\n",
              "    }\n",
              "</style>\n",
              "<table border=\"1\" class=\"dataframe\">\n",
              "  <thead>\n",
              "    <tr style=\"text-align: right;\">\n",
              "      <th></th>\n",
              "      <th>species</th>\n",
              "      <th>island</th>\n",
              "      <th>culmen_length_mm</th>\n",
              "      <th>culmen_depth_mm</th>\n",
              "      <th>flipper_length_mm</th>\n",
              "      <th>body_mass_g</th>\n",
              "      <th>sex</th>\n",
              "      <th>Torgersen</th>\n",
              "      <th>Biscoe</th>\n",
              "      <th>Dream</th>\n",
              "    </tr>\n",
              "  </thead>\n",
              "  <tbody>\n",
              "    <tr>\n",
              "      <th>0</th>\n",
              "      <td>0</td>\n",
              "      <td>Torgersen</td>\n",
              "      <td>39.1</td>\n",
              "      <td>18.7</td>\n",
              "      <td>181.0</td>\n",
              "      <td>3750.0</td>\n",
              "      <td>1</td>\n",
              "      <td>0.0</td>\n",
              "      <td>0.0</td>\n",
              "      <td>1.0</td>\n",
              "    </tr>\n",
              "    <tr>\n",
              "      <th>1</th>\n",
              "      <td>0</td>\n",
              "      <td>Torgersen</td>\n",
              "      <td>39.5</td>\n",
              "      <td>17.4</td>\n",
              "      <td>186.0</td>\n",
              "      <td>3800.0</td>\n",
              "      <td>0</td>\n",
              "      <td>0.0</td>\n",
              "      <td>0.0</td>\n",
              "      <td>1.0</td>\n",
              "    </tr>\n",
              "    <tr>\n",
              "      <th>2</th>\n",
              "      <td>0</td>\n",
              "      <td>Torgersen</td>\n",
              "      <td>40.3</td>\n",
              "      <td>18.0</td>\n",
              "      <td>195.0</td>\n",
              "      <td>3250.0</td>\n",
              "      <td>0</td>\n",
              "      <td>0.0</td>\n",
              "      <td>0.0</td>\n",
              "      <td>1.0</td>\n",
              "    </tr>\n",
              "    <tr>\n",
              "      <th>4</th>\n",
              "      <td>0</td>\n",
              "      <td>Torgersen</td>\n",
              "      <td>36.7</td>\n",
              "      <td>19.3</td>\n",
              "      <td>193.0</td>\n",
              "      <td>3450.0</td>\n",
              "      <td>0</td>\n",
              "      <td>0.0</td>\n",
              "      <td>0.0</td>\n",
              "      <td>1.0</td>\n",
              "    </tr>\n",
              "    <tr>\n",
              "      <th>5</th>\n",
              "      <td>0</td>\n",
              "      <td>Torgersen</td>\n",
              "      <td>39.3</td>\n",
              "      <td>20.6</td>\n",
              "      <td>190.0</td>\n",
              "      <td>3650.0</td>\n",
              "      <td>1</td>\n",
              "      <td>0.0</td>\n",
              "      <td>0.0</td>\n",
              "      <td>1.0</td>\n",
              "    </tr>\n",
              "    <tr>\n",
              "      <th>...</th>\n",
              "      <td>...</td>\n",
              "      <td>...</td>\n",
              "      <td>...</td>\n",
              "      <td>...</td>\n",
              "      <td>...</td>\n",
              "      <td>...</td>\n",
              "      <td>...</td>\n",
              "      <td>...</td>\n",
              "      <td>...</td>\n",
              "      <td>...</td>\n",
              "    </tr>\n",
              "    <tr>\n",
              "      <th>338</th>\n",
              "      <td>2</td>\n",
              "      <td>Biscoe</td>\n",
              "      <td>47.2</td>\n",
              "      <td>13.7</td>\n",
              "      <td>214.0</td>\n",
              "      <td>4925.0</td>\n",
              "      <td>0</td>\n",
              "      <td>1.0</td>\n",
              "      <td>0.0</td>\n",
              "      <td>0.0</td>\n",
              "    </tr>\n",
              "    <tr>\n",
              "      <th>340</th>\n",
              "      <td>2</td>\n",
              "      <td>Biscoe</td>\n",
              "      <td>46.8</td>\n",
              "      <td>14.3</td>\n",
              "      <td>215.0</td>\n",
              "      <td>4850.0</td>\n",
              "      <td>0</td>\n",
              "      <td>1.0</td>\n",
              "      <td>0.0</td>\n",
              "      <td>0.0</td>\n",
              "    </tr>\n",
              "    <tr>\n",
              "      <th>341</th>\n",
              "      <td>2</td>\n",
              "      <td>Biscoe</td>\n",
              "      <td>50.4</td>\n",
              "      <td>15.7</td>\n",
              "      <td>222.0</td>\n",
              "      <td>5750.0</td>\n",
              "      <td>1</td>\n",
              "      <td>1.0</td>\n",
              "      <td>0.0</td>\n",
              "      <td>0.0</td>\n",
              "    </tr>\n",
              "    <tr>\n",
              "      <th>342</th>\n",
              "      <td>2</td>\n",
              "      <td>Biscoe</td>\n",
              "      <td>45.2</td>\n",
              "      <td>14.8</td>\n",
              "      <td>212.0</td>\n",
              "      <td>5200.0</td>\n",
              "      <td>0</td>\n",
              "      <td>1.0</td>\n",
              "      <td>0.0</td>\n",
              "      <td>0.0</td>\n",
              "    </tr>\n",
              "    <tr>\n",
              "      <th>343</th>\n",
              "      <td>2</td>\n",
              "      <td>Biscoe</td>\n",
              "      <td>49.9</td>\n",
              "      <td>16.1</td>\n",
              "      <td>213.0</td>\n",
              "      <td>5400.0</td>\n",
              "      <td>1</td>\n",
              "      <td>1.0</td>\n",
              "      <td>0.0</td>\n",
              "      <td>0.0</td>\n",
              "    </tr>\n",
              "  </tbody>\n",
              "</table>\n",
              "<p>333 rows × 10 columns</p>\n",
              "</div>\n",
              "      <button class=\"colab-df-convert\" onclick=\"convertToInteractive('df-6c2dfa9f-6313-4312-9bb7-4904b9438fed')\"\n",
              "              title=\"Convert this dataframe to an interactive table.\"\n",
              "              style=\"display:none;\">\n",
              "        \n",
              "  <svg xmlns=\"http://www.w3.org/2000/svg\" height=\"24px\"viewBox=\"0 0 24 24\"\n",
              "       width=\"24px\">\n",
              "    <path d=\"M0 0h24v24H0V0z\" fill=\"none\"/>\n",
              "    <path d=\"M18.56 5.44l.94 2.06.94-2.06 2.06-.94-2.06-.94-.94-2.06-.94 2.06-2.06.94zm-11 1L8.5 8.5l.94-2.06 2.06-.94-2.06-.94L8.5 2.5l-.94 2.06-2.06.94zm10 10l.94 2.06.94-2.06 2.06-.94-2.06-.94-.94-2.06-.94 2.06-2.06.94z\"/><path d=\"M17.41 7.96l-1.37-1.37c-.4-.4-.92-.59-1.43-.59-.52 0-1.04.2-1.43.59L10.3 9.45l-7.72 7.72c-.78.78-.78 2.05 0 2.83L4 21.41c.39.39.9.59 1.41.59.51 0 1.02-.2 1.41-.59l7.78-7.78 2.81-2.81c.8-.78.8-2.07 0-2.86zM5.41 20L4 18.59l7.72-7.72 1.47 1.35L5.41 20z\"/>\n",
              "  </svg>\n",
              "      </button>\n",
              "      \n",
              "  <style>\n",
              "    .colab-df-container {\n",
              "      display:flex;\n",
              "      flex-wrap:wrap;\n",
              "      gap: 12px;\n",
              "    }\n",
              "\n",
              "    .colab-df-convert {\n",
              "      background-color: #E8F0FE;\n",
              "      border: none;\n",
              "      border-radius: 50%;\n",
              "      cursor: pointer;\n",
              "      display: none;\n",
              "      fill: #1967D2;\n",
              "      height: 32px;\n",
              "      padding: 0 0 0 0;\n",
              "      width: 32px;\n",
              "    }\n",
              "\n",
              "    .colab-df-convert:hover {\n",
              "      background-color: #E2EBFA;\n",
              "      box-shadow: 0px 1px 2px rgba(60, 64, 67, 0.3), 0px 1px 3px 1px rgba(60, 64, 67, 0.15);\n",
              "      fill: #174EA6;\n",
              "    }\n",
              "\n",
              "    [theme=dark] .colab-df-convert {\n",
              "      background-color: #3B4455;\n",
              "      fill: #D2E3FC;\n",
              "    }\n",
              "\n",
              "    [theme=dark] .colab-df-convert:hover {\n",
              "      background-color: #434B5C;\n",
              "      box-shadow: 0px 1px 3px 1px rgba(0, 0, 0, 0.15);\n",
              "      filter: drop-shadow(0px 1px 2px rgba(0, 0, 0, 0.3));\n",
              "      fill: #FFFFFF;\n",
              "    }\n",
              "  </style>\n",
              "\n",
              "      <script>\n",
              "        const buttonEl =\n",
              "          document.querySelector('#df-6c2dfa9f-6313-4312-9bb7-4904b9438fed button.colab-df-convert');\n",
              "        buttonEl.style.display =\n",
              "          google.colab.kernel.accessAllowed ? 'block' : 'none';\n",
              "\n",
              "        async function convertToInteractive(key) {\n",
              "          const element = document.querySelector('#df-6c2dfa9f-6313-4312-9bb7-4904b9438fed');\n",
              "          const dataTable =\n",
              "            await google.colab.kernel.invokeFunction('convertToInteractive',\n",
              "                                                     [key], {});\n",
              "          if (!dataTable) return;\n",
              "\n",
              "          const docLinkHtml = 'Like what you see? Visit the ' +\n",
              "            '<a target=\"_blank\" href=https://colab.research.google.com/notebooks/data_table.ipynb>data table notebook</a>'\n",
              "            + ' to learn more about interactive tables.';\n",
              "          element.innerHTML = '';\n",
              "          dataTable['output_type'] = 'display_data';\n",
              "          await google.colab.output.renderOutput(dataTable, element);\n",
              "          const docLink = document.createElement('div');\n",
              "          docLink.innerHTML = docLinkHtml;\n",
              "          element.appendChild(docLink);\n",
              "        }\n",
              "      </script>\n",
              "    </div>\n",
              "  </div>\n",
              "  "
            ],
            "text/plain": [
              "     species     island  culmen_length_mm  culmen_depth_mm  flipper_length_mm  \\\n",
              "0          0  Torgersen              39.1             18.7              181.0   \n",
              "1          0  Torgersen              39.5             17.4              186.0   \n",
              "2          0  Torgersen              40.3             18.0              195.0   \n",
              "4          0  Torgersen              36.7             19.3              193.0   \n",
              "5          0  Torgersen              39.3             20.6              190.0   \n",
              "..       ...        ...               ...              ...                ...   \n",
              "338        2     Biscoe              47.2             13.7              214.0   \n",
              "340        2     Biscoe              46.8             14.3              215.0   \n",
              "341        2     Biscoe              50.4             15.7              222.0   \n",
              "342        2     Biscoe              45.2             14.8              212.0   \n",
              "343        2     Biscoe              49.9             16.1              213.0   \n",
              "\n",
              "     body_mass_g  sex  Torgersen  Biscoe  Dream  \n",
              "0         3750.0    1        0.0     0.0    1.0  \n",
              "1         3800.0    0        0.0     0.0    1.0  \n",
              "2         3250.0    0        0.0     0.0    1.0  \n",
              "4         3450.0    0        0.0     0.0    1.0  \n",
              "5         3650.0    1        0.0     0.0    1.0  \n",
              "..           ...  ...        ...     ...    ...  \n",
              "338       4925.0    0        1.0     0.0    0.0  \n",
              "340       4850.0    0        1.0     0.0    0.0  \n",
              "341       5750.0    1        1.0     0.0    0.0  \n",
              "342       5200.0    0        1.0     0.0    0.0  \n",
              "343       5400.0    1        1.0     0.0    0.0  \n",
              "\n",
              "[333 rows x 10 columns]"
            ]
          },
          "execution_count": 187,
          "metadata": {},
          "output_type": "execute_result"
        }
      ],
      "source": [
        "penguins"
      ]
    },
    {
      "cell_type": "code",
      "execution_count": 188,
      "metadata": {
        "id": "ynARVWwA5qWc"
      },
      "outputs": [],
      "source": [
        "from sklearn.preprocessing import RobustScaler\n",
        "RE = RobustScaler()\n",
        "penguins[['culmen_length_mm', 'culmen_depth_mm', 'flipper_length_mm', 'body_mass_g']] = RE.fit_transform(penguins[['culmen_length_mm', 'culmen_depth_mm', 'flipper_length_mm', 'body_mass_g']])\n"
      ]
    },
    {
      "cell_type": "code",
      "execution_count": 189,
      "metadata": {
        "colab": {
          "base_uri": "https://localhost:8080/",
          "height": 424
        },
        "id": "T913QNta6fQG",
        "outputId": "23eef1c6-adc4-4e39-c8c0-b3c3956f1e7a"
      },
      "outputs": [
        {
          "data": {
            "text/html": [
              "\n",
              "  <div id=\"df-4b8e8709-b657-4616-9629-a550001f0beb\">\n",
              "    <div class=\"colab-df-container\">\n",
              "      <div>\n",
              "<style scoped>\n",
              "    .dataframe tbody tr th:only-of-type {\n",
              "        vertical-align: middle;\n",
              "    }\n",
              "\n",
              "    .dataframe tbody tr th {\n",
              "        vertical-align: top;\n",
              "    }\n",
              "\n",
              "    .dataframe thead th {\n",
              "        text-align: right;\n",
              "    }\n",
              "</style>\n",
              "<table border=\"1\" class=\"dataframe\">\n",
              "  <thead>\n",
              "    <tr style=\"text-align: right;\">\n",
              "      <th></th>\n",
              "      <th>species</th>\n",
              "      <th>island</th>\n",
              "      <th>culmen_length_mm</th>\n",
              "      <th>culmen_depth_mm</th>\n",
              "      <th>flipper_length_mm</th>\n",
              "      <th>body_mass_g</th>\n",
              "      <th>sex</th>\n",
              "      <th>Torgersen</th>\n",
              "      <th>Biscoe</th>\n",
              "      <th>Dream</th>\n",
              "    </tr>\n",
              "  </thead>\n",
              "  <tbody>\n",
              "    <tr>\n",
              "      <th>0</th>\n",
              "      <td>0</td>\n",
              "      <td>Torgersen</td>\n",
              "      <td>-0.593407</td>\n",
              "      <td>0.451613</td>\n",
              "      <td>-0.695652</td>\n",
              "      <td>-0.244898</td>\n",
              "      <td>1</td>\n",
              "      <td>0.0</td>\n",
              "      <td>0.0</td>\n",
              "      <td>1.0</td>\n",
              "    </tr>\n",
              "    <tr>\n",
              "      <th>1</th>\n",
              "      <td>0</td>\n",
              "      <td>Torgersen</td>\n",
              "      <td>-0.549451</td>\n",
              "      <td>0.032258</td>\n",
              "      <td>-0.478261</td>\n",
              "      <td>-0.204082</td>\n",
              "      <td>0</td>\n",
              "      <td>0.0</td>\n",
              "      <td>0.0</td>\n",
              "      <td>1.0</td>\n",
              "    </tr>\n",
              "    <tr>\n",
              "      <th>2</th>\n",
              "      <td>0</td>\n",
              "      <td>Torgersen</td>\n",
              "      <td>-0.461538</td>\n",
              "      <td>0.225806</td>\n",
              "      <td>-0.086957</td>\n",
              "      <td>-0.653061</td>\n",
              "      <td>0</td>\n",
              "      <td>0.0</td>\n",
              "      <td>0.0</td>\n",
              "      <td>1.0</td>\n",
              "    </tr>\n",
              "    <tr>\n",
              "      <th>4</th>\n",
              "      <td>0</td>\n",
              "      <td>Torgersen</td>\n",
              "      <td>-0.857143</td>\n",
              "      <td>0.645161</td>\n",
              "      <td>-0.173913</td>\n",
              "      <td>-0.489796</td>\n",
              "      <td>0</td>\n",
              "      <td>0.0</td>\n",
              "      <td>0.0</td>\n",
              "      <td>1.0</td>\n",
              "    </tr>\n",
              "    <tr>\n",
              "      <th>5</th>\n",
              "      <td>0</td>\n",
              "      <td>Torgersen</td>\n",
              "      <td>-0.571429</td>\n",
              "      <td>1.064516</td>\n",
              "      <td>-0.304348</td>\n",
              "      <td>-0.326531</td>\n",
              "      <td>1</td>\n",
              "      <td>0.0</td>\n",
              "      <td>0.0</td>\n",
              "      <td>1.0</td>\n",
              "    </tr>\n",
              "    <tr>\n",
              "      <th>...</th>\n",
              "      <td>...</td>\n",
              "      <td>...</td>\n",
              "      <td>...</td>\n",
              "      <td>...</td>\n",
              "      <td>...</td>\n",
              "      <td>...</td>\n",
              "      <td>...</td>\n",
              "      <td>...</td>\n",
              "      <td>...</td>\n",
              "      <td>...</td>\n",
              "    </tr>\n",
              "    <tr>\n",
              "      <th>338</th>\n",
              "      <td>2</td>\n",
              "      <td>Biscoe</td>\n",
              "      <td>0.296703</td>\n",
              "      <td>-1.161290</td>\n",
              "      <td>0.739130</td>\n",
              "      <td>0.714286</td>\n",
              "      <td>0</td>\n",
              "      <td>1.0</td>\n",
              "      <td>0.0</td>\n",
              "      <td>0.0</td>\n",
              "    </tr>\n",
              "    <tr>\n",
              "      <th>340</th>\n",
              "      <td>2</td>\n",
              "      <td>Biscoe</td>\n",
              "      <td>0.252747</td>\n",
              "      <td>-0.967742</td>\n",
              "      <td>0.782609</td>\n",
              "      <td>0.653061</td>\n",
              "      <td>0</td>\n",
              "      <td>1.0</td>\n",
              "      <td>0.0</td>\n",
              "      <td>0.0</td>\n",
              "    </tr>\n",
              "    <tr>\n",
              "      <th>341</th>\n",
              "      <td>2</td>\n",
              "      <td>Biscoe</td>\n",
              "      <td>0.648352</td>\n",
              "      <td>-0.516129</td>\n",
              "      <td>1.086957</td>\n",
              "      <td>1.387755</td>\n",
              "      <td>1</td>\n",
              "      <td>1.0</td>\n",
              "      <td>0.0</td>\n",
              "      <td>0.0</td>\n",
              "    </tr>\n",
              "    <tr>\n",
              "      <th>342</th>\n",
              "      <td>2</td>\n",
              "      <td>Biscoe</td>\n",
              "      <td>0.076923</td>\n",
              "      <td>-0.806452</td>\n",
              "      <td>0.652174</td>\n",
              "      <td>0.938776</td>\n",
              "      <td>0</td>\n",
              "      <td>1.0</td>\n",
              "      <td>0.0</td>\n",
              "      <td>0.0</td>\n",
              "    </tr>\n",
              "    <tr>\n",
              "      <th>343</th>\n",
              "      <td>2</td>\n",
              "      <td>Biscoe</td>\n",
              "      <td>0.593407</td>\n",
              "      <td>-0.387097</td>\n",
              "      <td>0.695652</td>\n",
              "      <td>1.102041</td>\n",
              "      <td>1</td>\n",
              "      <td>1.0</td>\n",
              "      <td>0.0</td>\n",
              "      <td>0.0</td>\n",
              "    </tr>\n",
              "  </tbody>\n",
              "</table>\n",
              "<p>333 rows × 10 columns</p>\n",
              "</div>\n",
              "      <button class=\"colab-df-convert\" onclick=\"convertToInteractive('df-4b8e8709-b657-4616-9629-a550001f0beb')\"\n",
              "              title=\"Convert this dataframe to an interactive table.\"\n",
              "              style=\"display:none;\">\n",
              "        \n",
              "  <svg xmlns=\"http://www.w3.org/2000/svg\" height=\"24px\"viewBox=\"0 0 24 24\"\n",
              "       width=\"24px\">\n",
              "    <path d=\"M0 0h24v24H0V0z\" fill=\"none\"/>\n",
              "    <path d=\"M18.56 5.44l.94 2.06.94-2.06 2.06-.94-2.06-.94-.94-2.06-.94 2.06-2.06.94zm-11 1L8.5 8.5l.94-2.06 2.06-.94-2.06-.94L8.5 2.5l-.94 2.06-2.06.94zm10 10l.94 2.06.94-2.06 2.06-.94-2.06-.94-.94-2.06-.94 2.06-2.06.94z\"/><path d=\"M17.41 7.96l-1.37-1.37c-.4-.4-.92-.59-1.43-.59-.52 0-1.04.2-1.43.59L10.3 9.45l-7.72 7.72c-.78.78-.78 2.05 0 2.83L4 21.41c.39.39.9.59 1.41.59.51 0 1.02-.2 1.41-.59l7.78-7.78 2.81-2.81c.8-.78.8-2.07 0-2.86zM5.41 20L4 18.59l7.72-7.72 1.47 1.35L5.41 20z\"/>\n",
              "  </svg>\n",
              "      </button>\n",
              "      \n",
              "  <style>\n",
              "    .colab-df-container {\n",
              "      display:flex;\n",
              "      flex-wrap:wrap;\n",
              "      gap: 12px;\n",
              "    }\n",
              "\n",
              "    .colab-df-convert {\n",
              "      background-color: #E8F0FE;\n",
              "      border: none;\n",
              "      border-radius: 50%;\n",
              "      cursor: pointer;\n",
              "      display: none;\n",
              "      fill: #1967D2;\n",
              "      height: 32px;\n",
              "      padding: 0 0 0 0;\n",
              "      width: 32px;\n",
              "    }\n",
              "\n",
              "    .colab-df-convert:hover {\n",
              "      background-color: #E2EBFA;\n",
              "      box-shadow: 0px 1px 2px rgba(60, 64, 67, 0.3), 0px 1px 3px 1px rgba(60, 64, 67, 0.15);\n",
              "      fill: #174EA6;\n",
              "    }\n",
              "\n",
              "    [theme=dark] .colab-df-convert {\n",
              "      background-color: #3B4455;\n",
              "      fill: #D2E3FC;\n",
              "    }\n",
              "\n",
              "    [theme=dark] .colab-df-convert:hover {\n",
              "      background-color: #434B5C;\n",
              "      box-shadow: 0px 1px 3px 1px rgba(0, 0, 0, 0.15);\n",
              "      filter: drop-shadow(0px 1px 2px rgba(0, 0, 0, 0.3));\n",
              "      fill: #FFFFFF;\n",
              "    }\n",
              "  </style>\n",
              "\n",
              "      <script>\n",
              "        const buttonEl =\n",
              "          document.querySelector('#df-4b8e8709-b657-4616-9629-a550001f0beb button.colab-df-convert');\n",
              "        buttonEl.style.display =\n",
              "          google.colab.kernel.accessAllowed ? 'block' : 'none';\n",
              "\n",
              "        async function convertToInteractive(key) {\n",
              "          const element = document.querySelector('#df-4b8e8709-b657-4616-9629-a550001f0beb');\n",
              "          const dataTable =\n",
              "            await google.colab.kernel.invokeFunction('convertToInteractive',\n",
              "                                                     [key], {});\n",
              "          if (!dataTable) return;\n",
              "\n",
              "          const docLinkHtml = 'Like what you see? Visit the ' +\n",
              "            '<a target=\"_blank\" href=https://colab.research.google.com/notebooks/data_table.ipynb>data table notebook</a>'\n",
              "            + ' to learn more about interactive tables.';\n",
              "          element.innerHTML = '';\n",
              "          dataTable['output_type'] = 'display_data';\n",
              "          await google.colab.output.renderOutput(dataTable, element);\n",
              "          const docLink = document.createElement('div');\n",
              "          docLink.innerHTML = docLinkHtml;\n",
              "          element.appendChild(docLink);\n",
              "        }\n",
              "      </script>\n",
              "    </div>\n",
              "  </div>\n",
              "  "
            ],
            "text/plain": [
              "     species     island  culmen_length_mm  culmen_depth_mm  flipper_length_mm  \\\n",
              "0          0  Torgersen         -0.593407         0.451613          -0.695652   \n",
              "1          0  Torgersen         -0.549451         0.032258          -0.478261   \n",
              "2          0  Torgersen         -0.461538         0.225806          -0.086957   \n",
              "4          0  Torgersen         -0.857143         0.645161          -0.173913   \n",
              "5          0  Torgersen         -0.571429         1.064516          -0.304348   \n",
              "..       ...        ...               ...              ...                ...   \n",
              "338        2     Biscoe          0.296703        -1.161290           0.739130   \n",
              "340        2     Biscoe          0.252747        -0.967742           0.782609   \n",
              "341        2     Biscoe          0.648352        -0.516129           1.086957   \n",
              "342        2     Biscoe          0.076923        -0.806452           0.652174   \n",
              "343        2     Biscoe          0.593407        -0.387097           0.695652   \n",
              "\n",
              "     body_mass_g  sex  Torgersen  Biscoe  Dream  \n",
              "0      -0.244898    1        0.0     0.0    1.0  \n",
              "1      -0.204082    0        0.0     0.0    1.0  \n",
              "2      -0.653061    0        0.0     0.0    1.0  \n",
              "4      -0.489796    0        0.0     0.0    1.0  \n",
              "5      -0.326531    1        0.0     0.0    1.0  \n",
              "..           ...  ...        ...     ...    ...  \n",
              "338     0.714286    0        1.0     0.0    0.0  \n",
              "340     0.653061    0        1.0     0.0    0.0  \n",
              "341     1.387755    1        1.0     0.0    0.0  \n",
              "342     0.938776    0        1.0     0.0    0.0  \n",
              "343     1.102041    1        1.0     0.0    0.0  \n",
              "\n",
              "[333 rows x 10 columns]"
            ]
          },
          "execution_count": 189,
          "metadata": {},
          "output_type": "execute_result"
        }
      ],
      "source": [
        "penguins"
      ]
    },
    {
      "cell_type": "code",
      "execution_count": 190,
      "metadata": {
        "id": "rjHdnI-j6xLD"
      },
      "outputs": [],
      "source": [
        "X = penguins.iloc[:,2:]\n",
        "Y = penguins.iloc[:,0]"
      ]
    },
    {
      "cell_type": "code",
      "execution_count": 197,
      "metadata": {
        "colab": {
          "base_uri": "https://localhost:8080/"
        },
        "id": "ipFXcewV-tWz",
        "outputId": "2e88601f-83d6-4980-9c8b-22de0d5c1cbe"
      },
      "outputs": [
        {
          "data": {
            "text/plain": [
              "((333, 8), (333,))"
            ]
          },
          "execution_count": 197,
          "metadata": {},
          "output_type": "execute_result"
        }
      ],
      "source": [
        "X.shape, Y.shape"
      ]
    },
    {
      "cell_type": "code",
      "execution_count": 198,
      "metadata": {
        "id": "017jCREH682Z"
      },
      "outputs": [],
      "source": [
        "model = keras.Sequential()\n",
        "model.add(layers.Dense(units = 64, activation = 'relu', input_shape = (8,)))\n",
        "model.add(layers.Dense(units = 32, activation = 'relu'))\n",
        "model.add(layers.Dense(units = 3, activation = 'softmax'))"
      ]
    },
    {
      "cell_type": "code",
      "execution_count": 199,
      "metadata": {
        "id": "iaRWHVqX-cCK"
      },
      "outputs": [],
      "source": [
        "model.compile(\n",
        "    optimizer = 'adam',\n",
        "    loss = 'sparse_categorical_crossentropy',\n",
        "    metrics = 'accuracy'\n",
        ")"
      ]
    },
    {
      "cell_type": "code",
      "execution_count": 200,
      "metadata": {
        "colab": {
          "base_uri": "https://localhost:8080/"
        },
        "id": "0fvR7HaY-ddS",
        "outputId": "d563e0c3-ea82-457a-df42-06e653c8894c"
      },
      "outputs": [
        {
          "name": "stdout",
          "output_type": "stream",
          "text": [
            "Epoch 1/100\n",
            "9/9 [==============================] - 1s 29ms/step - loss: 1.0351 - accuracy: 0.5075 - val_loss: 0.9276 - val_accuracy: 0.9851\n",
            "Epoch 2/100\n",
            "9/9 [==============================] - 0s 6ms/step - loss: 0.8739 - accuracy: 0.8346 - val_loss: 0.8231 - val_accuracy: 1.0000\n",
            "Epoch 3/100\n",
            "9/9 [==============================] - 0s 8ms/step - loss: 0.7318 - accuracy: 0.8835 - val_loss: 0.6835 - val_accuracy: 1.0000\n",
            "Epoch 4/100\n",
            "9/9 [==============================] - 0s 7ms/step - loss: 0.6026 - accuracy: 0.8985 - val_loss: 0.5441 - val_accuracy: 1.0000\n",
            "Epoch 5/100\n",
            "9/9 [==============================] - 0s 8ms/step - loss: 0.4859 - accuracy: 0.9135 - val_loss: 0.4090 - val_accuracy: 1.0000\n",
            "Epoch 6/100\n",
            "9/9 [==============================] - 0s 7ms/step - loss: 0.3865 - accuracy: 0.9361 - val_loss: 0.2911 - val_accuracy: 1.0000\n",
            "Epoch 7/100\n",
            "9/9 [==============================] - 0s 7ms/step - loss: 0.3047 - accuracy: 0.9699 - val_loss: 0.2005 - val_accuracy: 1.0000\n",
            "Epoch 8/100\n",
            "9/9 [==============================] - 0s 7ms/step - loss: 0.2361 - accuracy: 0.9774 - val_loss: 0.1330 - val_accuracy: 1.0000\n",
            "Epoch 9/100\n",
            "9/9 [==============================] - 0s 7ms/step - loss: 0.1850 - accuracy: 0.9774 - val_loss: 0.0897 - val_accuracy: 1.0000\n",
            "Epoch 10/100\n",
            "9/9 [==============================] - 0s 6ms/step - loss: 0.1438 - accuracy: 0.9812 - val_loss: 0.0634 - val_accuracy: 1.0000\n",
            "Epoch 11/100\n",
            "9/9 [==============================] - 0s 7ms/step - loss: 0.1150 - accuracy: 0.9812 - val_loss: 0.0474 - val_accuracy: 1.0000\n",
            "Epoch 12/100\n",
            "9/9 [==============================] - 0s 6ms/step - loss: 0.0915 - accuracy: 0.9887 - val_loss: 0.0373 - val_accuracy: 1.0000\n",
            "Epoch 13/100\n",
            "9/9 [==============================] - 0s 6ms/step - loss: 0.0750 - accuracy: 0.9925 - val_loss: 0.0299 - val_accuracy: 1.0000\n",
            "Epoch 14/100\n",
            "9/9 [==============================] - 0s 7ms/step - loss: 0.0621 - accuracy: 0.9962 - val_loss: 0.0244 - val_accuracy: 1.0000\n",
            "Epoch 15/100\n",
            "9/9 [==============================] - 0s 8ms/step - loss: 0.0517 - accuracy: 0.9962 - val_loss: 0.0203 - val_accuracy: 1.0000\n",
            "Epoch 16/100\n",
            "9/9 [==============================] - 0s 6ms/step - loss: 0.0439 - accuracy: 0.9962 - val_loss: 0.0169 - val_accuracy: 1.0000\n",
            "Epoch 17/100\n",
            "9/9 [==============================] - 0s 8ms/step - loss: 0.0379 - accuracy: 0.9962 - val_loss: 0.0142 - val_accuracy: 1.0000\n",
            "Epoch 18/100\n",
            "9/9 [==============================] - 0s 8ms/step - loss: 0.0329 - accuracy: 0.9962 - val_loss: 0.0118 - val_accuracy: 1.0000\n",
            "Epoch 19/100\n",
            "9/9 [==============================] - 0s 8ms/step - loss: 0.0293 - accuracy: 0.9962 - val_loss: 0.0101 - val_accuracy: 1.0000\n",
            "Epoch 20/100\n",
            "9/9 [==============================] - 0s 7ms/step - loss: 0.0263 - accuracy: 0.9962 - val_loss: 0.0087 - val_accuracy: 1.0000\n",
            "Epoch 21/100\n",
            "9/9 [==============================] - 0s 7ms/step - loss: 0.0239 - accuracy: 1.0000 - val_loss: 0.0076 - val_accuracy: 1.0000\n",
            "Epoch 22/100\n",
            "9/9 [==============================] - 0s 6ms/step - loss: 0.0219 - accuracy: 1.0000 - val_loss: 0.0068 - val_accuracy: 1.0000\n",
            "Epoch 23/100\n",
            "9/9 [==============================] - 0s 6ms/step - loss: 0.0202 - accuracy: 1.0000 - val_loss: 0.0061 - val_accuracy: 1.0000\n",
            "Epoch 24/100\n",
            "9/9 [==============================] - 0s 8ms/step - loss: 0.0188 - accuracy: 1.0000 - val_loss: 0.0056 - val_accuracy: 1.0000\n",
            "Epoch 25/100\n",
            "9/9 [==============================] - 0s 6ms/step - loss: 0.0177 - accuracy: 1.0000 - val_loss: 0.0052 - val_accuracy: 1.0000\n",
            "Epoch 26/100\n",
            "9/9 [==============================] - 0s 9ms/step - loss: 0.0167 - accuracy: 1.0000 - val_loss: 0.0048 - val_accuracy: 1.0000\n",
            "Epoch 27/100\n",
            "9/9 [==============================] - 0s 6ms/step - loss: 0.0157 - accuracy: 1.0000 - val_loss: 0.0045 - val_accuracy: 1.0000\n",
            "Epoch 28/100\n",
            "9/9 [==============================] - 0s 8ms/step - loss: 0.0148 - accuracy: 1.0000 - val_loss: 0.0041 - val_accuracy: 1.0000\n",
            "Epoch 29/100\n",
            "9/9 [==============================] - 0s 8ms/step - loss: 0.0143 - accuracy: 1.0000 - val_loss: 0.0038 - val_accuracy: 1.0000\n",
            "Epoch 30/100\n",
            "9/9 [==============================] - 0s 6ms/step - loss: 0.0135 - accuracy: 1.0000 - val_loss: 0.0036 - val_accuracy: 1.0000\n",
            "Epoch 31/100\n",
            "9/9 [==============================] - 0s 8ms/step - loss: 0.0128 - accuracy: 1.0000 - val_loss: 0.0034 - val_accuracy: 1.0000\n",
            "Epoch 32/100\n",
            "9/9 [==============================] - 0s 8ms/step - loss: 0.0121 - accuracy: 1.0000 - val_loss: 0.0031 - val_accuracy: 1.0000\n",
            "Epoch 33/100\n",
            "9/9 [==============================] - 0s 8ms/step - loss: 0.0119 - accuracy: 1.0000 - val_loss: 0.0029 - val_accuracy: 1.0000\n",
            "Epoch 34/100\n",
            "9/9 [==============================] - 0s 8ms/step - loss: 0.0112 - accuracy: 1.0000 - val_loss: 0.0027 - val_accuracy: 1.0000\n",
            "Epoch 35/100\n",
            "9/9 [==============================] - 0s 6ms/step - loss: 0.0108 - accuracy: 1.0000 - val_loss: 0.0026 - val_accuracy: 1.0000\n",
            "Epoch 36/100\n",
            "9/9 [==============================] - 0s 9ms/step - loss: 0.0104 - accuracy: 1.0000 - val_loss: 0.0024 - val_accuracy: 1.0000\n",
            "Epoch 37/100\n",
            "9/9 [==============================] - 0s 6ms/step - loss: 0.0104 - accuracy: 1.0000 - val_loss: 0.0023 - val_accuracy: 1.0000\n",
            "Epoch 38/100\n",
            "9/9 [==============================] - 0s 6ms/step - loss: 0.0111 - accuracy: 1.0000 - val_loss: 0.0022 - val_accuracy: 1.0000\n",
            "Epoch 39/100\n",
            "9/9 [==============================] - 0s 8ms/step - loss: 0.0092 - accuracy: 1.0000 - val_loss: 0.0021 - val_accuracy: 1.0000\n",
            "Epoch 40/100\n",
            "9/9 [==============================] - 0s 8ms/step - loss: 0.0095 - accuracy: 1.0000 - val_loss: 0.0020 - val_accuracy: 1.0000\n",
            "Epoch 41/100\n",
            "9/9 [==============================] - 0s 8ms/step - loss: 0.0090 - accuracy: 1.0000 - val_loss: 0.0019 - val_accuracy: 1.0000\n",
            "Epoch 42/100\n",
            "9/9 [==============================] - 0s 7ms/step - loss: 0.0084 - accuracy: 1.0000 - val_loss: 0.0018 - val_accuracy: 1.0000\n",
            "Epoch 43/100\n",
            "9/9 [==============================] - 0s 8ms/step - loss: 0.0084 - accuracy: 1.0000 - val_loss: 0.0017 - val_accuracy: 1.0000\n",
            "Epoch 44/100\n",
            "9/9 [==============================] - 0s 6ms/step - loss: 0.0080 - accuracy: 1.0000 - val_loss: 0.0016 - val_accuracy: 1.0000\n",
            "Epoch 45/100\n",
            "9/9 [==============================] - 0s 8ms/step - loss: 0.0077 - accuracy: 1.0000 - val_loss: 0.0016 - val_accuracy: 1.0000\n",
            "Epoch 46/100\n",
            "9/9 [==============================] - 0s 6ms/step - loss: 0.0074 - accuracy: 1.0000 - val_loss: 0.0015 - val_accuracy: 1.0000\n",
            "Epoch 47/100\n",
            "9/9 [==============================] - 0s 8ms/step - loss: 0.0071 - accuracy: 1.0000 - val_loss: 0.0014 - val_accuracy: 1.0000\n",
            "Epoch 48/100\n",
            "9/9 [==============================] - 0s 9ms/step - loss: 0.0071 - accuracy: 1.0000 - val_loss: 0.0014 - val_accuracy: 1.0000\n",
            "Epoch 49/100\n",
            "9/9 [==============================] - 0s 6ms/step - loss: 0.0073 - accuracy: 1.0000 - val_loss: 0.0013 - val_accuracy: 1.0000\n",
            "Epoch 50/100\n",
            "9/9 [==============================] - 0s 6ms/step - loss: 0.0065 - accuracy: 1.0000 - val_loss: 0.0013 - val_accuracy: 1.0000\n",
            "Epoch 51/100\n",
            "9/9 [==============================] - 0s 9ms/step - loss: 0.0067 - accuracy: 1.0000 - val_loss: 0.0012 - val_accuracy: 1.0000\n",
            "Epoch 52/100\n",
            "9/9 [==============================] - 0s 8ms/step - loss: 0.0065 - accuracy: 1.0000 - val_loss: 0.0011 - val_accuracy: 1.0000\n",
            "Epoch 53/100\n",
            "9/9 [==============================] - 0s 6ms/step - loss: 0.0062 - accuracy: 1.0000 - val_loss: 0.0011 - val_accuracy: 1.0000\n",
            "Epoch 54/100\n",
            "9/9 [==============================] - 0s 6ms/step - loss: 0.0060 - accuracy: 1.0000 - val_loss: 0.0010 - val_accuracy: 1.0000\n",
            "Epoch 55/100\n",
            "9/9 [==============================] - 0s 8ms/step - loss: 0.0058 - accuracy: 1.0000 - val_loss: 0.0010 - val_accuracy: 1.0000\n",
            "Epoch 56/100\n",
            "9/9 [==============================] - 0s 8ms/step - loss: 0.0058 - accuracy: 1.0000 - val_loss: 9.7360e-04 - val_accuracy: 1.0000\n",
            "Epoch 57/100\n",
            "9/9 [==============================] - 0s 7ms/step - loss: 0.0062 - accuracy: 1.0000 - val_loss: 9.2247e-04 - val_accuracy: 1.0000\n",
            "Epoch 58/100\n",
            "9/9 [==============================] - 0s 7ms/step - loss: 0.0058 - accuracy: 1.0000 - val_loss: 8.9456e-04 - val_accuracy: 1.0000\n",
            "Epoch 59/100\n",
            "9/9 [==============================] - 0s 6ms/step - loss: 0.0054 - accuracy: 1.0000 - val_loss: 8.7231e-04 - val_accuracy: 1.0000\n",
            "Epoch 60/100\n",
            "9/9 [==============================] - 0s 6ms/step - loss: 0.0054 - accuracy: 1.0000 - val_loss: 8.4776e-04 - val_accuracy: 1.0000\n",
            "Epoch 61/100\n",
            "9/9 [==============================] - 0s 6ms/step - loss: 0.0052 - accuracy: 1.0000 - val_loss: 8.1736e-04 - val_accuracy: 1.0000\n",
            "Epoch 62/100\n",
            "9/9 [==============================] - 0s 6ms/step - loss: 0.0053 - accuracy: 1.0000 - val_loss: 7.8626e-04 - val_accuracy: 1.0000\n",
            "Epoch 63/100\n",
            "9/9 [==============================] - 0s 9ms/step - loss: 0.0049 - accuracy: 1.0000 - val_loss: 7.5483e-04 - val_accuracy: 1.0000\n",
            "Epoch 64/100\n",
            "9/9 [==============================] - 0s 6ms/step - loss: 0.0049 - accuracy: 1.0000 - val_loss: 7.3004e-04 - val_accuracy: 1.0000\n",
            "Epoch 65/100\n",
            "9/9 [==============================] - 0s 6ms/step - loss: 0.0047 - accuracy: 1.0000 - val_loss: 7.0875e-04 - val_accuracy: 1.0000\n",
            "Epoch 66/100\n",
            "9/9 [==============================] - 0s 6ms/step - loss: 0.0048 - accuracy: 1.0000 - val_loss: 6.9079e-04 - val_accuracy: 1.0000\n",
            "Epoch 67/100\n",
            "9/9 [==============================] - 0s 8ms/step - loss: 0.0046 - accuracy: 1.0000 - val_loss: 6.7197e-04 - val_accuracy: 1.0000\n",
            "Epoch 68/100\n",
            "9/9 [==============================] - 0s 8ms/step - loss: 0.0046 - accuracy: 1.0000 - val_loss: 6.4964e-04 - val_accuracy: 1.0000\n",
            "Epoch 69/100\n",
            "9/9 [==============================] - 0s 6ms/step - loss: 0.0043 - accuracy: 1.0000 - val_loss: 6.2503e-04 - val_accuracy: 1.0000\n",
            "Epoch 70/100\n",
            "9/9 [==============================] - 0s 6ms/step - loss: 0.0044 - accuracy: 1.0000 - val_loss: 5.9979e-04 - val_accuracy: 1.0000\n",
            "Epoch 71/100\n",
            "9/9 [==============================] - 0s 8ms/step - loss: 0.0043 - accuracy: 1.0000 - val_loss: 5.8784e-04 - val_accuracy: 1.0000\n",
            "Epoch 72/100\n",
            "9/9 [==============================] - 0s 8ms/step - loss: 0.0041 - accuracy: 1.0000 - val_loss: 5.6968e-04 - val_accuracy: 1.0000\n",
            "Epoch 73/100\n",
            "9/9 [==============================] - 0s 8ms/step - loss: 0.0042 - accuracy: 1.0000 - val_loss: 5.6278e-04 - val_accuracy: 1.0000\n",
            "Epoch 74/100\n",
            "9/9 [==============================] - 0s 6ms/step - loss: 0.0039 - accuracy: 1.0000 - val_loss: 5.4302e-04 - val_accuracy: 1.0000\n",
            "Epoch 75/100\n",
            "9/9 [==============================] - 0s 6ms/step - loss: 0.0039 - accuracy: 1.0000 - val_loss: 5.2948e-04 - val_accuracy: 1.0000\n",
            "Epoch 76/100\n",
            "9/9 [==============================] - 0s 10ms/step - loss: 0.0037 - accuracy: 1.0000 - val_loss: 5.1839e-04 - val_accuracy: 1.0000\n",
            "Epoch 77/100\n",
            "9/9 [==============================] - 0s 6ms/step - loss: 0.0037 - accuracy: 1.0000 - val_loss: 5.0607e-04 - val_accuracy: 1.0000\n",
            "Epoch 78/100\n",
            "9/9 [==============================] - 0s 6ms/step - loss: 0.0035 - accuracy: 1.0000 - val_loss: 4.9767e-04 - val_accuracy: 1.0000\n",
            "Epoch 79/100\n",
            "9/9 [==============================] - 0s 9ms/step - loss: 0.0037 - accuracy: 1.0000 - val_loss: 4.8087e-04 - val_accuracy: 1.0000\n",
            "Epoch 80/100\n",
            "9/9 [==============================] - 0s 6ms/step - loss: 0.0035 - accuracy: 1.0000 - val_loss: 4.6612e-04 - val_accuracy: 1.0000\n",
            "Epoch 81/100\n",
            "9/9 [==============================] - 0s 6ms/step - loss: 0.0035 - accuracy: 1.0000 - val_loss: 4.5147e-04 - val_accuracy: 1.0000\n",
            "Epoch 82/100\n",
            "9/9 [==============================] - 0s 6ms/step - loss: 0.0034 - accuracy: 1.0000 - val_loss: 4.4226e-04 - val_accuracy: 1.0000\n",
            "Epoch 83/100\n",
            "9/9 [==============================] - 0s 6ms/step - loss: 0.0033 - accuracy: 1.0000 - val_loss: 4.2903e-04 - val_accuracy: 1.0000\n",
            "Epoch 84/100\n",
            "9/9 [==============================] - 0s 6ms/step - loss: 0.0032 - accuracy: 1.0000 - val_loss: 4.1534e-04 - val_accuracy: 1.0000\n",
            "Epoch 85/100\n",
            "9/9 [==============================] - 0s 6ms/step - loss: 0.0032 - accuracy: 1.0000 - val_loss: 4.0593e-04 - val_accuracy: 1.0000\n",
            "Epoch 86/100\n",
            "9/9 [==============================] - 0s 8ms/step - loss: 0.0031 - accuracy: 1.0000 - val_loss: 3.9279e-04 - val_accuracy: 1.0000\n",
            "Epoch 87/100\n",
            "9/9 [==============================] - 0s 8ms/step - loss: 0.0031 - accuracy: 1.0000 - val_loss: 3.8329e-04 - val_accuracy: 1.0000\n",
            "Epoch 88/100\n",
            "9/9 [==============================] - 0s 8ms/step - loss: 0.0030 - accuracy: 1.0000 - val_loss: 3.7313e-04 - val_accuracy: 1.0000\n",
            "Epoch 89/100\n",
            "9/9 [==============================] - 0s 6ms/step - loss: 0.0030 - accuracy: 1.0000 - val_loss: 3.6450e-04 - val_accuracy: 1.0000\n",
            "Epoch 90/100\n",
            "9/9 [==============================] - 0s 7ms/step - loss: 0.0029 - accuracy: 1.0000 - val_loss: 3.5684e-04 - val_accuracy: 1.0000\n",
            "Epoch 91/100\n",
            "9/9 [==============================] - 0s 6ms/step - loss: 0.0029 - accuracy: 1.0000 - val_loss: 3.5120e-04 - val_accuracy: 1.0000\n",
            "Epoch 92/100\n",
            "9/9 [==============================] - 0s 6ms/step - loss: 0.0028 - accuracy: 1.0000 - val_loss: 3.4461e-04 - val_accuracy: 1.0000\n",
            "Epoch 93/100\n",
            "9/9 [==============================] - 0s 8ms/step - loss: 0.0028 - accuracy: 1.0000 - val_loss: 3.3596e-04 - val_accuracy: 1.0000\n",
            "Epoch 94/100\n",
            "9/9 [==============================] - 0s 8ms/step - loss: 0.0027 - accuracy: 1.0000 - val_loss: 3.2907e-04 - val_accuracy: 1.0000\n",
            "Epoch 95/100\n",
            "9/9 [==============================] - 0s 8ms/step - loss: 0.0027 - accuracy: 1.0000 - val_loss: 3.2073e-04 - val_accuracy: 1.0000\n",
            "Epoch 96/100\n",
            "9/9 [==============================] - 0s 8ms/step - loss: 0.0026 - accuracy: 1.0000 - val_loss: 3.1177e-04 - val_accuracy: 1.0000\n",
            "Epoch 97/100\n",
            "9/9 [==============================] - 0s 6ms/step - loss: 0.0026 - accuracy: 1.0000 - val_loss: 3.0239e-04 - val_accuracy: 1.0000\n",
            "Epoch 98/100\n",
            "9/9 [==============================] - 0s 8ms/step - loss: 0.0026 - accuracy: 1.0000 - val_loss: 2.9611e-04 - val_accuracy: 1.0000\n",
            "Epoch 99/100\n",
            "9/9 [==============================] - 0s 8ms/step - loss: 0.0026 - accuracy: 1.0000 - val_loss: 2.8807e-04 - val_accuracy: 1.0000\n",
            "Epoch 100/100\n",
            "9/9 [==============================] - 0s 8ms/step - loss: 0.0026 - accuracy: 1.0000 - val_loss: 2.8673e-04 - val_accuracy: 1.0000\n"
          ]
        }
      ],
      "source": [
        "History = model.fit(\n",
        "    X,Y,\n",
        "    epochs = 100,\n",
        "    batch_size = 32,\n",
        "    validation_split = 0.2,\n",
        "    verbose = 1\n",
        ")"
      ]
    },
    {
      "cell_type": "code",
      "execution_count": 206,
      "metadata": {
        "colab": {
          "base_uri": "https://localhost:8080/"
        },
        "id": "squ-ARzC-jPy",
        "outputId": "a6f20040-e925-4e80-e61c-cf6a233a9844"
      },
      "outputs": [
        {
          "name": "stdout",
          "output_type": "stream",
          "text": [
            "11/11 [==============================] - 0s 3ms/step\n"
          ]
        }
      ],
      "source": [
        "Y_pred = model.predict(X)"
      ]
    },
    {
      "cell_type": "code",
      "execution_count": 207,
      "metadata": {
        "id": "4NNGMaIq_rNZ"
      },
      "outputs": [],
      "source": [
        "Y_pred = np.argmax(Y_pred, axis = 1)"
      ]
    },
    {
      "cell_type": "code",
      "execution_count": 208,
      "metadata": {
        "colab": {
          "base_uri": "https://localhost:8080/"
        },
        "id": "k_pD-Pot_zIC",
        "outputId": "f74e8dda-cde6-40a0-d457-18c7ab387260"
      },
      "outputs": [
        {
          "data": {
            "text/plain": [
              "array([0, 0, 0, 0, 0, 0, 0, 0, 0, 0, 0, 0, 0, 0, 0, 0, 0, 0, 0, 0, 0, 0,\n",
              "       0, 0, 0, 0, 0, 0, 0, 0, 0, 0, 0, 0, 0, 0, 0, 0, 0, 0, 0, 0, 0, 0,\n",
              "       0, 0, 0, 0, 0, 0, 0, 0, 0, 0, 0, 0, 0, 0, 0, 0, 0, 0, 0, 0, 0, 0,\n",
              "       0, 0, 0, 0, 0, 0, 0, 0, 0, 0, 0, 0, 0, 0, 0, 0, 0, 0, 0, 0, 0, 0,\n",
              "       0, 0, 0, 0, 0, 0, 0, 0, 0, 0, 0, 0, 0, 0, 0, 0, 0, 0, 0, 0, 0, 0,\n",
              "       0, 0, 0, 0, 0, 0, 0, 0, 0, 0, 0, 0, 0, 0, 0, 0, 0, 0, 0, 0, 0, 0,\n",
              "       0, 0, 0, 0, 0, 0, 0, 0, 0, 0, 0, 0, 0, 0, 1, 1, 1, 1, 1, 1, 1, 1,\n",
              "       1, 1, 1, 1, 1, 1, 1, 1, 1, 1, 1, 1, 1, 1, 1, 1, 1, 1, 1, 1, 1, 1,\n",
              "       1, 1, 1, 1, 1, 1, 1, 1, 1, 1, 1, 1, 1, 1, 1, 1, 1, 1, 1, 1, 1, 1,\n",
              "       1, 1, 1, 1, 1, 1, 1, 1, 1, 1, 1, 1, 1, 1, 1, 1, 2, 2, 2, 2, 2, 2,\n",
              "       2, 2, 2, 2, 2, 2, 2, 2, 2, 2, 2, 2, 2, 2, 2, 2, 2, 2, 2, 2, 2, 2,\n",
              "       2, 2, 2, 2, 2, 2, 2, 2, 2, 2, 2, 2, 2, 2, 2, 2, 2, 2, 2, 2, 2, 2,\n",
              "       2, 2, 2, 2, 2, 2, 2, 2, 2, 2, 2, 2, 2, 2, 2, 2, 2, 2, 2, 2, 2, 2,\n",
              "       2, 2, 2, 2, 2, 2, 2, 2, 2, 2, 2, 2, 2, 2, 2, 2, 2, 2, 2, 2, 2, 2,\n",
              "       2, 2, 2, 2, 2, 2, 2, 2, 2, 2, 2, 2, 2, 2, 2, 2, 2, 2, 2, 2, 2, 2,\n",
              "       2, 2, 2])"
            ]
          },
          "execution_count": 208,
          "metadata": {},
          "output_type": "execute_result"
        }
      ],
      "source": [
        "Y_pred"
      ]
    },
    {
      "cell_type": "code",
      "execution_count": 211,
      "metadata": {
        "id": "yfDcyQGF_5DY"
      },
      "outputs": [],
      "source": [
        "Y = Y.values"
      ]
    },
    {
      "cell_type": "code",
      "execution_count": 212,
      "metadata": {
        "colab": {
          "base_uri": "https://localhost:8080/"
        },
        "id": "AV40gPC-ABgJ",
        "outputId": "30b78ac4-7cbe-43bb-971c-c16f49654111"
      },
      "outputs": [
        {
          "data": {
            "text/plain": [
              "array([0, 0, 0, 0, 0, 0, 0, 0, 0, 0, 0, 0, 0, 0, 0, 0, 0, 0, 0, 0, 0, 0,\n",
              "       0, 0, 0, 0, 0, 0, 0, 0, 0, 0, 0, 0, 0, 0, 0, 0, 0, 0, 0, 0, 0, 0,\n",
              "       0, 0, 0, 0, 0, 0, 0, 0, 0, 0, 0, 0, 0, 0, 0, 0, 0, 0, 0, 0, 0, 0,\n",
              "       0, 0, 0, 0, 0, 0, 0, 0, 0, 0, 0, 0, 0, 0, 0, 0, 0, 0, 0, 0, 0, 0,\n",
              "       0, 0, 0, 0, 0, 0, 0, 0, 0, 0, 0, 0, 0, 0, 0, 0, 0, 0, 0, 0, 0, 0,\n",
              "       0, 0, 0, 0, 0, 0, 0, 0, 0, 0, 0, 0, 0, 0, 0, 0, 0, 0, 0, 0, 0, 0,\n",
              "       0, 0, 0, 0, 0, 0, 0, 0, 0, 0, 0, 0, 0, 0, 1, 1, 1, 1, 1, 1, 1, 1,\n",
              "       1, 1, 1, 1, 1, 1, 1, 1, 1, 1, 1, 1, 1, 1, 1, 1, 1, 1, 1, 1, 1, 1,\n",
              "       1, 1, 1, 1, 1, 1, 1, 1, 1, 1, 1, 1, 1, 1, 1, 1, 1, 1, 1, 1, 1, 1,\n",
              "       1, 1, 1, 1, 1, 1, 1, 1, 1, 1, 1, 1, 1, 1, 1, 1, 2, 2, 2, 2, 2, 2,\n",
              "       2, 2, 2, 2, 2, 2, 2, 2, 2, 2, 2, 2, 2, 2, 2, 2, 2, 2, 2, 2, 2, 2,\n",
              "       2, 2, 2, 2, 2, 2, 2, 2, 2, 2, 2, 2, 2, 2, 2, 2, 2, 2, 2, 2, 2, 2,\n",
              "       2, 2, 2, 2, 2, 2, 2, 2, 2, 2, 2, 2, 2, 2, 2, 2, 2, 2, 2, 2, 2, 2,\n",
              "       2, 2, 2, 2, 2, 2, 2, 2, 2, 2, 2, 2, 2, 2, 2, 2, 2, 2, 2, 2, 2, 2,\n",
              "       2, 2, 2, 2, 2, 2, 2, 2, 2, 2, 2, 2, 2, 2, 2, 2, 2, 2, 2, 2, 2, 2,\n",
              "       2, 2, 2])"
            ]
          },
          "execution_count": 212,
          "metadata": {},
          "output_type": "execute_result"
        }
      ],
      "source": [
        "Y"
      ]
    },
    {
      "cell_type": "code",
      "execution_count": 214,
      "metadata": {
        "colab": {
          "base_uri": "https://localhost:8080/"
        },
        "id": "YIsr28kJAL7k",
        "outputId": "c08f2383-016c-4e77-ddd1-d79b5f2771c1"
      },
      "outputs": [
        {
          "data": {
            "text/plain": [
              "1.0"
            ]
          },
          "execution_count": 214,
          "metadata": {},
          "output_type": "execute_result"
        }
      ],
      "source": [
        "acc = accuracy_score(Y_pred, Y)\n",
        "acc"
      ]
    },
    {
      "cell_type": "code",
      "execution_count": 215,
      "metadata": {
        "id": "CthEhTjUARl3"
      },
      "outputs": [],
      "source": [
        "def plot_history(History):\n",
        "    hist = pd.DataFrame(History.history)\n",
        "    hist['epoch']= History.epoch\n",
        "\n",
        "    plt.figure(figsize=(16, 8))\n",
        "    plt.subplot(1, 2, 1)\n",
        "    plt.xlabel('Epoch')\n",
        "    plt.ylabel('Loss')\n",
        "    plt.plot(hist['epoch'], hist['loss'], label='Train Loss')\n",
        "    plt.plot(hist['epoch'], hist['val_loss'], label='Val Loss')\n",
        "\n",
        "    plt.subplot(1, 2, 2)\n",
        "    plt.xlabel('Epoch')\n",
        "    plt.ylabel('Accuracy')\n",
        "    plt.plot(hist['epoch'], hist['accuracy'], label='Train Accuracy')\n",
        "    plt.plot(hist['epoch'], hist['val_accuracy'], label='Val Accuracy')\n",
        "\n",
        "    plt.legend()\n",
        "    plt.show()\n"
      ]
    },
    {
      "cell_type": "code",
      "execution_count": 216,
      "metadata": {
        "colab": {
          "base_uri": "https://localhost:8080/",
          "height": 696
        },
        "id": "RhS3-yL7AVRR",
        "outputId": "fac3db5f-13ca-4725-fde0-4b7b259cacfd"
      },
      "outputs": [
        {
          "data": {
            "image/png": "[encoded data removed]",
            "text/plain": [
              "<Figure size 1600x800 with 2 Axes>"
            ]
          },
          "metadata": {},
          "output_type": "display_data"
        }
      ],
      "source": [
        "plot_history(History)"
      ]
    },
    {
      "cell_type": "code",
      "execution_count": null,
      "metadata": {
        "id": "PFWKWXJ7AWZW"
      },
      "outputs": [],
      "source": []
    }
  ],
  "metadata": {
    "colab": {
      "provenance": []
    },
    "kernelspec": {
      "display_name": "Python 3",
      "name": "python3"
    },
    "language_info": {
      "name": "python"
    }
  },
  "nbformat": 4,
  "nbformat_minor": 0
}
